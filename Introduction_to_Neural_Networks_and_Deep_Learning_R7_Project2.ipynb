{
  "nbformat": 4,
  "nbformat_minor": 0,
  "metadata": {
    "colab": {
      "name": "Introduction to Neural Networks and Deep Learning_R7_Project2.ipynb",
      "version": "0.3.2",
      "provenance": [],
      "collapsed_sections": []
    },
    "kernelspec": {
      "name": "python3",
      "display_name": "Python 3"
    },
    "accelerator": "GPU"
  },
  "cells": [
    {
      "metadata": {
        "id": "iyEwAijkHSfh",
        "colab_type": "code",
        "colab": {}
      },
      "cell_type": "code",
      "source": [
        "# ● Understand the basic Image Classification pipeline and the data-driven\n",
        "# approach (train/predict stages)\n",
        "# ● Data fetching and understand the train/val/test splits.\n",
        "# ● Implement and apply an optimal k-Nearest Neighbor (kNN) classifier (7.5\n",
        "# points)\n",
        "# ● Print the classification metric report (2.5 points)\n",
        "# ● Implement and apply a deep neural network classifier including (feedforward\n",
        "# neural network, RELU activations) (5 points)\n",
        "# ● Understand and be able to implement (vectorized) backpropagation (cost\n",
        "# stochastic gradient descent, cross entropy loss, cost functions) (2.5 points)\n",
        "# ● Implement batch normalization for training the neural network (2.5 points\n",
        "# ● Understand the differences and trade-offs between traditional and NN\n",
        "# classifiers with the help of classification metrics (5 points)"
      ],
      "execution_count": 0,
      "outputs": []
    },
    {
      "metadata": {
        "id": "vQfw6KDFIhiE",
        "colab_type": "code",
        "colab": {}
      },
      "cell_type": "code",
      "source": [
        "from __future__ import print_function\n",
        "from sklearn.model_selection import train_test_split\n",
        "from sklearn.neighbors import KNeighborsClassifier\n",
        "from sklearn.metrics import confusion_matrix\n",
        "from sklearn.metrics import classification_report\n",
        "from sklearn import datasets\n",
        "from skimage import exposure\n",
        "import numpy as np\n",
        "import imutils\n",
        "import cv2\n",
        "import matplotlib.pyplot as plt\n",
        "import h5py"
      ],
      "execution_count": 0,
      "outputs": []
    },
    {
      "metadata": {
        "id": "9bl2u4TOzt6E",
        "colab_type": "code",
        "colab": {}
      },
      "cell_type": "code",
      "source": [
        "# ● Understand the basic Image Classification pipeline and the data-driven approach (train/predict stages)\n",
        "# ● Data fetching and understand the train/val/test splits."
      ],
      "execution_count": 0,
      "outputs": []
    },
    {
      "metadata": {
        "id": "A99NAggRW9BO",
        "colab_type": "code",
        "outputId": "ecaac9f5-67e8-4912-abbd-f79024780ae5",
        "colab": {
          "base_uri": "https://localhost:8080/",
          "height": 122
        }
      },
      "cell_type": "code",
      "source": [
        "from google.colab import drive\n",
        "drive.mount('/content/drive')"
      ],
      "execution_count": 4,
      "outputs": [
        {
          "output_type": "stream",
          "text": [
            "Go to this URL in a browser: https://accounts.google.com/o/oauth2/auth?client_id=947318989803-6bn6qk8qdgf4n4g3pfee6491hc0brc4i.apps.googleusercontent.com&redirect_uri=urn%3Aietf%3Awg%3Aoauth%3A2.0%3Aoob&scope=email%20https%3A%2F%2Fwww.googleapis.com%2Fauth%2Fdocs.test%20https%3A%2F%2Fwww.googleapis.com%2Fauth%2Fdrive%20https%3A%2F%2Fwww.googleapis.com%2Fauth%2Fdrive.photos.readonly%20https%3A%2F%2Fwww.googleapis.com%2Fauth%2Fpeopleapi.readonly&response_type=code\n",
            "\n",
            "Enter your authorization code:\n",
            "··········\n",
            "Mounted at /content/drive\n"
          ],
          "name": "stdout"
        }
      ]
    },
    {
      "metadata": {
        "id": "vK7Q9hgejER4",
        "colab_type": "code",
        "outputId": "6f1a48d2-e570-439d-dfdd-6d56e02fa1e1",
        "colab": {
          "base_uri": "https://localhost:8080/",
          "height": 68
        }
      },
      "cell_type": "code",
      "source": [
        "# Open the file as readonly\n",
        "h5f = h5py.File('/content/drive/My Drive/Data/SVHN_single_grey1.h5', 'r')\n",
        "\n",
        "# Load the training, test and validation set\n",
        "X_train = h5f['X_train'][:]\n",
        "y_train = h5f['y_train'][:]\n",
        "X_test = h5f['X_test'][:]\n",
        "y_test = h5f['y_test'][:]\n",
        "X_val = h5f['X_val'][:]\n",
        "y_val = h5f['y_val'][:]\n",
        "\n",
        "# Close this file\n",
        "h5f.close()\n",
        "\n",
        "print('Training set', X_train.shape, y_train.shape)\n",
        "print('Validation set', X_val.shape, y_val.shape)\n",
        "print('Test set', X_test.shape, y_test.shape)"
      ],
      "execution_count": 37,
      "outputs": [
        {
          "output_type": "stream",
          "text": [
            "Training set (42000, 32, 32) (42000,)\n",
            "Validation set (60000, 32, 32) (60000,)\n",
            "Test set (18000, 32, 32) (18000,)\n"
          ],
          "name": "stdout"
        }
      ]
    },
    {
      "metadata": {
        "id": "6l2ZW_RAgAby",
        "colab_type": "code",
        "outputId": "48fa1df5-9b4f-4717-c9f3-7fd54d9b13b9",
        "colab": {
          "base_uri": "https://localhost:8080/",
          "height": 34
        }
      },
      "cell_type": "code",
      "source": [
        "X_train.shape"
      ],
      "execution_count": 6,
      "outputs": [
        {
          "output_type": "execute_result",
          "data": {
            "text/plain": [
              "(42000, 32, 32)"
            ]
          },
          "metadata": {
            "tags": []
          },
          "execution_count": 6
        }
      ]
    },
    {
      "metadata": {
        "id": "qYZ-1N8egEVg",
        "colab_type": "code",
        "outputId": "91dd2eb2-b2ef-409a-ad05-18cbdb5e878f",
        "colab": {
          "base_uri": "https://localhost:8080/",
          "height": 34
        }
      },
      "cell_type": "code",
      "source": [
        "y_train.shape"
      ],
      "execution_count": 7,
      "outputs": [
        {
          "output_type": "execute_result",
          "data": {
            "text/plain": [
              "(42000,)"
            ]
          },
          "metadata": {
            "tags": []
          },
          "execution_count": 7
        }
      ]
    },
    {
      "metadata": {
        "id": "XLzWWIqXITb2",
        "colab_type": "code",
        "outputId": "2163b544-b8d4-4e73-b883-41835c347a11",
        "colab": {
          "base_uri": "https://localhost:8080/",
          "height": 68
        }
      },
      "cell_type": "code",
      "source": [
        "print(\"training data points: {}\".format(len(y_train)))\n",
        "print(\"validation data points: {}\".format(len(y_val)))\n",
        "print(\"testing data points: {}\".format(len(y_test)))"
      ],
      "execution_count": 8,
      "outputs": [
        {
          "output_type": "stream",
          "text": [
            "training data points: 42000\n",
            "validation data points: 60000\n",
            "testing data points: 18000\n"
          ],
          "name": "stdout"
        }
      ]
    },
    {
      "metadata": {
        "id": "T8tTNTxygqxh",
        "colab_type": "code",
        "colab": {}
      },
      "cell_type": "code",
      "source": [
        "# Reshape the data from 32x32 to 1024 to match input dimensions \n",
        "X_train = X_train.reshape(X_train.shape[0],  1024)\n",
        "X_test = X_test.reshape(X_test.shape[0], 1024)\n",
        "X_val = X_val.reshape(X_val.shape[0], 1024)"
      ],
      "execution_count": 0,
      "outputs": []
    },
    {
      "metadata": {
        "id": "_tf0_9WJ4yvB",
        "colab_type": "code",
        "colab": {
          "base_uri": "https://localhost:8080/",
          "height": 381
        },
        "outputId": "316672a7-afeb-4c29-e362-ac16116d7be8"
      },
      "cell_type": "code",
      "source": [
        "# Check images and labels for their correctness\n",
        "print(y_train[1000])\n",
        "plt.imshow(X_train[1000].reshape(32,32))"
      ],
      "execution_count": 17,
      "outputs": [
        {
          "output_type": "stream",
          "text": [
            "6\n"
          ],
          "name": "stdout"
        },
        {
          "output_type": "execute_result",
          "data": {
            "text/plain": [
              "<matplotlib.image.AxesImage at 0x7fd839b482b0>"
            ]
          },
          "metadata": {
            "tags": []
          },
          "execution_count": 17
        },
        {
          "output_type": "display_data",
          "data": {
            "image/png": "[encoded data removed]",
            "text/plain": [
              "<Figure size 576x396 with 1 Axes>"
            ]
          },
          "metadata": {
            "tags": []
          }
        }
      ]
    },
    {
      "metadata": {
        "id": "g_4erzYAy88a",
        "colab_type": "code",
        "colab": {}
      },
      "cell_type": "code",
      "source": [
        "# Implement and apply an optimal k-Nearest Neighbor (kNN) classifier (7.5points)"
      ],
      "execution_count": 0,
      "outputs": []
    },
    {
      "metadata": {
        "id": "hw0uqXniT9kg",
        "colab_type": "code",
        "colab": {
          "base_uri": "https://localhost:8080/",
          "height": 289
        },
        "outputId": "4244c0fc-f55b-47ec-85c1-438f2555fe82"
      },
      "cell_type": "code",
      "source": [
        "# initialize the values of k for our k-Nearest Neighbor classifier along with the\n",
        "# list of accuracies for each value of k\n",
        "\n",
        "kVals = range(1, 30, 2)\n",
        "accuracies = []\n",
        "\n",
        "# loop over various values of `k` for the k-Nearest Neighbor classifier\n",
        "\n",
        "for k in range(1, 30, 2):\n",
        "          # train the k-Nearest Neighbor classifier with the current value of `k`\n",
        "          model = KNeighborsClassifier(n_neighbors=k,algorithm='brute')\n",
        "          model.fit(X_train, y_train)\n",
        "         \n",
        "          # evaluate the model and update the accuracies list\n",
        "          score = model.score(X_val, y_val)\n",
        "          print(\"k=%d, accuracy=%.2f%%\" % (k, score * 100))\n",
        "          accuracies.append(score)\n",
        "          \n",
        " # find the value of k that has the largest accuracy\n",
        "\n",
        "i = np.argmax(accuracies)\n",
        "print(\"k=%d achieved highest accuracy of %.2f%% on validation data\" % (kVals[i],\n",
        "accuracies[i] * 100))\n",
        "          "
      ],
      "execution_count": 22,
      "outputs": [
        {
          "output_type": "stream",
          "text": [
            "k=1, accuracy=83.78%\n",
            "k=3, accuracy=62.83%\n",
            "k=5, accuracy=62.41%\n",
            "k=7, accuracy=61.43%\n",
            "k=9, accuracy=60.59%\n",
            "k=11, accuracy=60.32%\n",
            "k=13, accuracy=59.88%\n",
            "k=15, accuracy=59.45%\n",
            "k=17, accuracy=59.26%\n",
            "k=19, accuracy=59.10%\n",
            "k=21, accuracy=58.77%\n",
            "k=23, accuracy=58.62%\n",
            "k=25, accuracy=58.41%\n",
            "k=27, accuracy=58.21%\n",
            "k=29, accuracy=58.18%\n",
            "k=1 achieved highest accuracy of 83.78% on validation data\n"
          ],
          "name": "stdout"
        }
      ]
    },
    {
      "metadata": {
        "id": "4xQBiPLW9hUC",
        "colab_type": "text"
      },
      "cell_type": "markdown",
      "source": [
        "Computing the distance to only a single neighbor is substantially more efficient , thus we use K=1 to train and evaluate our classifier on the final testing data:"
      ]
    },
    {
      "metadata": {
        "id": "ilZt8czr9hSJ",
        "colab_type": "text"
      },
      "cell_type": "markdown",
      "source": [
        ""
      ]
    },
    {
      "metadata": {
        "id": "c7rbh__6OoEO",
        "colab_type": "code",
        "outputId": "4f2bad05-e7eb-4778-ca50-86e4c847f6ac",
        "colab": {
          "base_uri": "https://localhost:8080/",
          "height": 510
        }
      },
      "cell_type": "code",
      "source": [
        "\n",
        "# re-train our classifier using the best k value and predict the labels of the\n",
        "# test data\n",
        "\n",
        "model = KNeighborsClassifier(n_neighbors=1,algorithm='brute')\n",
        "model.fit(X_train, y_train)\n",
        "predictions = model.predict(X_test)\n",
        "#print(predictions[1])\n",
        "\n",
        "# show a final classification report demonstrating the accuracy of the classifier\n",
        "# for each of the digits\n",
        "\n",
        "print(\"EVALUATION ON TESTING DATA\")\n",
        "print(classification_report(y_test, predictions))\n",
        "\n",
        "print (\"Confusion matrix\")\n",
        "print(confusion_matrix(y_test,predictions))"
      ],
      "execution_count": 28,
      "outputs": [
        {
          "output_type": "stream",
          "text": [
            "EVALUATION ON TESTING DATA\n",
            "              precision    recall  f1-score   support\n",
            "\n",
            "           0       0.47      0.52      0.49      1814\n",
            "           1       0.50      0.57      0.53      1828\n",
            "           2       0.54      0.48      0.51      1803\n",
            "           3       0.37      0.35      0.36      1719\n",
            "           4       0.60      0.57      0.59      1812\n",
            "           5       0.38      0.33      0.36      1768\n",
            "           6       0.38      0.39      0.39      1832\n",
            "           7       0.63      0.59      0.61      1808\n",
            "           8       0.34      0.37      0.36      1812\n",
            "           9       0.39      0.40      0.40      1804\n",
            "\n",
            "   micro avg       0.46      0.46      0.46     18000\n",
            "   macro avg       0.46      0.46      0.46     18000\n",
            "weighted avg       0.46      0.46      0.46     18000\n",
            "\n",
            "Confusion matrix\n",
            "[[ 935   43   51   64   71   65  185   40  170  190]\n",
            " [  51 1034  109  122  123   69   68  119   67   66]\n",
            " [  63  135  872  131   82   74   65  168   79  134]\n",
            " [  67  166  127  610   88  229   82   80  149  121]\n",
            " [  85  195   51   71 1040   55  110   35   98   72]\n",
            " [  94  103   71  220   54  588  203   48  205  182]\n",
            " [ 225   74   51   72  102  154  711   33  295  115]\n",
            " [  65  173  146  100   34   38   48 1071   53   80]\n",
            " [ 150   62   59  130   86  153  267   44  675  186]\n",
            " [ 238   87   89  115   60  113  115   65  192  730]]\n"
          ],
          "name": "stdout"
        }
      ]
    },
    {
      "metadata": {
        "id": "n9do6cEb-DyT",
        "colab_type": "code",
        "outputId": "a6a4ed2a-c189-40ee-9177-b06ad17fa0fb",
        "colab": {
          "base_uri": "https://localhost:8080/",
          "height": 510
        }
      },
      "cell_type": "code",
      "source": [
        "# re-train our classifier using the best k value and predict the labels of the\n",
        "# test data\n",
        "\n",
        "model = KNeighborsClassifier(n_neighbors=9,algorithm='brute')\n",
        "model.fit(X_train, y_train)\n",
        "predictions = model.predict(X_test)\n",
        "#print(predictions[1])\n",
        "\n",
        "# show a final classification report demonstrating the accuracy of the classifier\n",
        "# for each of the digits\n",
        "\n",
        "print(\"EVALUATION ON TESTING DATA\")\n",
        "print(classification_report(y_test, predictions))\n",
        "\n",
        "print (\"Confusion matrix\")\n",
        "print(confusion_matrix(y_test,predictions))"
      ],
      "execution_count": 25,
      "outputs": [
        {
          "output_type": "stream",
          "text": [
            "EVALUATION ON TESTING DATA\n",
            "              precision    recall  f1-score   support\n",
            "\n",
            "           0       0.43      0.68      0.52      1814\n",
            "           1       0.46      0.73      0.56      1828\n",
            "           2       0.57      0.55      0.56      1803\n",
            "           3       0.42      0.41      0.42      1719\n",
            "           4       0.64      0.63      0.64      1812\n",
            "           5       0.49      0.38      0.43      1768\n",
            "           6       0.49      0.40      0.44      1832\n",
            "           7       0.73      0.60      0.66      1808\n",
            "           8       0.45      0.34      0.39      1812\n",
            "           9       0.56      0.39      0.46      1804\n",
            "\n",
            "   micro avg       0.51      0.51      0.51     18000\n",
            "   macro avg       0.52      0.51      0.51     18000\n",
            "weighted avg       0.52      0.51      0.51     18000\n",
            "\n",
            "Confusion matrix\n",
            "[[1226   59   44   41   52   48  108   28   98  110]\n",
            " [  91 1336   69   88   85   41   22   47   20   29]\n",
            " [ 106  242  985  125   52   36   30  126   44   57]\n",
            " [ 130  271  150  711   56  155   46   57   83   60]\n",
            " [ 120  245   62   59 1145   28   55   18   39   41]\n",
            " [ 173  154   76  284   64  678  138   24  108   69]\n",
            " [ 315  124   40   72  136  147  730   23  189   56]\n",
            " [ 103  234  149   81   30   28   34 1090   24   35]\n",
            " [ 262  117   75  136   93  131  265   23  614   96]\n",
            " [ 333  138   81  106   72  100   69   64  132  709]]\n"
          ],
          "name": "stdout"
        }
      ]
    },
    {
      "metadata": {
        "id": "GbXDOSP3zDb1",
        "colab_type": "code",
        "colab": {}
      },
      "cell_type": "code",
      "source": [
        "# Print the classification metric report (2.5 points)"
      ],
      "execution_count": 0,
      "outputs": []
    },
    {
      "metadata": {
        "id": "aoIs1k2b9S3u",
        "colab_type": "code",
        "outputId": "a085c381-ae42-4ec4-8a0e-0af6cabc17b4",
        "colab": {
          "base_uri": "https://localhost:8080/",
          "height": 323
        }
      },
      "cell_type": "code",
      "source": [
        "print(\"EVALUATION ON TESTING DATA\")\n",
        "print(classification_report(y_test, predictions))"
      ],
      "execution_count": 29,
      "outputs": [
        {
          "output_type": "stream",
          "text": [
            "EVALUATION ON TESTING DATA\n",
            "              precision    recall  f1-score   support\n",
            "\n",
            "           0       0.47      0.52      0.49      1814\n",
            "           1       0.50      0.57      0.53      1828\n",
            "           2       0.54      0.48      0.51      1803\n",
            "           3       0.37      0.35      0.36      1719\n",
            "           4       0.60      0.57      0.59      1812\n",
            "           5       0.38      0.33      0.36      1768\n",
            "           6       0.38      0.39      0.39      1832\n",
            "           7       0.63      0.59      0.61      1808\n",
            "           8       0.34      0.37      0.36      1812\n",
            "           9       0.39      0.40      0.40      1804\n",
            "\n",
            "   micro avg       0.46      0.46      0.46     18000\n",
            "   macro avg       0.46      0.46      0.46     18000\n",
            "weighted avg       0.46      0.46      0.46     18000\n",
            "\n"
          ],
          "name": "stdout"
        }
      ]
    },
    {
      "metadata": {
        "id": "t4FNRyP8pXqd",
        "colab_type": "code",
        "colab": {}
      },
      "cell_type": "code",
      "source": [
        "import pandas \n",
        "\n",
        "import glob\n",
        "\n",
        "import matplotlib.pylab as plt\n",
        "import matplotlib.cm as cm\n",
        "%matplotlib inline\n",
        "\n",
        "import warnings\n",
        "warnings.filterwarnings('ignore')"
      ],
      "execution_count": 0,
      "outputs": []
    },
    {
      "metadata": {
        "id": "Te0R6snTyV4F",
        "colab_type": "code",
        "colab": {}
      },
      "cell_type": "code",
      "source": [
        "# Implement and apply a deep neural network classifier including (feedforward neural network, RELU activations) (5 points)"
      ],
      "execution_count": 0,
      "outputs": []
    },
    {
      "metadata": {
        "id": "Q0A8YnjMpF7C",
        "colab_type": "code",
        "colab": {}
      },
      "cell_type": "code",
      "source": [
        "import tensorflow as tf\n",
        "tf.set_random_seed(42)\n",
        "import keras"
      ],
      "execution_count": 0,
      "outputs": []
    },
    {
      "metadata": {
        "id": "15GrHg0Di0vV",
        "colab_type": "code",
        "colab": {}
      },
      "cell_type": "code",
      "source": [
        "#Change train and test labels into one-hot vectors\n",
        "y_train = tf.keras.utils.to_categorical(y_train,num_classes=10)\n",
        "y_test = tf.keras.utils.to_categorical(y_test,num_classes=10)\n",
        "y_val = tf.keras.utils.to_categorical(y_val,num_classes=10)"
      ],
      "execution_count": 0,
      "outputs": []
    },
    {
      "metadata": {
        "id": "gnS0MSdipZQu",
        "colab_type": "code",
        "colab": {}
      },
      "cell_type": "code",
      "source": [
        "#Initialize Sequential model\n",
        "model = tf.keras.models.Sequential()\n",
        "\n",
        "#Reshape data from 2D to 1D -> 32x32 to 1024\n",
        "model.add(tf.keras.layers.Reshape((1024,),input_shape=(32,32,)))\n"
      ],
      "execution_count": 0,
      "outputs": []
    },
    {
      "metadata": {
        "id": "muJm-T3UpeO5",
        "colab_type": "code",
        "colab": {}
      },
      "cell_type": "code",
      "source": [
        "#Add 1st hidden layer\n",
        "model.add(tf.keras.layers.Dense(200, activation='relu'))\n",
        "\n",
        "#Add 2nd hidden layer\n",
        "model.add(tf.keras.layers.Dense(100, activation='relu'))\n"
      ],
      "execution_count": 0,
      "outputs": []
    },
    {
      "metadata": {
        "id": "7aMHbTedydye",
        "colab_type": "code",
        "colab": {}
      },
      "cell_type": "code",
      "source": [
        "# Understand and be able to implement (vectorized) backpropagation (cost stochastic gradient descent, cross entropy loss, cost functions) (2.5 points)"
      ],
      "execution_count": 0,
      "outputs": []
    },
    {
      "metadata": {
        "id": "MhIyH_JtlfbM",
        "colab_type": "code",
        "outputId": "512746a4-bd31-4ef3-c1a9-b5432122621c",
        "colab": {
          "base_uri": "https://localhost:8080/",
          "height": 462
        }
      },
      "cell_type": "code",
      "source": [
        "#Add OUTPUT layer\n",
        "model.add(tf.keras.layers.Dense(10, activation='softmax'))\n",
        "\n",
        "#Compile the model\n",
        "model.compile(optimizer='sgd', loss='categorical_crossentropy', metrics=['accuracy'])\n",
        "\n",
        "model.fit(X_train,y_train,          \n",
        "          validation_data=(X_val,y_val),\n",
        "          epochs=10,\n",
        "          batch_size=32)"
      ],
      "execution_count": 44,
      "outputs": [
        {
          "output_type": "stream",
          "text": [
            "Train on 42000 samples, validate on 60000 samples\n",
            "WARNING:tensorflow:From /usr/local/lib/python3.6/dist-packages/tensorflow/python/ops/math_ops.py:3066: to_int32 (from tensorflow.python.ops.math_ops) is deprecated and will be removed in a future version.\n",
            "Instructions for updating:\n",
            "Use tf.cast instead.\n",
            "Epoch 1/10\n",
            "42000/42000 [==============================] - 10s 240us/sample - loss: 14.5074 - acc: 0.0999 - val_loss: 14.5063 - val_acc: 0.1000\n",
            "Epoch 2/10\n",
            "42000/42000 [==============================] - 9s 218us/sample - loss: 14.5078 - acc: 0.0999 - val_loss: 14.5063 - val_acc: 0.1000\n",
            "Epoch 3/10\n",
            "42000/42000 [==============================] - 9s 218us/sample - loss: 14.5078 - acc: 0.0999 - val_loss: 14.5063 - val_acc: 0.1000\n",
            "Epoch 4/10\n",
            "42000/42000 [==============================] - 9s 219us/sample - loss: 14.5078 - acc: 0.0999 - val_loss: 14.5063 - val_acc: 0.1000\n",
            "Epoch 5/10\n",
            "42000/42000 [==============================] - 9s 218us/sample - loss: 14.5078 - acc: 0.0999 - val_loss: 14.5063 - val_acc: 0.1000\n",
            "Epoch 6/10\n",
            "42000/42000 [==============================] - 9s 218us/sample - loss: 14.5078 - acc: 0.0999 - val_loss: 14.5063 - val_acc: 0.1000\n",
            "Epoch 7/10\n",
            "42000/42000 [==============================] - 9s 218us/sample - loss: 14.5078 - acc: 0.0999 - val_loss: 14.5063 - val_acc: 0.1000\n",
            "Epoch 8/10\n",
            "42000/42000 [==============================] - 9s 218us/sample - loss: 14.5078 - acc: 0.0999 - val_loss: 14.5063 - val_acc: 0.1000\n",
            "Epoch 9/10\n",
            "42000/42000 [==============================] - 9s 220us/sample - loss: 14.5078 - acc: 0.0999 - val_loss: 14.5063 - val_acc: 0.1000\n",
            "Epoch 10/10\n",
            "42000/42000 [==============================] - 9s 225us/sample - loss: 14.5078 - acc: 0.0999 - val_loss: 14.5063 - val_acc: 0.1000\n"
          ],
          "name": "stdout"
        },
        {
          "output_type": "execute_result",
          "data": {
            "text/plain": [
              "<tensorflow.python.keras.callbacks.History at 0x7fd7f9ab0f28>"
            ]
          },
          "metadata": {
            "tags": []
          },
          "execution_count": 44
        }
      ]
    },
    {
      "metadata": {
        "id": "60WE1JHUllfm",
        "colab_type": "code",
        "outputId": "40d69c53-acf2-4cf5-97ef-f2be007fe8d0",
        "colab": {
          "base_uri": "https://localhost:8080/",
          "height": 68
        }
      },
      "cell_type": "code",
      "source": [
        "print('Evaluation')\n",
        "loss, acc = model.evaluate(X_test, y_test,\n",
        "                           batch_size=32)\n",
        "print('Test loss / test accuracy = {:.4f} / {:.4f}'.format(loss, acc))"
      ],
      "execution_count": 45,
      "outputs": [
        {
          "output_type": "stream",
          "text": [
            "Evaluation\n",
            "18000/18000 [==============================] - 1s 72us/sample - loss: 14.5027 - acc: 0.1002\n",
            "Test loss / test accuracy = 14.5027 / 0.1002\n"
          ],
          "name": "stdout"
        }
      ]
    },
    {
      "metadata": {
        "id": "McnMZZ6aykjX",
        "colab_type": "code",
        "colab": {}
      },
      "cell_type": "code",
      "source": [
        "# Implement batch normalization for training the neural network (2.5 points)"
      ],
      "execution_count": 0,
      "outputs": []
    },
    {
      "metadata": {
        "id": "r0lPL4PmojuP",
        "colab_type": "code",
        "outputId": "b77e9150-c982-431d-f465-97cd4ee62991",
        "colab": {
          "base_uri": "https://localhost:8080/",
          "height": 391
        }
      },
      "cell_type": "code",
      "source": [
        "#Initialize Sequential model\n",
        "model = tf.keras.models.Sequential()\n",
        "\n",
        "#Reshape data from 2D to 1D -> 32x32 to 1024\n",
        "model.add(tf.keras.layers.Reshape((1024,),input_shape=(32,32,)))\n",
        "\n",
        "#Normalize the data\n",
        "model.add(tf.keras.layers.BatchNormalization())\n",
        "\n",
        "#Add 1st hidden layer\n",
        "model.add(tf.keras.layers.Dense(200, activation='relu'))\n",
        "\n",
        "#Add 2nd hidden layer\n",
        "model.add(tf.keras.layers.Dense(100, activation='relu'))\n",
        "\n",
        "#Add OUTPUT layer\n",
        "model.add(tf.keras.layers.Dense(10, activation='softmax'))\n",
        "\n",
        "#Compile the model\n",
        "model.compile(optimizer='sgd', loss='categorical_crossentropy', metrics=['accuracy'])\n",
        "\n",
        "model.fit(X_train,y_train,          \n",
        "          validation_data=(X_val,y_val),\n",
        "          epochs=10,\n",
        "          batch_size=32)\n"
      ],
      "execution_count": 46,
      "outputs": [
        {
          "output_type": "stream",
          "text": [
            "Train on 42000 samples, validate on 60000 samples\n",
            "Epoch 1/10\n",
            "42000/42000 [==============================] - 11s 253us/sample - loss: 1.6658 - acc: 0.4519 - val_loss: 1.1441 - val_acc: 0.6561\n",
            "Epoch 2/10\n",
            "42000/42000 [==============================] - 10s 240us/sample - loss: 1.1038 - acc: 0.6588 - val_loss: 0.9124 - val_acc: 0.7226\n",
            "Epoch 3/10\n",
            "42000/42000 [==============================] - 10s 240us/sample - loss: 0.9389 - acc: 0.7114 - val_loss: 0.7733 - val_acc: 0.7731\n",
            "Epoch 4/10\n",
            "42000/42000 [==============================] - 10s 240us/sample - loss: 0.8390 - acc: 0.7418 - val_loss: 0.7338 - val_acc: 0.7813\n",
            "Epoch 5/10\n",
            "42000/42000 [==============================] - 10s 241us/sample - loss: 0.7760 - acc: 0.7611 - val_loss: 0.7174 - val_acc: 0.7831\n",
            "Epoch 6/10\n",
            "42000/42000 [==============================] - 10s 241us/sample - loss: 0.7263 - acc: 0.7762 - val_loss: 0.6518 - val_acc: 0.8038\n",
            "Epoch 7/10\n",
            "42000/42000 [==============================] - 10s 240us/sample - loss: 0.6904 - acc: 0.7880 - val_loss: 0.5778 - val_acc: 0.8305\n",
            "Epoch 8/10\n",
            "42000/42000 [==============================] - 10s 241us/sample - loss: 0.6625 - acc: 0.7945 - val_loss: 0.5444 - val_acc: 0.8423\n",
            "Epoch 9/10\n",
            "42000/42000 [==============================] - 10s 240us/sample - loss: 0.6358 - acc: 0.8040 - val_loss: 0.5536 - val_acc: 0.8363\n",
            "Epoch 10/10\n",
            "42000/42000 [==============================] - 10s 241us/sample - loss: 0.6099 - acc: 0.8112 - val_loss: 0.5038 - val_acc: 0.8553\n"
          ],
          "name": "stdout"
        },
        {
          "output_type": "execute_result",
          "data": {
            "text/plain": [
              "<tensorflow.python.keras.callbacks.History at 0x7fd7f16253c8>"
            ]
          },
          "metadata": {
            "tags": []
          },
          "execution_count": 46
        }
      ]
    },
    {
      "metadata": {
        "id": "ReDnVSuxpgTe",
        "colab_type": "code",
        "outputId": "2a263227-d8c1-4134-8230-8424e9bb86b1",
        "colab": {
          "base_uri": "https://localhost:8080/",
          "height": 68
        }
      },
      "cell_type": "code",
      "source": [
        "print('Evaluation')\n",
        "loss, acc = model.evaluate(X_test, y_test,\n",
        "                           batch_size=32)\n",
        "print('Test loss / test accuracy = {:.4f} / {:.4f}'.format(loss, acc))"
      ],
      "execution_count": 47,
      "outputs": [
        {
          "output_type": "stream",
          "text": [
            "Evaluation\n",
            "18000/18000 [==============================] - 1s 75us/sample - loss: 0.6056 - acc: 0.8290\n",
            "Test loss / test accuracy = 0.6056 / 0.8290\n"
          ],
          "name": "stdout"
        }
      ]
    },
    {
      "metadata": {
        "id": "frX78rw2gApj",
        "colab_type": "code",
        "colab": {
          "base_uri": "https://localhost:8080/",
          "height": 296
        },
        "outputId": "3385737b-43aa-41a6-a998-d329c9dbf54a"
      },
      "cell_type": "code",
      "source": [
        "import seaborn as sns\n",
        "# Predicting the Test set results & Printing the confusion matrix\n",
        "y_pred = model.predict(X_test)\n",
        "y_pred = (y_pred > 0.5)\n",
        "# Creating the Confusion Matrix\n",
        "from sklearn.metrics import confusion_matrix\n",
        "cm = confusion_matrix(y_test.argmax(axis=1), y_pred.argmax(axis=1))\n",
        "\n",
        "#print(cm)\n",
        "\n",
        "fig2=plt.figure()\n",
        "fig2.add_subplot(111)\n",
        "sns.heatmap(cm,annot=True,square=True,cbar=False,fmt=\"d\")\n",
        "plt.xlabel(\"predicted label\")\n",
        "plt.ylabel(\"true label\")"
      ],
      "execution_count": 50,
      "outputs": [
        {
          "output_type": "execute_result",
          "data": {
            "text/plain": [
              "Text(91.68, 0.5, 'true label')"
            ]
          },
          "metadata": {
            "tags": []
          },
          "execution_count": 50
        },
        {
          "output_type": "display_data",
          "data": {
            "image/png": "[encoded data removed]",
            "text/plain": [
              "<Figure size 432x288 with 1 Axes>"
            ]
          },
          "metadata": {
            "tags": []
          }
        }
      ]
    },
    {
      "metadata": {
        "id": "j77ryfDAglX0",
        "colab_type": "code",
        "colab": {}
      },
      "cell_type": "code",
      "source": [
        ""
      ],
      "execution_count": 0,
      "outputs": []
    },
    {
      "metadata": {
        "id": "w3mipB0WyGTA",
        "colab_type": "code",
        "colab": {}
      },
      "cell_type": "code",
      "source": [
        "# Understand the differences and trade-offs between traditional and NN classifiers with the help of classification metrics (5 points)"
      ],
      "execution_count": 0,
      "outputs": []
    },
    {
      "metadata": {
        "id": "TVhXJJFUq6MD",
        "colab_type": "code",
        "colab": {}
      },
      "cell_type": "code",
      "source": [
        "\n",
        "# Traditional Classifiers takes more time to evaluate and predict than NN \n",
        "# Traditional Classifiers require less computational power than NN\n",
        "# NN can provide better results than traditional Classifiers but thay are a black box and some biased or loss occurs in the hidden layers which is unavoidable\n",
        "# Feature extraction and classifcation happens in two differnet steps in machine learning but in NN it happens in the single step\n",
        "# As the data increases , NN dominates over traditional ML\n",
        "# NN really shines when it comes to complex problems such as image classification, natural language processing, and speech recognition."
      ],
      "execution_count": 0,
      "outputs": []
    },
    {
      "metadata": {
        "id": "odCNLqyfyIxk",
        "colab_type": "code",
        "colab": {}
      },
      "cell_type": "code",
      "source": [
        ""
      ],
      "execution_count": 0,
      "outputs": []
    }
  ]
}