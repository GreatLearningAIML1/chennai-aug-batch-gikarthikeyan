{
  "nbformat": 4,
  "nbformat_minor": 0,
  "metadata": {
    "colab": {
      "name": "R7_ExternalLab_Questions_1.ipynb",
      "version": "0.3.2",
      "provenance": [],
      "collapsed_sections": []
    },
    "kernelspec": {
      "name": "python3",
      "display_name": "Python 3"
    },
    "accelerator": "GPU"
  },
  "cells": [
    {
      "metadata": {
        "id": "4WH1Pr4KQlCh",
        "colab_type": "text"
      },
      "cell_type": "markdown",
      "source": [
        "### Build a DNN using Keras with `RELU` and `ADAM`"
      ]
    },
    {
      "metadata": {
        "slideshow": {
          "slide_type": "slide"
        },
        "id": "TbvI8LqlQlCl",
        "colab_type": "text"
      },
      "cell_type": "markdown",
      "source": [
        "#### Load tensorflow"
      ]
    },
    {
      "metadata": {
        "id": "SPW-a-qYQlCp",
        "colab_type": "code",
        "colab": {
          "base_uri": "https://localhost:8080/",
          "height": 34
        },
        "outputId": "598506bc-d618-43fb-b54f-44bab2e5ac73"
      },
      "cell_type": "code",
      "source": [
        "import tensorflow as tf\n",
        "tf.reset_default_graph()\n",
        "tf.set_random_seed(42)\n",
        "import keras"
      ],
      "execution_count": 1,
      "outputs": [
        {
          "output_type": "stream",
          "text": [
            "Using TensorFlow backend.\n"
          ],
          "name": "stderr"
        }
      ]
    },
    {
      "metadata": {
        "id": "IjYEwdRDIqF3",
        "colab_type": "code",
        "colab": {}
      },
      "cell_type": "code",
      "source": [
        "from keras.layers import Dense, MaxPool2D, Conv2D, Dropout\n",
        "from keras.layers import Flatten, InputLayer, MaxPool2D , Reshape\n",
        "from keras.layers.normalization import BatchNormalization\n",
        "from keras.models import Sequential\n",
        "from keras.utils import np_utils\n",
        "from keras.initializers import Constant\n",
        "from keras.callbacks import EarlyStopping"
      ],
      "execution_count": 0,
      "outputs": []
    },
    {
      "metadata": {
        "slideshow": {
          "slide_type": "slide"
        },
        "id": "74cQBsi5QlCw",
        "colab_type": "text"
      },
      "cell_type": "markdown",
      "source": [
        "#### Collect Fashion mnist data from tf.keras.datasets "
      ]
    },
    {
      "metadata": {
        "id": "8H4gOaeJQlCx",
        "colab_type": "code",
        "colab": {
          "base_uri": "https://localhost:8080/",
          "height": 153
        },
        "outputId": "cd397025-86c3-4939-d747-24900f80b9ec"
      },
      "cell_type": "code",
      "source": [
        "(x_train, y_train), (x_test, y_test) = tf.keras.datasets.fashion_mnist.load_data()"
      ],
      "execution_count": 3,
      "outputs": [
        {
          "output_type": "stream",
          "text": [
            "Downloading data from https://storage.googleapis.com/tensorflow/tf-keras-datasets/train-labels-idx1-ubyte.gz\n",
            "32768/29515 [=================================] - 0s 0us/step\n",
            "Downloading data from https://storage.googleapis.com/tensorflow/tf-keras-datasets/train-images-idx3-ubyte.gz\n",
            "26427392/26421880 [==============================] - 0s 0us/step\n",
            "Downloading data from https://storage.googleapis.com/tensorflow/tf-keras-datasets/t10k-labels-idx1-ubyte.gz\n",
            "8192/5148 [===============================================] - 0s 0us/step\n",
            "Downloading data from https://storage.googleapis.com/tensorflow/tf-keras-datasets/t10k-images-idx3-ubyte.gz\n",
            "4423680/4422102 [==============================] - 0s 0us/step\n"
          ],
          "name": "stdout"
        }
      ]
    },
    {
      "metadata": {
        "slideshow": {
          "slide_type": "slide"
        },
        "id": "no7aWYZyQlC1",
        "colab_type": "text"
      },
      "cell_type": "markdown",
      "source": [
        "#### Change train and test labels into one-hot vectors"
      ]
    },
    {
      "metadata": {
        "id": "UX6otc4wQlC2",
        "colab_type": "code",
        "outputId": "0f2c78db-8c41-424e-e69f-ce1b2dab79fe",
        "colab": {
          "base_uri": "https://localhost:8080/",
          "height": 34
        }
      },
      "cell_type": "code",
      "source": [
        "x_train.shape, y_train.shape"
      ],
      "execution_count": 4,
      "outputs": [
        {
          "output_type": "execute_result",
          "data": {
            "text/plain": [
              "((60000, 28, 28), (60000,))"
            ]
          },
          "metadata": {
            "tags": []
          },
          "execution_count": 4
        }
      ]
    },
    {
      "metadata": {
        "id": "qgWyptwFEhK9",
        "colab_type": "code",
        "outputId": "d18ba694-5f45-41c7-88b0-60ea9948cb3f",
        "colab": {
          "base_uri": "https://localhost:8080/",
          "height": 34
        }
      },
      "cell_type": "code",
      "source": [
        "x_test.shape,y_test.shape"
      ],
      "execution_count": 5,
      "outputs": [
        {
          "output_type": "execute_result",
          "data": {
            "text/plain": [
              "((10000, 28, 28), (10000,))"
            ]
          },
          "metadata": {
            "tags": []
          },
          "execution_count": 5
        }
      ]
    },
    {
      "metadata": {
        "id": "p3Z69ZZ1Esxj",
        "colab_type": "code",
        "colab": {}
      },
      "cell_type": "code",
      "source": [
        "#finding number of classes\n",
        "\n",
        "#here we know the classes are 10 so we can directly use as 10 in case its not mentioned we need to use value_counts to get the # of classes by converting y_train to dataframe\n",
        "y_train = tf.keras.utils.to_categorical(y_train, num_classes=10)\n",
        "y_test = tf.keras.utils.to_categorical(y_test, num_classes=10)"
      ],
      "execution_count": 0,
      "outputs": []
    },
    {
      "metadata": {
        "slideshow": {
          "slide_type": "slide"
        },
        "id": "QjNrRTdoQlC5",
        "colab_type": "text"
      },
      "cell_type": "markdown",
      "source": [
        "#### Build the Graph"
      ]
    },
    {
      "metadata": {
        "id": "CDJ9DHVNQlC7",
        "colab_type": "text"
      },
      "cell_type": "markdown",
      "source": [
        "#### Initialize model, reshape & normalize data"
      ]
    },
    {
      "metadata": {
        "id": "pCDQs_g1QlC8",
        "colab_type": "code",
        "colab": {
          "base_uri": "https://localhost:8080/",
          "height": 88
        },
        "outputId": "ad9bc3b3-64ec-46be-b6d1-c19962c3a9ca"
      },
      "cell_type": "code",
      "source": [
        "#Initialize Sequential model\n",
        "model = Sequential()\n",
        "#Reshape data from 2D to 1D -> 28x28 to 784\n",
        "model.add(Reshape((784,),input_shape=(28,28,)))\n",
        "#Normalize the data\n",
        "model.add(BatchNormalization())"
      ],
      "execution_count": 7,
      "outputs": [
        {
          "output_type": "stream",
          "text": [
            "WARNING:tensorflow:From /usr/local/lib/python3.6/dist-packages/tensorflow/python/framework/op_def_library.py:263: colocate_with (from tensorflow.python.framework.ops) is deprecated and will be removed in a future version.\n",
            "Instructions for updating:\n",
            "Colocations handled automatically by placer.\n"
          ],
          "name": "stdout"
        }
      ]
    },
    {
      "metadata": {
        "slideshow": {
          "slide_type": "slide"
        },
        "id": "kBGwTTilQlDD",
        "colab_type": "text"
      },
      "cell_type": "markdown",
      "source": [
        "#### Add two fully connected layers with 200 and 100 neurons respectively with `relu` activations. Add a dropout layer with `p=0.25`"
      ]
    },
    {
      "metadata": {
        "id": "tPu3XsTTHvVm",
        "colab_type": "code",
        "colab": {
          "base_uri": "https://localhost:8080/",
          "height": 88
        },
        "outputId": "1f764528-73bf-44e2-9bd1-9086b668fb36"
      },
      "cell_type": "code",
      "source": [
        "#Add 1st hidden layer\n",
        "model.add(Dense(200, activation='relu'))\n",
        "#Add 2nd hidden layer\n",
        "model.add(Dense(100, activation='relu'))\n",
        "#Add Dropout Layer\n",
        "model.add(Dropout(0.25))"
      ],
      "execution_count": 8,
      "outputs": [
        {
          "output_type": "stream",
          "text": [
            "WARNING:tensorflow:From /usr/local/lib/python3.6/dist-packages/keras/backend/tensorflow_backend.py:3445: calling dropout (from tensorflow.python.ops.nn_ops) with keep_prob is deprecated and will be removed in a future version.\n",
            "Instructions for updating:\n",
            "Please use `rate` instead of `keep_prob`. Rate should be set to `rate = 1 - keep_prob`.\n"
          ],
          "name": "stdout"
        }
      ]
    },
    {
      "metadata": {
        "id": "5I8f5otcQlDJ",
        "colab_type": "text"
      },
      "cell_type": "markdown",
      "source": [
        "### Add the output layer with a fully connected layer with 10 neurons with `softmax` activation. Use `categorical_crossentropy` loss and `adam` optimizer and train the network. And, report the final validation."
      ]
    },
    {
      "metadata": {
        "id": "E25kuP_NQlDM",
        "colab_type": "code",
        "outputId": "871c7b0f-aac9-4725-9253-f0971e191f34",
        "colab": {
          "base_uri": "https://localhost:8080/",
          "height": 615
        }
      },
      "cell_type": "code",
      "source": [
        "#Add Output Layer\n",
        "model.add(Dense(10, activation='softmax'))\n",
        "model.summary()\n",
        "model.compile(loss='categorical_crossentropy', optimizer='adam', metrics=['accuracy'])\n",
        "model.fit(x_train, y_train,validation_data=(x_test, y_test), epochs=5)"
      ],
      "execution_count": 9,
      "outputs": [
        {
          "output_type": "stream",
          "text": [
            "_________________________________________________________________\n",
            "Layer (type)                 Output Shape              Param #   \n",
            "=================================================================\n",
            "reshape_1 (Reshape)          (None, 784)               0         \n",
            "_________________________________________________________________\n",
            "batch_normalization_1 (Batch (None, 784)               3136      \n",
            "_________________________________________________________________\n",
            "dense_1 (Dense)              (None, 200)               157000    \n",
            "_________________________________________________________________\n",
            "dense_2 (Dense)              (None, 100)               20100     \n",
            "_________________________________________________________________\n",
            "dropout_1 (Dropout)          (None, 100)               0         \n",
            "_________________________________________________________________\n",
            "dense_3 (Dense)              (None, 10)                1010      \n",
            "=================================================================\n",
            "Total params: 181,246\n",
            "Trainable params: 179,678\n",
            "Non-trainable params: 1,568\n",
            "_________________________________________________________________\n",
            "WARNING:tensorflow:From /usr/local/lib/python3.6/dist-packages/tensorflow/python/ops/math_ops.py:3066: to_int32 (from tensorflow.python.ops.math_ops) is deprecated and will be removed in a future version.\n",
            "Instructions for updating:\n",
            "Use tf.cast instead.\n",
            "Train on 60000 samples, validate on 10000 samples\n",
            "Epoch 1/5\n",
            "60000/60000 [==============================] - 14s 237us/step - loss: 0.5097 - acc: 0.8171 - val_loss: 0.4044 - val_acc: 0.8544\n",
            "Epoch 2/5\n",
            "60000/60000 [==============================] - 12s 194us/step - loss: 0.3975 - acc: 0.8540 - val_loss: 0.3771 - val_acc: 0.8653\n",
            "Epoch 3/5\n",
            "60000/60000 [==============================] - 12s 194us/step - loss: 0.3595 - acc: 0.8682 - val_loss: 0.3631 - val_acc: 0.8704\n",
            "Epoch 4/5\n",
            "60000/60000 [==============================] - 12s 193us/step - loss: 0.3367 - acc: 0.8768 - val_loss: 0.3454 - val_acc: 0.8764\n",
            "Epoch 5/5\n",
            "60000/60000 [==============================] - 12s 194us/step - loss: 0.3129 - acc: 0.8853 - val_loss: 0.3630 - val_acc: 0.8711\n"
          ],
          "name": "stdout"
        },
        {
          "output_type": "execute_result",
          "data": {
            "text/plain": [
              "<keras.callbacks.History at 0x7f120bed5e10>"
            ]
          },
          "metadata": {
            "tags": []
          },
          "execution_count": 9
        }
      ]
    },
    {
      "metadata": {
        "id": "RZlWfge0Ut3F",
        "colab_type": "code",
        "outputId": "0dfe1c0c-553a-4454-8d69-0b488a4fff4b",
        "colab": {
          "base_uri": "https://localhost:8080/",
          "height": 51
        }
      },
      "cell_type": "code",
      "source": [
        "# Evaluate the model on test set\n",
        "score = model.evaluate(x_test, y_test, verbose=0)\n",
        "# Print test accuracy\n",
        "print('\\n', 'Test accuracy:', score[1])"
      ],
      "execution_count": 10,
      "outputs": [
        {
          "output_type": "stream",
          "text": [
            "\n",
            " Test accuracy: 0.8711\n"
          ],
          "name": "stdout"
        }
      ]
    },
    {
      "metadata": {
        "id": "vJl2GM7QQvs7",
        "colab_type": "text"
      },
      "cell_type": "markdown",
      "source": [
        "## Word Embeddings in Python with Gensim"
      ]
    },
    {
      "metadata": {
        "id": "9QoSmK_yQydL",
        "colab_type": "text"
      },
      "cell_type": "markdown",
      "source": [
        "In this, you will practice how to train and load word embedding models for natural language processing applications in Python using Gensim.\n"
      ]
    },
    {
      "metadata": {
        "id": "lqHUk1kBQ2Pl",
        "colab_type": "text"
      },
      "cell_type": "markdown",
      "source": [
        "1. How to train your own word2vec word embedding model on text data.\n",
        "2. How to visualize a trained word embedding model using Principal Component Analysis.\n",
        "3. How to load pre-trained word2vec word embedding models."
      ]
    },
    {
      "metadata": {
        "id": "x3EEkH5mQ6F0",
        "colab_type": "text"
      },
      "cell_type": "markdown",
      "source": [
        "### Run the below two commands to install gensim and the wiki dataset"
      ]
    },
    {
      "metadata": {
        "id": "Z_dPUh8YQ6Yi",
        "colab_type": "code",
        "outputId": "62872bb6-0757-4053-a81c-9d7ed4320f8f",
        "colab": {
          "base_uri": "https://localhost:8080/",
          "height": 343
        }
      },
      "cell_type": "code",
      "source": [
        "!pip install --upgrade gensim --user"
      ],
      "execution_count": 11,
      "outputs": [
        {
          "output_type": "stream",
          "text": [
            "Requirement already up-to-date: gensim in /root/.local/lib/python3.6/site-packages (3.7.1)\n",
            "Requirement already satisfied, skipping upgrade: scipy>=0.18.1 in /usr/local/lib/python3.6/dist-packages (from gensim) (1.1.0)\n",
            "Requirement already satisfied, skipping upgrade: six>=1.5.0 in /usr/local/lib/python3.6/dist-packages (from gensim) (1.11.0)\n",
            "Requirement already satisfied, skipping upgrade: numpy>=1.11.3 in /usr/local/lib/python3.6/dist-packages (from gensim) (1.14.6)\n",
            "Requirement already satisfied, skipping upgrade: smart-open>=1.7.0 in /usr/local/lib/python3.6/dist-packages (from gensim) (1.8.0)\n",
            "Requirement already satisfied, skipping upgrade: boto>=2.32 in /usr/local/lib/python3.6/dist-packages (from smart-open>=1.7.0->gensim) (2.49.0)\n",
            "Requirement already satisfied, skipping upgrade: bz2file in /usr/local/lib/python3.6/dist-packages (from smart-open>=1.7.0->gensim) (0.98)\n",
            "Requirement already satisfied, skipping upgrade: requests in /usr/local/lib/python3.6/dist-packages (from smart-open>=1.7.0->gensim) (2.18.4)\n",
            "Requirement already satisfied, skipping upgrade: boto3 in /usr/local/lib/python3.6/dist-packages (from smart-open>=1.7.0->gensim) (1.9.95)\n",
            "Requirement already satisfied, skipping upgrade: certifi>=2017.4.17 in /usr/local/lib/python3.6/dist-packages (from requests->smart-open>=1.7.0->gensim) (2018.11.29)\n",
            "Requirement already satisfied, skipping upgrade: chardet<3.1.0,>=3.0.2 in /usr/local/lib/python3.6/dist-packages (from requests->smart-open>=1.7.0->gensim) (3.0.4)\n",
            "Requirement already satisfied, skipping upgrade: urllib3<1.23,>=1.21.1 in /usr/local/lib/python3.6/dist-packages (from requests->smart-open>=1.7.0->gensim) (1.22)\n",
            "Requirement already satisfied, skipping upgrade: idna<2.7,>=2.5 in /usr/local/lib/python3.6/dist-packages (from requests->smart-open>=1.7.0->gensim) (2.6)\n",
            "Requirement already satisfied, skipping upgrade: jmespath<1.0.0,>=0.7.1 in /usr/local/lib/python3.6/dist-packages (from boto3->smart-open>=1.7.0->gensim) (0.9.3)\n",
            "Requirement already satisfied, skipping upgrade: botocore<1.13.0,>=1.12.95 in /usr/local/lib/python3.6/dist-packages (from boto3->smart-open>=1.7.0->gensim) (1.12.95)\n",
            "Requirement already satisfied, skipping upgrade: s3transfer<0.3.0,>=0.2.0 in /usr/local/lib/python3.6/dist-packages (from boto3->smart-open>=1.7.0->gensim) (0.2.0)\n",
            "Requirement already satisfied, skipping upgrade: docutils>=0.10 in /usr/local/lib/python3.6/dist-packages (from botocore<1.13.0,>=1.12.95->boto3->smart-open>=1.7.0->gensim) (0.14)\n",
            "Requirement already satisfied, skipping upgrade: python-dateutil<3.0.0,>=2.1; python_version >= \"2.7\" in /usr/local/lib/python3.6/dist-packages (from botocore<1.13.0,>=1.12.95->boto3->smart-open>=1.7.0->gensim) (2.5.3)\n"
          ],
          "name": "stdout"
        }
      ]
    },
    {
      "metadata": {
        "id": "-9-xPiuTQ-nD",
        "colab_type": "code",
        "outputId": "053886ed-e225-4b1c-f1ee-ee279dc3da4d",
        "colab": {
          "base_uri": "https://localhost:8080/",
          "height": 156
        }
      },
      "cell_type": "code",
      "source": [
        "!pip install --upgrade wikipedia --user "
      ],
      "execution_count": 12,
      "outputs": [
        {
          "output_type": "stream",
          "text": [
            "Requirement already up-to-date: wikipedia in /root/.local/lib/python3.6/site-packages (1.4.0)\n",
            "Requirement already satisfied, skipping upgrade: requests<3.0.0,>=2.0.0 in /usr/local/lib/python3.6/dist-packages (from wikipedia) (2.18.4)\n",
            "Requirement already satisfied, skipping upgrade: beautifulsoup4 in /usr/local/lib/python3.6/dist-packages (from wikipedia) (4.6.3)\n",
            "Requirement already satisfied, skipping upgrade: certifi>=2017.4.17 in /usr/local/lib/python3.6/dist-packages (from requests<3.0.0,>=2.0.0->wikipedia) (2018.11.29)\n",
            "Requirement already satisfied, skipping upgrade: chardet<3.1.0,>=3.0.2 in /usr/local/lib/python3.6/dist-packages (from requests<3.0.0,>=2.0.0->wikipedia) (3.0.4)\n",
            "Requirement already satisfied, skipping upgrade: idna<2.7,>=2.5 in /usr/local/lib/python3.6/dist-packages (from requests<3.0.0,>=2.0.0->wikipedia) (2.6)\n",
            "Requirement already satisfied, skipping upgrade: urllib3<1.23,>=1.21.1 in /usr/local/lib/python3.6/dist-packages (from requests<3.0.0,>=2.0.0->wikipedia) (1.22)\n"
          ],
          "name": "stdout"
        }
      ]
    },
    {
      "metadata": {
        "id": "Te2mI1FHQ_I1",
        "colab_type": "text"
      },
      "cell_type": "markdown",
      "source": [
        "### Import gensim"
      ]
    },
    {
      "metadata": {
        "id": "qQQwRUJ0RAlJ",
        "colab_type": "code",
        "colab": {}
      },
      "cell_type": "code",
      "source": [
        "import gensim"
      ],
      "execution_count": 0,
      "outputs": []
    },
    {
      "metadata": {
        "id": "5dXgBNlORBGP",
        "colab_type": "text"
      },
      "cell_type": "markdown",
      "source": [
        "### Obtain Text"
      ]
    },
    {
      "metadata": {
        "id": "xdnvuDLCRDO4",
        "colab_type": "text"
      },
      "cell_type": "markdown",
      "source": [
        "Import search and page functions from wikipedia module\n",
        "search(/key word/): search function takes keyword as argument and gives top 10 article titles matching the given keyword.\n",
        "\n",
        "page(/title of article/): page function takes page title as argument and gives content in the output."
      ]
    },
    {
      "metadata": {
        "id": "VgB7SX-TRHNT",
        "colab_type": "code",
        "outputId": "9db36cea-9789-401a-99cf-9b6c9dd2c83b",
        "colab": {
          "base_uri": "https://localhost:8080/",
          "height": 34
        }
      },
      "cell_type": "code",
      "source": [
        " ##Usage: \n",
        "\n",
        "from wikipedia import search, page\n",
        "titles = search(\"Machine Learning\")\n",
        "wikipage = page(titles[0:11])\n",
        "print(wikipage)"
      ],
      "execution_count": 4,
      "outputs": [
        {
          "output_type": "stream",
          "text": [
            "<WikipediaPage 'Extreme learning machine'>\n"
          ],
          "name": "stdout"
        }
      ]
    },
    {
      "metadata": {
        "id": "q54h4vNaRJXe",
        "colab_type": "text"
      },
      "cell_type": "markdown",
      "source": [
        "### Print the top 10 titles for the keyword `Machine Learning`"
      ]
    },
    {
      "metadata": {
        "id": "yuyLmsnsRK6f",
        "colab_type": "code",
        "colab": {
          "base_uri": "https://localhost:8080/",
          "height": 187
        },
        "outputId": "640fe5c5-d85d-41c0-d7c9-bd08034b614b"
      },
      "cell_type": "code",
      "source": [
        "from wikipedia import search, page\n",
        "titles = search(\"Machine Learning\")\n",
        "titles"
      ],
      "execution_count": 14,
      "outputs": [
        {
          "output_type": "execute_result",
          "data": {
            "text/plain": [
              "['Machine learning',\n",
              " 'Active learning (machine learning)',\n",
              " 'Boosting (machine learning)',\n",
              " 'Deep learning',\n",
              " 'List of datasets for machine learning research',\n",
              " 'Support-vector machine',\n",
              " 'Outline of machine learning',\n",
              " 'Weka (machine learning)',\n",
              " 'Adversarial machine learning',\n",
              " 'Extreme learning machine']"
            ]
          },
          "metadata": {
            "tags": []
          },
          "execution_count": 14
        }
      ]
    },
    {
      "metadata": {
        "id": "a3faXGqLRQx1",
        "colab_type": "text"
      },
      "cell_type": "markdown",
      "source": [
        "### Get the content from the first title from the above obtained 10 titles."
      ]
    },
    {
      "metadata": {
        "id": "HOqiYzrqRQ-M",
        "colab_type": "code",
        "colab": {
          "base_uri": "https://localhost:8080/",
          "height": 3845
        },
        "outputId": "30c522dd-2509-41b2-9661-600afe22e96d"
      },
      "cell_type": "code",
      "source": [
        "wikipage = page(titles[0])\n",
        "print(wikipage.content)"
      ],
      "execution_count": 15,
      "outputs": [
        {
          "output_type": "stream",
          "text": [
            "Machine learning (ML) is the scientific study of algorithms and statistical models that computer systems use to effectively perform a specific task without using explicit instructions, relying on patterns and inference instead. It is seen as a subset of artificial intelligence. Machine learning algorithms build a mathematical model of sample data, known as \"training data\", in order to make predictions or decisions without being explicitly programmed to perform the task. Machine learning algorithms are used in the applications of email filtering, detection of network intruders, and computer vision, where it is infeasible to develop an algorithm of specific instructions for performing the task. Machine learning is closely related to computational statistics, which focuses on making predictions using computers. The study of mathematical optimization delivers methods, theory and application domains to the field of machine learning. Data mining is a field of study within machine learning, and focuses on exploratory data analysis through unsupervised learning. In its application across business problems, machine learning is also referred to as predictive analytics.\n",
            "\n",
            "\n",
            "== Overview of Machine Learning ==\n",
            "The name machine learning was coined in 1959 by Arthur Samuel. Tom M. Mitchell provided a widely quoted, more formal definition of the algorithms studied in the machine learning field: \"A computer program is said to learn from experience E with respect to some class of tasks T and performance measure P if its performance at tasks in T, as measured by P,  improves with experience E.\" This definition of the tasks in which machine learning is concerned offers a fundamentally operational definition rather than defining the field in cognitive terms. This follows Alan Turing's proposal in his paper \"Computing Machinery and Intelligence\", in which the question \"Can machines think?\" is replaced with the question \"Can machines do what we (as thinking entities) can do?\". In Turing's proposal the various characteristics that could be possessed by a thinking machine and the various implications in constructing one are exposed.\n",
            "\n",
            "\n",
            "=== Machine learning tasks ===\n",
            "\n",
            "Machine learning tasks are classified into several broad categories. In supervised learning, the algorithm builds a mathematical model from a set of data that contains both the inputs and the desired outputs. For example, if the task were determining whether an image contained a certain object, the training data for a supervised learning algorithm would include images with and without that object (the input), and each image would have a label (the output) designating whether it contained the object. In special cases, the input may be only partially available, or restricted to special feedback. Semi-supervised learning algorithms develop mathematical models from incomplete training data, where a portion of the sample input doesn't have labels.\n",
            "Classification algorithms and regression algorithms are types of supervised learning. Classification algorithms are used when the outputs are restricted to a limited set of values. For a classification algorithm that filters emails, the input would be an incoming email, and the output would be the name of the folder in which to file the email. For an algorithm that identifies spam emails, the output would be the prediction of either \"spam\" or \"not spam\", represented by the Boolean values true and false. Regression algorithms are named for their continuous outputs, meaning they may have any value within a range. Examples of a continuous value are the temperature, length, or price of an object.\n",
            "In unsupervised learning, the algorithm builds a mathematical model from a set of data which contains only inputs and no desired output labels. Unsupervised learning algorithms are used to find structure in the data, like grouping or clustering of data points. Unsupervised learning can discover patterns in the data, and can group the inputs into categories, as in feature learning. Dimensionality reduction is the process of reducing the number of \"features\", or inputs, in a set of data. \n",
            "Active learning algorithms access the desired outputs (training labels) for a limited set of inputs based on a budget, and optimize the choice of inputs for which it will acquire training labels. When used interactively, these can be presented to a human user for labeling. Reinforcement learning algorithms are given feedback in the form of positive or negative reinforcement in a dynamic environment, and are used in autonomous vehicles or in learning to play a game against a human opponent. Other specialized algorithms in machine learning include topic modeling, where the computer program is given a set of natural language documents and finds other documents that cover similar topics. Machine learning algorithms can be used to find the unobservable probability density function in density estimation problems. Meta learning algorithms learn their own inductive bias based on previous experience. In developmental robotics, robot learning algorithms generate their own sequences of learning experiences, also known as a curriculum, to cumulatively acquire new skills through self-guided exploration and social interaction with humans. These robots use guidance mechanisms such as active learning, maturation, motor synergies, and imitation.\n",
            "\n",
            "\n",
            "== History and relationships to other fields ==\n",
            "\n",
            "Arthur Samuel, an American pioneer in the field of computer gaming and artificial intelligence, coined the term \"Machine Learning\" in 1959 while at IBM. \n",
            "As a scientific endeavour, machine learning grew out of the quest for artificial intelligence. Already in the early days of AI as an academic discipline, some researchers were interested in having machines learn from data. They attempted to approach the problem with various symbolic methods, as well as what were then termed \"neural networks\"; these were mostly perceptrons and other models that were later found to be reinventions of the generalized linear models of statistics. Probabilistic reasoning was also employed, especially in automated medical diagnosis.However, an increasing emphasis on the logical, knowledge-based approach caused a rift between AI and machine learning. Probabilistic systems were plagued by theoretical and practical problems of data acquisition and representation. By 1980, expert systems had come to dominate AI, and statistics was out of favor. Work on symbolic/knowledge-based learning did continue within AI, leading to inductive logic programming, but the more statistical line of research was now outside the field of AI proper, in pattern recognition and information retrieval. Neural networks research had been abandoned by AI and computer science around the same time. This line, too, was continued outside the AI/CS field, as \"connectionism\", by researchers from other disciplines including Hopfield, Rumelhart and Hinton. Their main success came in the mid-1980s with the reinvention of backpropagation.Machine learning, reorganized as a separate field, started to flourish in the 1990s. The field changed its goal from achieving artificial intelligence to tackling solvable problems of a practical nature. It shifted focus away from the symbolic approaches it had inherited from AI, and toward methods and models borrowed from statistics and probability theory. It also benefited from the increasing availability of digitized information, and the ability to distribute it via the Internet.\n",
            "\n",
            "\n",
            "=== Relation to data mining ===\n",
            "Machine learning and data mining often employ the same methods and overlap significantly, but while machine learning focuses on prediction, based on known properties learned from the training data, data mining focuses on the discovery of (previously) unknown properties in the data (this is the analysis step of knowledge discovery in databases). Data mining uses many machine learning methods, but with different goals; on the other hand, machine learning also employs data mining methods as \"unsupervised learning\" or as a preprocessing step to improve learner accuracy. Much of the confusion between these two research communities (which do often have separate conferences and separate journals, ECML PKDD being a major exception) comes from the basic assumptions they work with: in machine learning, performance is usually evaluated with respect to the ability to reproduce known knowledge, while in knowledge discovery and data mining (KDD) the key task is the discovery of previously unknown knowledge. Evaluated with respect to known knowledge, an uninformed (unsupervised) method will easily be outperformed by other supervised methods, while in a typical KDD task, supervised methods cannot be used due to the unavailability of training data.\n",
            "\n",
            "\n",
            "=== Relation to optimization ===\n",
            "Machine learning also has intimate ties to optimization: many learning problems are formulated as minimization of some loss function on a training set of examples. Loss functions express the discrepancy between the predictions of the model being trained and the actual problem instances (for example, in classification, one wants to assign a label to instances, and models are trained to correctly predict the pre-assigned labels of a set of examples). The difference between the two fields arises from the goal of generalization: while optimization algorithms can minimize the loss on a training set, machine learning is concerned with minimizing the loss on unseen samples.\n",
            "\n",
            "\n",
            "=== Relation to statistics ===\n",
            "Machine learning and statistics are closely related fields. According to Michael I. Jordan, the ideas of machine learning, from methodological principles to theoretical tools, have had a long pre-history in statistics. He also suggested the term data science as a placeholder to call the overall field.Leo Breiman distinguished two statistical modelling paradigms: data model and algorithmic model, wherein \"algorithmic model\" means more or less the machine learning algorithms like Random forest.\n",
            "Some statisticians have adopted methods from machine learning, leading to a combined field that they call statistical learning.\n",
            "\n",
            "\n",
            "== Theory ==\n",
            "\n",
            "A core objective of a learner is to generalize from its experience. Generalization in this context is the ability of a learning machine to perform accurately on new, unseen examples/tasks after having experienced a learning data set. The training examples come from some generally unknown probability distribution (considered representative of the space of occurrences) and the learner has to build a general model about this space that enables it to produce sufficiently accurate predictions in new cases.\n",
            "The computational analysis of machine learning algorithms and their performance is a branch of theoretical computer science known as computational learning theory. Because training sets are finite and the future is uncertain, learning theory usually does not yield guarantees of the performance of algorithms. Instead, probabilistic bounds on the performance are quite common. The bias–variance decomposition is one way to quantify generalization error.\n",
            "For the best performance in the context of generalization, the complexity of the hypothesis should match the complexity of the function underlying the data. If the hypothesis is less complex than the function, then the model has underfit the data. If the complexity of the model is increased in response, then the training error decreases. But if the hypothesis is too complex, then the model is subject to overfitting and generalization will be poorer.In addition to performance bounds, computational learning theorists study the time complexity and feasibility of learning. In computational learning theory, a computation is considered feasible if it can be done in polynomial time. There are two kinds of time complexity results. Positive results show that a certain class of functions can be learned in polynomial time. Negative results show that certain classes cannot be learned in polynomial time.\n",
            "\n",
            "\n",
            "== Approaches ==\n",
            "\n",
            "\n",
            "=== Types of learning algorithms ===\n",
            "The types of machine learning algorithms differ in their approach, the type of data they input and output, and the type of task or problem that they are intended to solve.\n",
            "\n",
            "\n",
            "==== Supervised and semi-supervised learning ====\n",
            "\n",
            "Supervised learning algorithms build a mathematical model of a set of data that contains both the inputs and the desired outputs. The data is known as training data, and consists of a set of training examples. Each training example has one or more inputs and a desired output, also known as a supervisory signal. In the case of semi-supervised learning algorithms, some of the training examples are missing the desired output. In the mathematical model, each training example is represented by an array or vector, and the training data by a matrix. Through iterative optimization of an objective function, supervised learning algorithms learn a function that can be used to predict the output associated with new inputs. An optimal function will allow the algorithm to correctly determine the output for inputs that were not a part of the training data. An algorithm that improves the accuracy of its outputs or predictions over time is said to have learned to perform that task.Supervised learning algorithms include classification and regression. Classification algorithms are used when the outputs are restricted to a limited set of values, and regression algorithms are used when the outputs may have any numerical value within a range. Similarity learning is an area of supervised machine learning closely related to regression and classification, but the goal is to learn from examples using a similarity function that measures how similar or related two objects are. It has applications in ranking, recommendation systems, visual identity tracking, face verification, and speaker verification.\n",
            "\n",
            "\n",
            "==== Unsupervised learning ====\n",
            "\n",
            "Unsupervised learning algorithms take a set of data that contains only inputs, and find structure in the data, like grouping or clustering of data points. The algorithms therefore learn from test data that has not been labeled, classified or categorized. Instead of responding to feedback, unsupervised learning algorithms identify commonalities in the data and react based on the presence or absence of such commonalities in each new piece of data. A central application of unsupervised learning is in the field of density estimation in statistics, though unsupervised learning encompasses other domains involving summarizing and explaining data features.\n",
            "Cluster analysis is the assignment of a set of observations into subsets (called clusters) so that observations within the same cluster are similar according to one or more predesignated criteria, while observations drawn from different clusters are dissimilar. Different clustering techniques make different assumptions on the structure of the data, often defined by some similarity metric and evaluated, for example, by internal compactness, or the similarity between members of the same cluster, and separation, the difference between clusters. Other methods are based on estimated density and graph connectivity.\n",
            "\n",
            "\n",
            "==== Reinforcement learning ====\n",
            "\n",
            "Reinforcement learning is an area of machine learning concerned with how software agents ought to take actions in an environment so as to maximize some notion of cumulative reward. Due to its generality, the field is studied in many other disciplines, such as game theory, control theory, operations research, information theory, simulation-based optimization, multi-agent systems, swarm intelligence, statistics and genetic algorithms. In machine learning, the environment is typically represented as a Markov Decision Process (MDP). Many reinforcement learning algorithms use dynamic programming techniques. Reinforcement learning algorithms do not assume knowledge of an exact mathematical model of the MDP, and are used when exact models are infeasible. Reinforcement learning algorithms are used in autonomous vehicles or in learning to play a game against a human opponent.\n",
            "\n",
            "\n",
            "=== Processes and techniques ===\n",
            "Various processes, techniques and methods can be applied to one or more types of machine learning algorithms to enhance their performance.\n",
            "\n",
            "\n",
            "==== Feature learning ====\n",
            "\n",
            "Several learning algorithms aim at discovering better representations of the inputs provided during training. Classic examples include principal components analysis and cluster analysis. Feature learning algorithms, also called representation learning algorithms, often attempt to preserve the information in their input but also transform it in a way that makes it useful, often as a pre-processing step before performing classification or predictions. This technique allows reconstruction of the inputs coming from the unknown data-generating distribution, while not being necessarily faithful to configurations that are implausible under that distribution. This replaces manual feature engineering, and allows a machine to both learn the features and use them to perform a specific task.\n",
            "Feature learning can be either supervised or unsupervised. In supervised feature learning, features are learned using labeled input data. Examples include artificial neural networks, multilayer perceptrons, and supervised dictionary learning. In unsupervised feature learning, features are learned with unlabeled input data.  Examples include dictionary learning, independent component analysis, autoencoders, matrix factorization and various forms of clustering.Manifold learning algorithms attempt to do so under the constraint that the learned representation is low-dimensional. Sparse coding algorithms attempt to do so under the constraint that the learned representation is sparse, meaning that the mathematical model has many zeros. Multilinear subspace learning algorithms aim to learn low-dimensional representations directly from tensor representations for multidimensional data, without reshaping them into higher-dimensional vectors. Deep learning algorithms discover multiple levels of representation, or a hierarchy of features, with higher-level, more abstract features defined in terms of (or generating) lower-level features. It has been argued that an intelligent machine is one that learns a representation that disentangles the underlying factors of variation that explain the observed data.Feature learning is motivated by the fact that machine learning tasks such as classification often require input that is mathematically and computationally convenient to process. However, real-world data such as images, video, and sensory data has not yielded to attempts to algorithmically define specific features. An alternative is to discover such features or representations through examination, without relying on explicit algorithms.\n",
            "\n",
            "\n",
            "==== Sparse dictionary learning ====\n",
            "\n",
            "Sparse dictionary learning is a feature learning method where a training example is represented as a linear combination of basis functions, and is assumed to be a sparse matrix. The method is strongly NP-hard and difficult to solve approximately. A popular heuristic method for sparse dictionary learning is the K-SVD algorithm. Sparse dictionary learning has been applied in several contexts. In classification, the problem is to determine to which classes a previously unseen training example belongs. For a dictionary where each class has already been built, a new training example is associated with the class that is best sparsely represented by the corresponding dictionary. Sparse dictionary learning has also been applied in image de-noising. The key idea is that a clean image patch can be sparsely represented by an image dictionary, but the noise cannot.\n",
            "\n",
            "\n",
            "==== Anomaly detection ====\n",
            "\n",
            "In data mining, anomaly detection, also known as outlier detection, is the identification of rare items, events or observations which raise suspicions by differing significantly from the majority of the data. Typically, the anomalous items represent an issue such as bank fraud, a structural defect, medical problems or errors in a text. Anomalies are referred to as outliers, novelties, noise, deviations and exceptions.In particular, in the context of abuse and network intrusion detection, the interesting objects are often not rare objects, but unexpected bursts in activity. This pattern does not adhere to the common statistical definition of an outlier as a rare object, and many outlier detection methods (in particular, unsupervised algorithms) will fail on such data, unless it has been aggregated appropriately. Instead, a cluster analysis algorithm may be able to detect the micro-clusters formed by these patterns.Three broad categories of anomaly detection techniques exist. Unsupervised anomaly detection techniques detect anomalies in an unlabeled test data set under the assumption that the majority of the instances in the data set are normal, by looking for instances that seem to fit least to the remainder of the data set. Supervised anomaly detection techniques require a data set that has been labeled as \"normal\" and \"abnormal\" and involves training a classifier (the key difference to many other statistical classification problems is the inherent unbalanced nature of outlier detection). Semi-supervised anomaly detection techniques construct a model representing normal behavior from a given normal training data set, and then test the likelihood of a test instance to be generated by the model.\n",
            "\n",
            "\n",
            "==== Decision trees ====\n",
            "\n",
            "Decision tree learning uses a decision tree as a predictive model to go from observations about an item (represented in the branches) to conclusions about the item's target value (represented in the leaves). It is one of the predictive modeling approaches used in statistics, data mining and machine learning. Tree models where the target variable can take a discrete set of values are called classification trees; in these tree structures, leaves represent class labels and branches represent conjunctions of features that lead to those class labels. Decision trees where the target variable can take continuous values (typically real numbers) are called regression trees. In decision analysis, a decision tree can be used to visually and explicitly represent decisions and decision making. In data mining, a decision tree describes data, but the resulting classification tree can be an input for decision making.\n",
            "\n",
            "\n",
            "==== Association rules ====\n",
            "\n",
            "Association rule learning is a rule-based machine learning method for discovering relationships between variables in large databases. It is intended to identify strong rules discovered in databases using some measure of \"interestingness\". This rule-based approach generates new rules as it analyzes more data. The ultimate goal, assuming the set of data is large enough, is to help a machine mimic the human brain’s feature extraction and abstract association capabilities for data that has not been categorized.Rule-based machine learning is a general term for any machine learning method that identifies, learns, or evolves \"rules\" to store, manipulate or apply knowledge. The defining characteristic of a rule-based machine learning algorithm is the identification and utilization of a set of relational rules that collectively represent the knowledge captured by the system. This is in contrast to other machine learning algorithms that commonly identify a singular model that can be universally applied to any instance in order to make a prediction. Rule-based machine learning approaches include learning classifier systems, association rule learning, and artificial immune systems.\n",
            "Based on the concept of strong rules, Rakesh Agrawal, Tomasz Imieliński and Arun Swami introduced association rules for discovering regularities between products in large-scale transaction data recorded by point-of-sale (POS) systems in supermarkets. For example, the rule \n",
            "  \n",
            "    \n",
            "      \n",
            "        {\n",
            "        \n",
            "          o\n",
            "          n\n",
            "          i\n",
            "          o\n",
            "          n\n",
            "          s\n",
            "          ,\n",
            "          p\n",
            "          o\n",
            "          t\n",
            "          a\n",
            "          t\n",
            "          o\n",
            "          e\n",
            "          s\n",
            "        \n",
            "        }\n",
            "        ⇒\n",
            "        {\n",
            "        \n",
            "          b\n",
            "          u\n",
            "          r\n",
            "          g\n",
            "          e\n",
            "          r\n",
            "        \n",
            "        }\n",
            "      \n",
            "    \n",
            "    {\\displaystyle \\{\\mathrm {onions,potatoes} \\}\\Rightarrow \\{\\mathrm {burger} \\}}\n",
            "   found in the sales data of a supermarket would indicate that if a customer buys onions and potatoes together, they are likely to also buy hamburger meat. Such information can be used as the basis for decisions about marketing activities such as promotional pricing or product placements. In addition to market basket analysis, association rules are employed today in application areas including Web usage mining, intrusion detection, continuous production, and bioinformatics. In contrast with sequence mining, association rule learning typically does not consider the order of items either within a transaction or across transactions.\n",
            "Learning classifier systems (LCS) are a family of rule-based machine learning algorithms that combine a discovery component, typically a genetic algorithm, with a learning component, performing either supervised learning, reinforcement learning, or unsupervised learning. They seek to identify a set of context-dependent rules that collectively store and apply knowledge in a piecewise manner in order to make predictions.Inductive logic programming (ILP) is an approach to rule-learning using logic programming as a uniform representation for input examples, background knowledge, and hypotheses. Given an encoding of the known background knowledge and a set of examples represented as a logical database of facts, an ILP system will derive a hypothesized logic program that entails all positive and no negative examples. Inductive programming is a related field that considers any kind of programming languages for representing hypotheses (and not only logic programming), such as functional programs.\n",
            "Inductive logic programming is particularly useful in bioinformatics and natural language processing. Gordon Plotkin and Ehud Shapiro laid the initial theoretical foundation for inductive machine learning in a logical setting. Shapiro built their first implementation (Model Inference System) in 1981: a Prolog program that inductively inferred logic programs from positive and negative examples. The term inductive here refers to philosophical induction, suggesting a theory to explain observed facts, rather than mathematical induction, proving a property for all members of a well-ordered set.\n",
            "\n",
            "\n",
            "=== Models ===\n",
            "\n",
            "\n",
            "==== Artificial neural networks ====\n",
            "\n",
            "Artificial neural networks (ANNs), or connectionist systems, are computing systems vaguely inspired by the biological neural networks that constitute animal brains. The neural network itself is not an algorithm, but rather a framework for many different machine learning algorithms to work together and process complex data inputs. Such systems \"learn\" to perform tasks by considering examples, generally without being programmed with any task-specific rules.\n",
            "An ANN is a model based on a collection of connected units or nodes called \"artificial neurons\", which loosely model the neurons in a biological brain. Each connection, like the synapses in a biological brain, can transmit information, a \"signal\", from one artificial neuron to another. An artificial neuron that receives a signal can process it and then signal additional artificial neurons connected to it. In common ANN implementations, the signal at a connection between artificial neurons is a real number, and the output of each artificial neuron is computed by some non-linear function of the sum of its inputs. The connections between artificial neurons are called \"edges\". Artificial neurons and edges typically have a weight that adjusts as learning proceeds. The weight increases or decreases the strength of the signal at a connection. Artificial neurons may have a threshold such that the signal is only sent if the aggregate signal crosses that threshold. Typically, artificial neurons are aggregated into layers. Different layers may perform different kinds of transformations on their inputs. Signals travel from the first layer (the input layer), to the last layer (the output layer), possibly after traversing the layers multiple times.\n",
            "The original goal of the ANN approach was to solve problems in the same way that a human brain would. However, over time, attention moved to performing specific tasks, leading to deviations from biology. Artificial neural networks have been used on a variety of tasks, including computer vision, speech recognition, machine translation, social network filtering, playing board and video games and medical diagnosis.\n",
            "Deep learning consists of multiple hidden layers in an artificial neural network. This approach tries to model the way the human brain processes light and sound into vision and hearing. Some successful applications of deep learning are computer vision and speech recognition.\n",
            "\n",
            "\n",
            "==== Support vector machines ====\n",
            "\n",
            "Support vector machines (SVMs), also known as support vector networks, are a set of related supervised learning methods used for classification and regression. Given a set of training examples, each marked as belonging to one of two categories, an SVM training algorithm builds a model that predicts whether a new example falls into one category or the other.  An SVM training algorithm is a non-probabilistic, binary, linear classifier, although methods such as Platt scaling exist to use SVM in a probabilistic classification setting. In addition to performing linear classification, SVMs can efficiently perform a non-linear classification using what is called the kernel trick, implicitly mapping their inputs into high-dimensional feature spaces.\n",
            "\n",
            "\n",
            "==== Bayesian networks ====\n",
            "\n",
            "A Bayesian network, belief network or directed acyclic graphical model is a probabilistic graphical model that represents a set of random variables and their conditional independence with a directed acyclic graph (DAG). For example, a Bayesian network could represent the probabilistic relationships between diseases and symptoms. Given symptoms, the network can be used to compute the probabilities of the presence of various diseases. Efficient algorithms exist that perform inference and learning. Bayesian networks that model sequences of variables, like speech signals or protein sequences, are called dynamic Bayesian networks. Generalizations of Bayesian networks that can represent and solve decision problems under uncertainty are called influence diagrams.\n",
            "\n",
            "\n",
            "==== Genetic algorithms ====\n",
            "\n",
            "A genetic algorithm (GA) is a search algorithm and heuristic technique that mimics the process of natural selection, using methods such as mutation and crossover to generate new genotypes in the hope of finding good solutions to a given problem. In machine learning, genetic algorithms were used in the 1980s and 1990s. Conversely, machine learning techniques have been used to improve the performance of genetic and evolutionary algorithms.\n",
            "\n",
            "\n",
            "== Applications ==\n",
            "Applications for machine learning include:\n",
            "\n",
            "In 2006, the online movie company Netflix held the first \"Netflix Prize\" competition to find a program to better predict user preferences and improve the accuracy on its existing Cinematch movie recommendation algorithm by at least 10%.  A joint team made up of researchers from AT&T Labs-Research in collaboration with the teams Big Chaos and Pragmatic Theory built an ensemble model to win the Grand Prize in 2009 for $1 million. Shortly after the prize was awarded, Netflix realized that viewers' ratings were not the best indicators of their viewing patterns (\"everything is a recommendation\") and they changed their recommendation engine accordingly. In 2010 The Wall Street Journal wrote about the firm Rebellion Research and their use of machine learning to predict the financial crisis. In 2012, co-founder of Sun Microsystems, Vinod Khosla, predicted that 80% of medical doctors jobs would be lost in the next two decades to automated machine learning medical diagnostic software. In 2014, it was reported that a machine learning algorithm had been applied in the field of art history to study fine art paintings, and that it may have revealed previously unrecognized influences between artists.\n",
            "\n",
            "\n",
            "== Limitations ==\n",
            "Although machine learning has been transformative in some fields, machine-learning programs often fail to deliver expected results. Reasons for this are numerous: lack of (suitable) data, lack of access to the data, data bias, privacy problems, badly chosen tasks and algorithms, wrong tools and people, lack of resources, and evaluation problems.In 2018, a self-driving car from Uber failed to detect a pedestrian, who was killed after a collision. Attempts to use machine learning in healthcare with the IBM Watson system failed to deliver even after years of time and billions of investment.\n",
            "\n",
            "\n",
            "=== Bias ===\n",
            "\n",
            "Machine learning approaches in particular can suffer from different data biases. A machine learning system trained on current customers only may not be able to predict the needs of new customer groups that are not represented in the training data. When trained on man-made data, machine learning is likely to pick up the same constitutional and unconscious biases already present in society. Language models learned from data have been shown to contain human-like biases. Machine learning systems used for criminal risk assessment have been found to be biased against black people. In 2015, Google photos would often tag black people as gorillas, and in 2018 this still was not well resolved, but Google reportedly was still using the workaround to remove all gorilla from the training data, and thus was not able to recognize real gorillas at all. Similar issues with recognizing non-white people have been found in many other systems. In 2016, Microsoft tested a chatbot that learned from Twitter, and it quickly picked up racist and sexist language. Because of such challenges, the effective use of machine learning may take longer to be adopted in other domains. Concern for reducing bias in machine learning and propelling its use for human good is increasingly expressed by artificial intelligence scientists, including Fei-Fei Li, who reminds engineers that \"There’s nothing artificial about AI...It’s inspired by people, it’s created by people, and—most importantly—it impacts people. It is a powerful tool we are only just beginning to understand, and that is a profound responsibility.”\n",
            "\n",
            "\n",
            "== Model assessments ==\n",
            "Classification machine learning models can be validated by accuracy estimation techniques like the Holdout method, which splits the data in a training and test set (conventionally 2/3 training set and 1/3 test set designation) and evaluates the performance of the training model on the test set. In comparison, the N-fold-cross-validation method randomly splits the data in k subsets where the k-1 instances of the data are used to train the model while the kth instance is used to test the predictive ability of the training model. In addition to the holdout and cross-validation methods, bootstrap, which samples n instances with replacement from the dataset, can be used to assess model accuracy.In addition to overall accuracy, investigators frequently report sensitivity and specificity meaning True Positive Rate (TPR) and True Negative Rate (TNR) respectively. Similarly, investigators sometimes report the False Positive Rate (FPR) as well as the False Negative Rate (FNR). However, these rates are ratios that fail to reveal their numerators and denominators. The Total Operating Characteristic (TOC) is an effective method to express a model's diagnostic ability. TOC shows the numerators and denominators of the previously mentioned rates, thus TOC provides more information than the commonly used Receiver Operating Characteristic (ROC) and ROC's associated Area Under the Curve (AUC).\n",
            "\n",
            "\n",
            "== Ethics ==\n",
            "Machine learning poses a host of ethical questions. Systems which are trained on datasets collected with biases may exhibit these biases upon use (algorithmic bias), thus digitizing cultural prejudices. For example, using job hiring data from a firm with racist hiring policies may lead to a machine learning system duplicating the bias by scoring job applicants against similarity to previous successful applicants. Responsible collection of data and documentation of algorithmic rules used by a system thus is a critical part of machine learning.\n",
            "Because language contains biases, machines trained on language corpora will necessarily also learn bias.Other forms of ethical challenges, not related to personal biases, are more seen in health care. There are concerns among health care professionals that these systems might not be designed in the public's interest, but as income generating machines. This is especially true in the United States where there is a perpetual ethical dilemma of improving health care, but also increasing profits. For example, the algorithms could be designed to provide patients with unnecessary tests or medication in which the algorithm's proprietary owners hold stakes in. There is huge potential for machine learning in health care to provide professionals a great tool to diagnose, medicate, and even plan recovery paths for patients, but this will not happen until the personal biases mentioned previously, and these \"greed\" biases are addressed.\n",
            "\n",
            "\n",
            "== Software ==\n",
            "Software suites containing a variety of machine learning algorithms include the following :\n",
            "\n",
            "\n",
            "=== Free and open-source software ===\n",
            "\n",
            "\n",
            "=== Proprietary software with free and open-source editions ===\n",
            "\n",
            "\n",
            "=== Proprietary software ===\n",
            "\n",
            "\n",
            "== Journals ==\n",
            "Journal of Machine Learning Research\n",
            "Machine Learning\n",
            "Neural Computation\n",
            "Nature Machine Intelligence\n",
            "\n",
            "\n",
            "== Conferences ==\n",
            "Conference on Neural Information Processing Systems\n",
            "International Conference on Machine Learning\n",
            "\n",
            "\n",
            "== See also ==\n",
            "\n",
            "\n",
            "== References ==\n",
            "\n",
            "\n",
            "== Further reading ==\n",
            "\n",
            "Artificial Intelligence: A Modern Approach (3rd Edition)\n",
            "\n",
            "\n",
            "== External links ==\n",
            "International Machine Learning Society\n",
            "mloss is an academic database of open-source machine learning software.\n",
            "Machine Learning Crash Course by Google. This is a free course on machine learning through the use of TensorFlow.\n"
          ],
          "name": "stdout"
        }
      ]
    },
    {
      "metadata": {
        "id": "C8ugHUzSRTFH",
        "colab_type": "text"
      },
      "cell_type": "markdown",
      "source": [
        "### Create a list with name `documents` and append all the words in the 10 pages' content using the above 10 titles."
      ]
    },
    {
      "metadata": {
        "id": "G2nGZObHuRD-",
        "colab_type": "code",
        "colab": {
          "base_uri": "https://localhost:8080/",
          "height": 71
        },
        "outputId": "d823cc42-08f3-4021-a19d-1d5937ff8434"
      },
      "cell_type": "code",
      "source": [
        "import re, string\n",
        "\n",
        "def clean_str(string):\n",
        "  \"\"\"\n",
        "  String cleaning before vectorization\n",
        "  \"\"\"\n",
        "  try:    \n",
        "    string = re.sub(r'^https?:\\/\\/<>.*[\\r\\n]*', '', string, flags=re.MULTILINE)\n",
        "    string = re.sub(r\"[^A-Za-z]\", \" \", string)         \n",
        "    words = string.strip().lower().split()    \n",
        "    words = [w for w in words if len(w)>=1]\n",
        "    return \" \".join(words)\t\n",
        "  except:\n",
        "    return \"\"\n",
        "  \n",
        "docs =[]\n",
        "\n",
        "for i in range(0,len(titles)):\n",
        "  docs.append(clean_str(page(titles[i]).content))\n",
        "\n",
        "documents =[]\n",
        "\n",
        "for wikipage in docs:\n",
        "   documents.append(wikipage.split(' '))\n",
        "\n",
        "print(len(documents))\n",
        "print(documents[9])"
      ],
      "execution_count": 17,
      "outputs": [
        {
          "output_type": "stream",
          "text": [
            "10\n",
            "['extreme', 'learning', 'machines', 'are', 'feedforward', 'neural', 'networks', 'for', 'classification', 'regression', 'clustering', 'sparse', 'approximation', 'compression', 'and', 'feature', 'learning', 'with', 'a', 'single', 'layer', 'or', 'multiple', 'layers', 'of', 'hidden', 'nodes', 'where', 'the', 'parameters', 'of', 'hidden', 'nodes', 'not', 'just', 'the', 'weights', 'connecting', 'inputs', 'to', 'hidden', 'nodes', 'need', 'not', 'be', 'tuned', 'these', 'hidden', 'nodes', 'can', 'be', 'randomly', 'assigned', 'and', 'never', 'updated', 'i', 'e', 'they', 'are', 'random', 'projection', 'but', 'with', 'nonlinear', 'transforms', 'or', 'can', 'be', 'inherited', 'from', 'their', 'ancestors', 'without', 'being', 'changed', 'in', 'most', 'cases', 'the', 'output', 'weights', 'of', 'hidden', 'nodes', 'are', 'usually', 'learned', 'in', 'a', 'single', 'step', 'which', 'essentially', 'amounts', 'to', 'learning', 'a', 'linear', 'model', 'the', 'name', 'extreme', 'learning', 'machine', 'elm', 'was', 'given', 'to', 'such', 'models', 'by', 'its', 'main', 'inventor', 'guang', 'bin', 'huang', 'according', 'to', 'their', 'creators', 'these', 'models', 'are', 'able', 'to', 'produce', 'good', 'generalization', 'performance', 'and', 'learn', 'thousands', 'of', 'times', 'faster', 'than', 'networks', 'trained', 'using', 'backpropagation', 'in', 'literature', 'it', 'also', 'shows', 'that', 'these', 'models', 'can', 'outperform', 'support', 'vector', 'machines', 'svm', 'and', 'svm', 'provides', 'suboptimal', 'solutions', 'in', 'both', 'classification', 'and', 'regression', 'applications', 'history', 'from', 'elm', 'research', 'mainly', 'focused', 'on', 'the', 'unified', 'learning', 'framework', 'for', 'generalized', 'single', 'hidden', 'layer', 'feedforward', 'neural', 'networks', 'slfns', 'including', 'but', 'not', 'limited', 'to', 'sigmoid', 'networks', 'rbf', 'networks', 'threshold', 'networks', 'trigonometric', 'networks', 'fuzzy', 'inference', 'systems', 'fourier', 'series', 'laplacian', 'transform', 'wavelet', 'networks', 'etc', 'one', 'significant', 'achievements', 'made', 'in', 'those', 'years', 'is', 'to', 'successfully', 'prove', 'the', 'universal', 'approximation', 'and', 'classification', 'capabilities', 'of', 'elm', 'in', 'theory', 'from', 'to', 'elm', 'research', 'extended', 'to', 'the', 'unified', 'learning', 'framework', 'for', 'kernel', 'learning', 'svm', 'and', 'a', 'few', 'typical', 'feature', 'learning', 'methods', 'such', 'as', 'principal', 'component', 'analysis', 'pca', 'and', 'non', 'negative', 'matrix', 'factorization', 'nmf', 'it', 'is', 'shown', 'that', 'svm', 'actually', 'provides', 'suboptimal', 'solutions', 'compared', 'to', 'elm', 'and', 'elm', 'can', 'provide', 'the', 'whitebox', 'kernel', 'mapping', 'which', 'is', 'implemented', 'by', 'elm', 'random', 'feature', 'mapping', 'instead', 'of', 'the', 'blackbox', 'kernel', 'used', 'in', 'svm', 'pca', 'and', 'nmf', 'can', 'be', 'considered', 'as', 'special', 'cases', 'where', 'linear', 'hidden', 'nodes', 'are', 'used', 'in', 'elm', 'from', 'onwards', 'an', 'increased', 'focus', 'has', 'been', 'placed', 'on', 'hierarchical', 'implementations', 'of', 'elm', 'additionally', 'since', 'significant', 'biological', 'studies', 'have', 'been', 'made', 'that', 'support', 'certain', 'elm', 'theories', 'in', 'a', 'recent', 'announcement', 'from', 'google', 'scholar', 'classic', 'papers', 'articles', 'that', 'have', 'stood', 'the', 'test', 'of', 'time', 'two', 'elm', 'papers', 'have', 'been', 'listed', 'in', 'the', 'top', 'in', 'artificial', 'intelligence', 'for', 'taking', 'positions', 'and', 'algorithms', 'given', 'a', 'single', 'hidden', 'layer', 'of', 'elm', 'suppose', 'that', 'the', 'output', 'function', 'of', 'the', 'i', 'displaystyle', 'i', 'th', 'hidden', 'node', 'is', 'h', 'i', 'x', 'g', 'a', 'i', 'b', 'i', 'x', 'displaystyle', 'h', 'i', 'mathbf', 'x', 'g', 'mathbf', 'a', 'i', 'b', 'i', 'mathbf', 'x', 'where', 'a', 'i', 'displaystyle', 'mathbf', 'a', 'i', 'and', 'b', 'i', 'displaystyle', 'b', 'i', 'are', 'the', 'parameters', 'of', 'the', 'i', 'displaystyle', 'i', 'th', 'hidden', 'node', 'the', 'output', 'function', 'of', 'the', 'elm', 'for', 'slfns', 'with', 'l', 'displaystyle', 'l', 'hidden', 'nodes', 'is', 'f', 'l', 'x', 'i', 'l', 'i', 'h', 'i', 'x', 'displaystyle', 'f', 'l', 'bf', 'x', 'sum', 'i', 'l', 'boldsymbol', 'beta', 'i', 'h', 'i', 'bf', 'x', 'where', 'i', 'displaystyle', 'boldsymbol', 'beta', 'i', 'is', 'the', 'output', 'weight', 'of', 'the', 'i', 'displaystyle', 'i', 'th', 'hidden', 'node', 'h', 'x', 'g', 'h', 'i', 'x', 'h', 'l', 'x', 'displaystyle', 'mathbf', 'h', 'mathbf', 'x', 'g', 'h', 'i', 'mathbf', 'x', 'h', 'l', 'mathbf', 'x', 'is', 'the', 'hidden', 'layer', 'output', 'mapping', 'of', 'elm', 'given', 'n', 'displaystyle', 'n', 'training', 'samples', 'the', 'hidden', 'layer', 'output', 'matrix', 'h', 'displaystyle', 'mathbf', 'h', 'of', 'elm', 'is', 'given', 'as', 'h', 'h', 'x', 'h', 'x', 'n', 'g', 'a', 'b', 'x', 'g', 'a', 'l', 'b', 'l', 'x', 'g', 'a', 'b', 'x', 'n', 'g', 'a', 'l', 'b', 'l', 'x', 'n', 'displaystyle', 'bf', 'h', 'left', 'begin', 'matrix', 'bf', 'h', 'bf', 'x', 'vdots', 'bf', 'h', 'bf', 'x', 'n', 'end', 'matrix', 'right', 'left', 'begin', 'matrix', 'g', 'bf', 'a', 'b', 'bf', 'x', 'cdots', 'g', 'bf', 'a', 'l', 'b', 'l', 'bf', 'x', 'vdots', 'vdots', 'vdots', 'g', 'bf', 'a', 'b', 'bf', 'x', 'n', 'cdots', 'g', 'bf', 'a', 'l', 'b', 'l', 'bf', 'x', 'n', 'end', 'matrix', 'right', 'and', 't', 'displaystyle', 'mathbf', 't', 'is', 'the', 'training', 'data', 'target', 'matrix', 't', 't', 't', 'n', 'displaystyle', 'bf', 't', 'left', 'begin', 'matrix', 'bf', 't', 'vdots', 'bf', 't', 'n', 'end', 'matrix', 'right', 'generally', 'speaking', 'elm', 'is', 'a', 'kind', 'of', 'regularization', 'neural', 'networks', 'but', 'with', 'non', 'tuned', 'hidden', 'layer', 'mappings', 'formed', 'by', 'either', 'random', 'hidden', 'nodes', 'kernels', 'or', 'other', 'implementations', 'its', 'objective', 'function', 'is', 'minimize', 'p', 'c', 'h', 't', 'q', 'displaystyle', 'text', 'minimize', 'boldsymbol', 'beta', 'p', 'sigma', 'c', 'bf', 'h', 'boldsymbol', 'beta', 'bf', 't', 'q', 'sigma', 'where', 'p', 'q', 'displaystyle', 'sigma', 'sigma', 'p', 'q', 'frac', 'cdots', 'infty', 'different', 'combinations', 'of', 'displaystyle', 'sigma', 'displaystyle', 'sigma', 'p', 'displaystyle', 'p', 'and', 'q', 'displaystyle', 'q', 'can', 'be', 'used', 'and', 'result', 'in', 'different', 'learning', 'algorithms', 'for', 'regression', 'classification', 'sparse', 'coding', 'compression', 'feature', 'learning', 'and', 'clustering', 'as', 'a', 'special', 'case', 'a', 'simplest', 'elm', 'training', 'algorithm', 'learns', 'a', 'model', 'of', 'the', 'form', 'for', 'single', 'hidden', 'layer', 'sigmoid', 'neural', 'networks', 'y', 'w', 'w', 'x', 'displaystyle', 'mathbf', 'hat', 'y', 'mathbf', 'w', 'sigma', 'mathbf', 'w', 'x', 'where', 'w', 'is', 'the', 'matrix', 'of', 'input', 'to', 'hidden', 'layer', 'weights', 'displaystyle', 'sigma', 'is', 'an', 'activation', 'function', 'and', 'w', 'is', 'the', 'matrix', 'of', 'hidden', 'to', 'output', 'layer', 'weights', 'the', 'algorithm', 'proceeds', 'as', 'follows', 'fill', 'w', 'with', 'random', 'values', 'e', 'g', 'gaussian', 'random', 'noise', 'estimate', 'w', 'by', 'least', 'squares', 'fit', 'to', 'a', 'matrix', 'of', 'response', 'variables', 'y', 'computed', 'using', 'the', 'pseudoinverse', 'given', 'a', 'design', 'matrix', 'x', 'w', 'w', 'x', 'y', 'displaystyle', 'mathbf', 'w', 'sigma', 'mathbf', 'w', 'mathbf', 'x', 'mathbf', 'y', 'architectures', 'in', 'most', 'cases', 'elm', 'is', 'used', 'as', 'a', 'single', 'hidden', 'layer', 'feedforward', 'network', 'slfn', 'including', 'but', 'not', 'limited', 'to', 'sigmoid', 'networks', 'rbf', 'networks', 'threshold', 'networks', 'fuzzy', 'inference', 'networks', 'complex', 'neural', 'networks', 'wavelet', 'networks', 'fourier', 'transform', 'laplacian', 'transform', 'etc', 'due', 'to', 'its', 'different', 'learning', 'algorithm', 'implementations', 'for', 'regression', 'classification', 'spare', 'coding', 'compression', 'feature', 'learning', 'and', 'clustering', 'multi', 'elms', 'have', 'been', 'used', 'to', 'form', 'multi', 'hidden', 'layer', 'networks', 'deep', 'learning', 'or', 'hierarchical', 'networks', 'a', 'hidden', 'node', 'in', 'elm', 'is', 'a', 'computational', 'elements', 'which', 'need', 'not', 'be', 'considered', 'as', 'classical', 'neuron', 'a', 'hidden', 'node', 'in', 'elm', 'can', 'be', 'classical', 'artificial', 'neurons', 'basis', 'functions', 'or', 'a', 'subnetwork', 'formed', 'by', 'some', 'hidden', 'nodes', 'theories', 'both', 'universal', 'approximation', 'and', 'classification', 'capabilities', 'have', 'been', 'proved', 'for', 'elm', 'in', 'literature', 'especially', 'guang', 'bin', 'huang', 'and', 'his', 'team', 'spent', 'almost', 'seven', 'years', 'on', 'the', 'rigorous', 'proofs', 'of', 'elm', 's', 'universal', 'approximation', 'capability', 'universal', 'approximation', 'capability', 'in', 'theory', 'any', 'nonconstant', 'piecewise', 'continuous', 'function', 'can', 'be', 'used', 'as', 'activation', 'function', 'in', 'elm', 'hidden', 'nodes', 'such', 'an', 'activation', 'function', 'need', 'not', 'be', 'differential', 'if', 'tuning', 'the', 'parameters', 'of', 'hidden', 'nodes', 'could', 'make', 'slfns', 'approximate', 'any', 'target', 'function', 'f', 'x', 'displaystyle', 'f', 'mathbf', 'x', 'then', 'hidden', 'node', 'parameters', 'can', 'be', 'randomly', 'generated', 'according', 'to', 'any', 'continuous', 'distribution', 'probability', 'and', 'lim', 'l', 'i', 'l', 'i', 'h', 'i', 'x', 'f', 'x', 'displaystyle', 'lim', 'l', 'rightarrow', 'infty', 'left', 'sum', 'i', 'l', 'boldsymbol', 'beta', 'i', 'h', 'i', 'bf', 'x', 'f', 'bf', 'x', 'right', 'holds', 'with', 'probability', 'one', 'with', 'appropriate', 'output', 'weights', 'displaystyle', 'boldsymbol', 'beta', 'classification', 'capability', 'given', 'any', 'nonconstant', 'piecewise', 'continuous', 'function', 'as', 'the', 'activation', 'function', 'in', 'slfns', 'if', 'tuning', 'the', 'parameters', 'of', 'hidden', 'nodes', 'can', 'make', 'slfns', 'approximate', 'any', 'target', 'function', 'f', 'x', 'displaystyle', 'f', 'mathbf', 'x', 'then', 'slfns', 'with', 'random', 'hidden', 'layer', 'mapping', 'h', 'x', 'displaystyle', 'mathbf', 'h', 'mathbf', 'x', 'can', 'separate', 'arbitrary', 'disjoint', 'regions', 'of', 'any', 'shapes', 'neurons', 'wide', 'type', 'of', 'nonlinear', 'piecewise', 'continuous', 'functions', 'g', 'a', 'b', 'x', 'displaystyle', 'g', 'mathbf', 'a', 'b', 'mathbf', 'x', 'can', 'be', 'used', 'in', 'hidden', 'neurons', 'of', 'elm', 'for', 'example', 'real', 'domain', 'sigmoid', 'function', 'g', 'a', 'b', 'x', 'exp', 'a', 'x', 'b', 'displaystyle', 'g', 'mathbf', 'a', 'b', 'mathbf', 'x', 'frac', 'exp', 'mathbf', 'a', 'cdot', 'mathbf', 'x', 'b', 'fourier', 'function', 'g', 'a', 'b', 'x', 'sin', 'a', 'x', 'b', 'displaystyle', 'g', 'mathbf', 'a', 'b', 'mathbf', 'x', 'sin', 'mathbf', 'a', 'cdot', 'mathbf', 'x', 'b', 'hardlimit', 'function', 'g', 'a', 'b', 'x', 'if', 'a', 'x', 'b', 'otherwise', 'displaystyle', 'g', 'mathbf', 'a', 'b', 'mathbf', 'x', 'begin', 'cases', 'text', 'if', 'bf', 'a', 'cdot', 'bf', 'x', 'b', 'geq', 'text', 'otherwise', 'end', 'cases', 'gaussian', 'function', 'g', 'a', 'b', 'x', 'exp', 'b', 'x', 'a', 'displaystyle', 'g', 'mathbf', 'a', 'b', 'mathbf', 'x', 'exp', 'b', 'mathbf', 'x', 'mathbf', 'a', 'multiquadrics', 'function', 'g', 'a', 'b', 'x', 'x', 'a', 'b', 'displaystyle', 'g', 'mathbf', 'a', 'b', 'mathbf', 'x', 'mathbf', 'x', 'mathbf', 'a', 'b', 'wavelet', 'g', 'a', 'b', 'x', 'a', 'x', 'a', 'b', 'displaystyle', 'g', 'mathbf', 'a', 'b', 'mathbf', 'x', 'a', 'psi', 'left', 'frac', 'mathbf', 'x', 'mathbf', 'a', 'b', 'right', 'where', 'displaystyle', 'psi', 'is', 'a', 'single', 'mother', 'wavelet', 'function', 'complex', 'domain', 'circular', 'functions', 'tan', 'z', 'e', 'i', 'z', 'e', 'i', 'z', 'i', 'e', 'i', 'z', 'e', 'i', 'z', 'displaystyle', 'tan', 'z', 'frac', 'e', 'iz', 'e', 'iz', 'i', 'e', 'iz', 'e', 'iz', 'sin', 'z', 'e', 'i', 'z', 'e', 'i', 'z', 'i', 'displaystyle', 'sin', 'z', 'frac', 'e', 'iz', 'e', 'iz', 'i', 'inverse', 'circular', 'functions', 'arctan', 'z', 'z', 'd', 't', 't', 'displaystyle', 'arctan', 'z', 'int', 'z', 'frac', 'dt', 't', 'arccos', 'z', 'z', 'd', 't', 't', 'displaystyle', 'arccos', 'z', 'int', 'z', 'frac', 'dt', 't', 'hyperbolic', 'functions', 'tanh', 'z', 'e', 'z', 'e', 'z', 'e', 'z', 'e', 'z', 'displaystyle', 'tanh', 'z', 'frac', 'e', 'z', 'e', 'z', 'e', 'z', 'e', 'z', 'sinh', 'z', 'e', 'z', 'e', 'z', 'displaystyle', 'sinh', 'z', 'frac', 'e', 'z', 'e', 'z', 'inverse', 'hyperbolic', 'functions', 'arctanh', 'z', 'z', 'd', 't', 't', 'displaystyle', 'text', 'arctanh', 'z', 'int', 'z', 'frac', 'dt', 't', 'arcsinh', 'z', 'z', 'd', 't', 't', 'displaystyle', 'text', 'arcsinh', 'z', 'int', 'z', 'frac', 'dt', 't', 'reliability', 'the', 'black', 'box', 'character', 'of', 'neural', 'networks', 'in', 'general', 'and', 'extreme', 'learning', 'machines', 'elm', 'in', 'particular', 'is', 'one', 'of', 'the', 'major', 'concerns', 'that', 'repels', 'engineers', 'from', 'application', 'in', 'unsafe', 'automation', 'tasks', 'this', 'particular', 'issue', 'was', 'approached', 'by', 'means', 'of', 'several', 'different', 'techniques', 'one', 'approach', 'is', 'to', 'reduce', 'the', 'dependence', 'on', 'the', 'random', 'input', 'another', 'approach', 'focuses', 'on', 'the', 'incorporation', 'of', 'continuous', 'constraints', 'into', 'the', 'learning', 'process', 'of', 'elms', 'which', 'are', 'derived', 'from', 'prior', 'knowledge', 'about', 'the', 'specific', 'task', 'this', 'is', 'reasonable', 'because', 'machine', 'learning', 'solutions', 'have', 'to', 'guarantee', 'a', 'safe', 'operation', 'in', 'many', 'application', 'domains', 'the', 'mentioned', 'studies', 'revealed', 'that', 'the', 'special', 'form', 'of', 'elms', 'with', 'its', 'functional', 'separation', 'and', 'the', 'linear', 'read', 'out', 'weights', 'is', 'particularly', 'well', 'suited', 'for', 'the', 'efficient', 'incorporation', 'of', 'continuous', 'constraints', 'in', 'predefined', 'regions', 'of', 'the', 'input', 'space', 'controversy', 'there', 'are', 'two', 'main', 'complaints', 'from', 'academic', 'community', 'concerning', 'this', 'work', 'the', 'first', 'one', 'is', 'about', 'reinventing', 'and', 'ignoring', 'previous', 'ideas', 'the', 'second', 'one', 'is', 'about', 'improper', 'naming', 'and', 'popularizing', 'as', 'shown', 'in', 'some', 'debates', 'in', 'and', 'in', 'particular', 'it', 'was', 'pointed', 'out', 'in', 'a', 'letter', 'to', 'the', 'editor', 'of', 'ieee', 'transactions', 'on', 'neural', 'networks', 'that', 'the', 'idea', 'of', 'using', 'a', 'hidden', 'layer', 'connected', 'to', 'the', 'inputs', 'by', 'random', 'untrained', 'weights', 'was', 'already', 'suggested', 'in', 'the', 'original', 'papers', 'on', 'rbf', 'networks', 'in', 'the', 'late', 's', 'guang', 'bin', 'huang', 'replied', 'by', 'pointing', 'out', 'subtle', 'differences', 'in', 'a', 'paper', 'huang', 'responded', 'to', 'complaints', 'about', 'his', 'invention', 'of', 'the', 'name', 'elm', 'for', 'already', 'existing', 'methods', 'complaining', 'of', 'very', 'negative', 'and', 'unhelpful', 'comments', 'on', 'elm', 'in', 'neither', 'academic', 'nor', 'professional', 'manner', 'due', 'to', 'various', 'reasons', 'and', 'intentions', 'and', 'an', 'irresponsible', 'anonymous', 'attack', 'which', 'intends', 'to', 'destroy', 'harmony', 'research', 'environment', 'arguing', 'that', 'his', 'work', 'provides', 'a', 'unifying', 'learning', 'platform', 'for', 'various', 'types', 'of', 'neural', 'nets', 'including', 'hierarchical', 'structured', 'elm', 'in', 'huang', 'also', 'gave', 'a', 'formal', 'rebuttal', 'to', 'what', 'he', 'considered', 'as', 'malign', 'and', 'attack', 'recent', 'research', 'replaces', 'the', 'random', 'weights', 'with', 'constrained', 'random', 'weights', 'open', 'sources', 'matlab', 'library', 'python', 'library', 'see', 'also', 'reservoir', 'computing', 'random', 'projection', 'random', 'matrix', 'references']\n"
          ],
          "name": "stdout"
        }
      ]
    },
    {
      "metadata": {
        "id": "eyo1zvzERVgG",
        "colab_type": "text"
      },
      "cell_type": "markdown",
      "source": [
        "### Build the gensim model for word2vec with by considering all the words with frequency >=1 with embedding size=50"
      ]
    },
    {
      "metadata": {
        "id": "hMkxm5eHRVts",
        "colab_type": "code",
        "colab": {}
      },
      "cell_type": "code",
      "source": [
        "#Build the model\n",
        "model = gensim.models.Word2Vec(documents, #Word list\n",
        "                               min_count=1, #Ignore all words with total frequency lower than this                           \n",
        "                               workers=4, #Number of CPUs\n",
        "                               size=50,  #Embedding size\n",
        "                               window=5, #Maximum Distance between current and predicted word\n",
        "                               iter=10   #Number of iterations over the text corpus\n",
        "                              )  "
      ],
      "execution_count": 0,
      "outputs": []
    },
    {
      "metadata": {
        "id": "FyLV4F6uRYZx",
        "colab_type": "text"
      },
      "cell_type": "markdown",
      "source": [
        "### Exploring the model"
      ]
    },
    {
      "metadata": {
        "id": "6iuSUoJERYhc",
        "colab_type": "code",
        "colab": {
          "base_uri": "https://localhost:8080/",
          "height": 88
        },
        "outputId": "b9f15eb5-d759-49e2-918d-cfa9252bff97"
      },
      "cell_type": "code",
      "source": [
        "model.wv.syn0.shape"
      ],
      "execution_count": 19,
      "outputs": [
        {
          "output_type": "stream",
          "text": [
            "/usr/local/lib/python3.6/dist-packages/ipykernel_launcher.py:1: DeprecationWarning: Call to deprecated `syn0` (Attribute will be removed in 4.0.0, use self.vectors instead).\n",
            "  \"\"\"Entry point for launching an IPython kernel.\n"
          ],
          "name": "stderr"
        },
        {
          "output_type": "execute_result",
          "data": {
            "text/plain": [
              "(4449, 50)"
            ]
          },
          "metadata": {
            "tags": []
          },
          "execution_count": 19
        }
      ]
    },
    {
      "metadata": {
        "id": "XxUuShBTRaYH",
        "colab_type": "text"
      },
      "cell_type": "markdown",
      "source": [
        "#### Check how many words in the model"
      ]
    },
    {
      "metadata": {
        "id": "S4lMhzWlRamw",
        "colab_type": "code",
        "colab": {
          "base_uri": "https://localhost:8080/",
          "height": 17034
        },
        "outputId": "e0fbfafa-e113-460a-c4a7-ecb9970e7f80"
      },
      "cell_type": "code",
      "source": [
        "model.wv.vocab"
      ],
      "execution_count": 20,
      "outputs": [
        {
          "output_type": "execute_result",
          "data": {
            "text/plain": [
              "{'machine': <gensim.models.keyedvectors.Vocab at 0x7f1200bf6c88>,\n",
              " 'learning': <gensim.models.keyedvectors.Vocab at 0x7f1200a2b048>,\n",
              " 'ml': <gensim.models.keyedvectors.Vocab at 0x7f12008b0470>,\n",
              " 'is': <gensim.models.keyedvectors.Vocab at 0x7f12008b04a8>,\n",
              " 'the': <gensim.models.keyedvectors.Vocab at 0x7f12008b0550>,\n",
              " 'scientific': <gensim.models.keyedvectors.Vocab at 0x7f12008b0588>,\n",
              " 'study': <gensim.models.keyedvectors.Vocab at 0x7f12008b05c0>,\n",
              " 'of': <gensim.models.keyedvectors.Vocab at 0x7f12008b05f8>,\n",
              " 'algorithms': <gensim.models.keyedvectors.Vocab at 0x7f12008b0630>,\n",
              " 'and': <gensim.models.keyedvectors.Vocab at 0x7f12008b0668>,\n",
              " 'statistical': <gensim.models.keyedvectors.Vocab at 0x7f12008b06a0>,\n",
              " 'models': <gensim.models.keyedvectors.Vocab at 0x7f12008b06d8>,\n",
              " 'that': <gensim.models.keyedvectors.Vocab at 0x7f12008b0710>,\n",
              " 'computer': <gensim.models.keyedvectors.Vocab at 0x7f12008b0748>,\n",
              " 'systems': <gensim.models.keyedvectors.Vocab at 0x7f12008b0780>,\n",
              " 'use': <gensim.models.keyedvectors.Vocab at 0x7f12008b07b8>,\n",
              " 'to': <gensim.models.keyedvectors.Vocab at 0x7f12008b07f0>,\n",
              " 'effectively': <gensim.models.keyedvectors.Vocab at 0x7f12008b0828>,\n",
              " 'perform': <gensim.models.keyedvectors.Vocab at 0x7f12008b0860>,\n",
              " 'a': <gensim.models.keyedvectors.Vocab at 0x7f12008b0898>,\n",
              " 'specific': <gensim.models.keyedvectors.Vocab at 0x7f12008b08d0>,\n",
              " 'task': <gensim.models.keyedvectors.Vocab at 0x7f12008b0908>,\n",
              " 'without': <gensim.models.keyedvectors.Vocab at 0x7f12008b0940>,\n",
              " 'using': <gensim.models.keyedvectors.Vocab at 0x7f12008b0978>,\n",
              " 'explicit': <gensim.models.keyedvectors.Vocab at 0x7f12008b09b0>,\n",
              " 'instructions': <gensim.models.keyedvectors.Vocab at 0x7f12008b09e8>,\n",
              " 'relying': <gensim.models.keyedvectors.Vocab at 0x7f12008b0a20>,\n",
              " 'on': <gensim.models.keyedvectors.Vocab at 0x7f12008b0a58>,\n",
              " 'patterns': <gensim.models.keyedvectors.Vocab at 0x7f12008b0a90>,\n",
              " 'inference': <gensim.models.keyedvectors.Vocab at 0x7f12008b0ac8>,\n",
              " 'instead': <gensim.models.keyedvectors.Vocab at 0x7f12008b0b00>,\n",
              " 'it': <gensim.models.keyedvectors.Vocab at 0x7f12008b0b38>,\n",
              " 'seen': <gensim.models.keyedvectors.Vocab at 0x7f12008b0b70>,\n",
              " 'as': <gensim.models.keyedvectors.Vocab at 0x7f12008b0ba8>,\n",
              " 'subset': <gensim.models.keyedvectors.Vocab at 0x7f12008b0be0>,\n",
              " 'artificial': <gensim.models.keyedvectors.Vocab at 0x7f12008b0c18>,\n",
              " 'intelligence': <gensim.models.keyedvectors.Vocab at 0x7f12008b0c50>,\n",
              " 'build': <gensim.models.keyedvectors.Vocab at 0x7f12008b0c88>,\n",
              " 'mathematical': <gensim.models.keyedvectors.Vocab at 0x7f12008b0cc0>,\n",
              " 'model': <gensim.models.keyedvectors.Vocab at 0x7f12008b0cf8>,\n",
              " 'sample': <gensim.models.keyedvectors.Vocab at 0x7f12008b0d30>,\n",
              " 'data': <gensim.models.keyedvectors.Vocab at 0x7f12008b0d68>,\n",
              " 'known': <gensim.models.keyedvectors.Vocab at 0x7f12008b0da0>,\n",
              " 'training': <gensim.models.keyedvectors.Vocab at 0x7f12008b0dd8>,\n",
              " 'in': <gensim.models.keyedvectors.Vocab at 0x7f12008b0e10>,\n",
              " 'order': <gensim.models.keyedvectors.Vocab at 0x7f12008b0e48>,\n",
              " 'make': <gensim.models.keyedvectors.Vocab at 0x7f12008b0e80>,\n",
              " 'predictions': <gensim.models.keyedvectors.Vocab at 0x7f12008b0eb8>,\n",
              " 'or': <gensim.models.keyedvectors.Vocab at 0x7f12008b0ef0>,\n",
              " 'decisions': <gensim.models.keyedvectors.Vocab at 0x7f12008b0f28>,\n",
              " 'being': <gensim.models.keyedvectors.Vocab at 0x7f12008b0f60>,\n",
              " 'explicitly': <gensim.models.keyedvectors.Vocab at 0x7f12008b0f98>,\n",
              " 'programmed': <gensim.models.keyedvectors.Vocab at 0x7f12008b0fd0>,\n",
              " 'are': <gensim.models.keyedvectors.Vocab at 0x7f12008af048>,\n",
              " 'used': <gensim.models.keyedvectors.Vocab at 0x7f12008af080>,\n",
              " 'applications': <gensim.models.keyedvectors.Vocab at 0x7f12008af0b8>,\n",
              " 'email': <gensim.models.keyedvectors.Vocab at 0x7f12008af0f0>,\n",
              " 'filtering': <gensim.models.keyedvectors.Vocab at 0x7f12008af128>,\n",
              " 'detection': <gensim.models.keyedvectors.Vocab at 0x7f12008af160>,\n",
              " 'network': <gensim.models.keyedvectors.Vocab at 0x7f12008af198>,\n",
              " 'intruders': <gensim.models.keyedvectors.Vocab at 0x7f12008af1d0>,\n",
              " 'vision': <gensim.models.keyedvectors.Vocab at 0x7f12008af208>,\n",
              " 'where': <gensim.models.keyedvectors.Vocab at 0x7f12008af240>,\n",
              " 'infeasible': <gensim.models.keyedvectors.Vocab at 0x7f12008af278>,\n",
              " 'develop': <gensim.models.keyedvectors.Vocab at 0x7f12008af2b0>,\n",
              " 'an': <gensim.models.keyedvectors.Vocab at 0x7f12008af2e8>,\n",
              " 'algorithm': <gensim.models.keyedvectors.Vocab at 0x7f12008af320>,\n",
              " 'for': <gensim.models.keyedvectors.Vocab at 0x7f12008af358>,\n",
              " 'performing': <gensim.models.keyedvectors.Vocab at 0x7f12008af390>,\n",
              " 'closely': <gensim.models.keyedvectors.Vocab at 0x7f12008af3c8>,\n",
              " 'related': <gensim.models.keyedvectors.Vocab at 0x7f12008af400>,\n",
              " 'computational': <gensim.models.keyedvectors.Vocab at 0x7f12008af438>,\n",
              " 'statistics': <gensim.models.keyedvectors.Vocab at 0x7f12008af470>,\n",
              " 'which': <gensim.models.keyedvectors.Vocab at 0x7f12008af4a8>,\n",
              " 'focuses': <gensim.models.keyedvectors.Vocab at 0x7f12008af4e0>,\n",
              " 'making': <gensim.models.keyedvectors.Vocab at 0x7f12008af518>,\n",
              " 'computers': <gensim.models.keyedvectors.Vocab at 0x7f12008af550>,\n",
              " 'optimization': <gensim.models.keyedvectors.Vocab at 0x7f12008af588>,\n",
              " 'delivers': <gensim.models.keyedvectors.Vocab at 0x7f12008af5c0>,\n",
              " 'methods': <gensim.models.keyedvectors.Vocab at 0x7f12008af5f8>,\n",
              " 'theory': <gensim.models.keyedvectors.Vocab at 0x7f12008af630>,\n",
              " 'application': <gensim.models.keyedvectors.Vocab at 0x7f12008af668>,\n",
              " 'domains': <gensim.models.keyedvectors.Vocab at 0x7f12008af6a0>,\n",
              " 'field': <gensim.models.keyedvectors.Vocab at 0x7f12008af6d8>,\n",
              " 'mining': <gensim.models.keyedvectors.Vocab at 0x7f12008af710>,\n",
              " 'within': <gensim.models.keyedvectors.Vocab at 0x7f12008af748>,\n",
              " 'exploratory': <gensim.models.keyedvectors.Vocab at 0x7f12008af780>,\n",
              " 'analysis': <gensim.models.keyedvectors.Vocab at 0x7f12008af7b8>,\n",
              " 'through': <gensim.models.keyedvectors.Vocab at 0x7f12008af7f0>,\n",
              " 'unsupervised': <gensim.models.keyedvectors.Vocab at 0x7f12008af828>,\n",
              " 'its': <gensim.models.keyedvectors.Vocab at 0x7f12008af860>,\n",
              " 'across': <gensim.models.keyedvectors.Vocab at 0x7f12008af898>,\n",
              " 'business': <gensim.models.keyedvectors.Vocab at 0x7f12008af8d0>,\n",
              " 'problems': <gensim.models.keyedvectors.Vocab at 0x7f12008af908>,\n",
              " 'also': <gensim.models.keyedvectors.Vocab at 0x7f12008af940>,\n",
              " 'referred': <gensim.models.keyedvectors.Vocab at 0x7f12008af978>,\n",
              " 'predictive': <gensim.models.keyedvectors.Vocab at 0x7f12008af9b0>,\n",
              " 'analytics': <gensim.models.keyedvectors.Vocab at 0x7f12008af9e8>,\n",
              " 'overview': <gensim.models.keyedvectors.Vocab at 0x7f12008afa20>,\n",
              " 'name': <gensim.models.keyedvectors.Vocab at 0x7f12008afa58>,\n",
              " 'was': <gensim.models.keyedvectors.Vocab at 0x7f12008afa90>,\n",
              " 'coined': <gensim.models.keyedvectors.Vocab at 0x7f12008afac8>,\n",
              " 'by': <gensim.models.keyedvectors.Vocab at 0x7f12008afb00>,\n",
              " 'arthur': <gensim.models.keyedvectors.Vocab at 0x7f12008afb38>,\n",
              " 'samuel': <gensim.models.keyedvectors.Vocab at 0x7f12008afb70>,\n",
              " 'tom': <gensim.models.keyedvectors.Vocab at 0x7f12008afba8>,\n",
              " 'm': <gensim.models.keyedvectors.Vocab at 0x7f12008afbe0>,\n",
              " 'mitchell': <gensim.models.keyedvectors.Vocab at 0x7f12008afc18>,\n",
              " 'provided': <gensim.models.keyedvectors.Vocab at 0x7f12008afc50>,\n",
              " 'widely': <gensim.models.keyedvectors.Vocab at 0x7f12008afc88>,\n",
              " 'quoted': <gensim.models.keyedvectors.Vocab at 0x7f12008afcc0>,\n",
              " 'more': <gensim.models.keyedvectors.Vocab at 0x7f12008afcf8>,\n",
              " 'formal': <gensim.models.keyedvectors.Vocab at 0x7f12008afd30>,\n",
              " 'definition': <gensim.models.keyedvectors.Vocab at 0x7f12008afd68>,\n",
              " 'studied': <gensim.models.keyedvectors.Vocab at 0x7f12008afda0>,\n",
              " 'program': <gensim.models.keyedvectors.Vocab at 0x7f12008afdd8>,\n",
              " 'said': <gensim.models.keyedvectors.Vocab at 0x7f12008afe10>,\n",
              " 'learn': <gensim.models.keyedvectors.Vocab at 0x7f12008afe48>,\n",
              " 'from': <gensim.models.keyedvectors.Vocab at 0x7f12008afe80>,\n",
              " 'experience': <gensim.models.keyedvectors.Vocab at 0x7f12008afeb8>,\n",
              " 'e': <gensim.models.keyedvectors.Vocab at 0x7f12008afef0>,\n",
              " 'with': <gensim.models.keyedvectors.Vocab at 0x7f12008aff28>,\n",
              " 'respect': <gensim.models.keyedvectors.Vocab at 0x7f12008aff60>,\n",
              " 'some': <gensim.models.keyedvectors.Vocab at 0x7f12008aff98>,\n",
              " 'class': <gensim.models.keyedvectors.Vocab at 0x7f12008affd0>,\n",
              " 'tasks': <gensim.models.keyedvectors.Vocab at 0x7f12008b1048>,\n",
              " 't': <gensim.models.keyedvectors.Vocab at 0x7f12008b1080>,\n",
              " 'performance': <gensim.models.keyedvectors.Vocab at 0x7f12008b10b8>,\n",
              " 'measure': <gensim.models.keyedvectors.Vocab at 0x7f12008b10f0>,\n",
              " 'p': <gensim.models.keyedvectors.Vocab at 0x7f1200bf62e8>,\n",
              " 'if': <gensim.models.keyedvectors.Vocab at 0x7f1200bf6668>,\n",
              " 'at': <gensim.models.keyedvectors.Vocab at 0x7f1200bf60f0>,\n",
              " 'measured': <gensim.models.keyedvectors.Vocab at 0x7f1200bf6860>,\n",
              " 'improves': <gensim.models.keyedvectors.Vocab at 0x7f1200bf6b38>,\n",
              " 'this': <gensim.models.keyedvectors.Vocab at 0x7f1200bf6ba8>,\n",
              " 'concerned': <gensim.models.keyedvectors.Vocab at 0x7f1200bf65f8>,\n",
              " 'offers': <gensim.models.keyedvectors.Vocab at 0x7f1200bf6b00>,\n",
              " 'fundamentally': <gensim.models.keyedvectors.Vocab at 0x7f1200bf64a8>,\n",
              " 'operational': <gensim.models.keyedvectors.Vocab at 0x7f1200bf6630>,\n",
              " 'rather': <gensim.models.keyedvectors.Vocab at 0x7f1200bf6828>,\n",
              " 'than': <gensim.models.keyedvectors.Vocab at 0x7f1200bf6198>,\n",
              " 'defining': <gensim.models.keyedvectors.Vocab at 0x7f1200bf6da0>,\n",
              " 'cognitive': <gensim.models.keyedvectors.Vocab at 0x7f1200bf6390>,\n",
              " 'terms': <gensim.models.keyedvectors.Vocab at 0x7f1200bf6cf8>,\n",
              " 'follows': <gensim.models.keyedvectors.Vocab at 0x7f1200bf6cc0>,\n",
              " 'alan': <gensim.models.keyedvectors.Vocab at 0x7f1200bf6c50>,\n",
              " 'turing': <gensim.models.keyedvectors.Vocab at 0x7f1200bf6400>,\n",
              " 's': <gensim.models.keyedvectors.Vocab at 0x7f1200bf6588>,\n",
              " 'proposal': <gensim.models.keyedvectors.Vocab at 0x7f1200bf6a20>,\n",
              " 'his': <gensim.models.keyedvectors.Vocab at 0x7f1200bf66a0>,\n",
              " 'paper': <gensim.models.keyedvectors.Vocab at 0x7f1200bf6e10>,\n",
              " 'computing': <gensim.models.keyedvectors.Vocab at 0x7f1200bf61d0>,\n",
              " 'machinery': <gensim.models.keyedvectors.Vocab at 0x7f1200bf6eb8>,\n",
              " 'question': <gensim.models.keyedvectors.Vocab at 0x7f1200bf6710>,\n",
              " 'can': <gensim.models.keyedvectors.Vocab at 0x7f1200bf6518>,\n",
              " 'machines': <gensim.models.keyedvectors.Vocab at 0x7f1200bf67b8>,\n",
              " 'think': <gensim.models.keyedvectors.Vocab at 0x7f1200bf6320>,\n",
              " 'replaced': <gensim.models.keyedvectors.Vocab at 0x7f1200bf6470>,\n",
              " 'do': <gensim.models.keyedvectors.Vocab at 0x7f1200bf69e8>,\n",
              " 'what': <gensim.models.keyedvectors.Vocab at 0x7f1200bf6080>,\n",
              " 'we': <gensim.models.keyedvectors.Vocab at 0x7f1200bf64e0>,\n",
              " 'thinking': <gensim.models.keyedvectors.Vocab at 0x7f1200bf69b0>,\n",
              " 'entities': <gensim.models.keyedvectors.Vocab at 0x7f1200bf68d0>,\n",
              " 'various': <gensim.models.keyedvectors.Vocab at 0x7f1200bf6048>,\n",
              " 'characteristics': <gensim.models.keyedvectors.Vocab at 0x7f1200bf6d68>,\n",
              " 'could': <gensim.models.keyedvectors.Vocab at 0x7f1200bf6e48>,\n",
              " 'be': <gensim.models.keyedvectors.Vocab at 0x7f1200bf6dd8>,\n",
              " 'possessed': <gensim.models.keyedvectors.Vocab at 0x7f1200bf6780>,\n",
              " 'implications': <gensim.models.keyedvectors.Vocab at 0x7f1200bf6d30>,\n",
              " 'constructing': <gensim.models.keyedvectors.Vocab at 0x7f1200bf67f0>,\n",
              " 'one': <gensim.models.keyedvectors.Vocab at 0x7f1200bf6898>,\n",
              " 'exposed': <gensim.models.keyedvectors.Vocab at 0x7f1200bf63c8>,\n",
              " 'classified': <gensim.models.keyedvectors.Vocab at 0x7f1200bf6748>,\n",
              " 'into': <gensim.models.keyedvectors.Vocab at 0x7f1200bf6908>,\n",
              " 'several': <gensim.models.keyedvectors.Vocab at 0x7f1200bf62b0>,\n",
              " 'broad': <gensim.models.keyedvectors.Vocab at 0x7f1200bf6f28>,\n",
              " 'categories': <gensim.models.keyedvectors.Vocab at 0x7f1200bf6ef0>,\n",
              " 'supervised': <gensim.models.keyedvectors.Vocab at 0x7f1200bf6a58>,\n",
              " 'builds': <gensim.models.keyedvectors.Vocab at 0x7f1200bf6550>,\n",
              " 'set': <gensim.models.keyedvectors.Vocab at 0x7f1200bf6be0>,\n",
              " 'contains': <gensim.models.keyedvectors.Vocab at 0x7f1200bf6128>,\n",
              " 'both': <gensim.models.keyedvectors.Vocab at 0x7f1200bf6c18>,\n",
              " 'inputs': <gensim.models.keyedvectors.Vocab at 0x7f1200bf6940>,\n",
              " 'desired': <gensim.models.keyedvectors.Vocab at 0x7f1200bf6978>,\n",
              " 'outputs': <gensim.models.keyedvectors.Vocab at 0x7f1200bf6e80>,\n",
              " 'example': <gensim.models.keyedvectors.Vocab at 0x7f1200bf6160>,\n",
              " 'were': <gensim.models.keyedvectors.Vocab at 0x7f1200bf6ac8>,\n",
              " 'determining': <gensim.models.keyedvectors.Vocab at 0x7f1200bf6240>,\n",
              " 'whether': <gensim.models.keyedvectors.Vocab at 0x7f1200bf6358>,\n",
              " 'image': <gensim.models.keyedvectors.Vocab at 0x7f1200bf6208>,\n",
              " 'contained': <gensim.models.keyedvectors.Vocab at 0x7f1200bf65c0>,\n",
              " 'certain': <gensim.models.keyedvectors.Vocab at 0x7f1200bf6278>,\n",
              " 'object': <gensim.models.keyedvectors.Vocab at 0x7f1200b889e8>,\n",
              " 'would': <gensim.models.keyedvectors.Vocab at 0x7f1200b88a20>,\n",
              " 'include': <gensim.models.keyedvectors.Vocab at 0x7f1200b88128>,\n",
              " 'images': <gensim.models.keyedvectors.Vocab at 0x7f1200b88080>,\n",
              " 'input': <gensim.models.keyedvectors.Vocab at 0x7f1200b88390>,\n",
              " 'each': <gensim.models.keyedvectors.Vocab at 0x7f1200b881d0>,\n",
              " 'have': <gensim.models.keyedvectors.Vocab at 0x7f1200b88320>,\n",
              " 'label': <gensim.models.keyedvectors.Vocab at 0x7f1200b88160>,\n",
              " 'output': <gensim.models.keyedvectors.Vocab at 0x7f1200b882e8>,\n",
              " 'designating': <gensim.models.keyedvectors.Vocab at 0x7f1200b88828>,\n",
              " 'special': <gensim.models.keyedvectors.Vocab at 0x7f1200b88908>,\n",
              " 'cases': <gensim.models.keyedvectors.Vocab at 0x7f1200b88978>,\n",
              " 'may': <gensim.models.keyedvectors.Vocab at 0x7f1200b88400>,\n",
              " 'only': <gensim.models.keyedvectors.Vocab at 0x7f1200b88a58>,\n",
              " 'partially': <gensim.models.keyedvectors.Vocab at 0x7f1200b882b0>,\n",
              " 'available': <gensim.models.keyedvectors.Vocab at 0x7f1200b88940>,\n",
              " 'restricted': <gensim.models.keyedvectors.Vocab at 0x7f1200b88208>,\n",
              " 'feedback': <gensim.models.keyedvectors.Vocab at 0x7f1200b88438>,\n",
              " 'semi': <gensim.models.keyedvectors.Vocab at 0x7f1200b88518>,\n",
              " 'incomplete': <gensim.models.keyedvectors.Vocab at 0x7f1200b88278>,\n",
              " 'portion': <gensim.models.keyedvectors.Vocab at 0x7f1200b88588>,\n",
              " 'doesn': <gensim.models.keyedvectors.Vocab at 0x7f1200b880f0>,\n",
              " 'labels': <gensim.models.keyedvectors.Vocab at 0x7f1200b88b00>,\n",
              " 'classification': <gensim.models.keyedvectors.Vocab at 0x7f1200b88668>,\n",
              " 'regression': <gensim.models.keyedvectors.Vocab at 0x7f1200a1fe48>,\n",
              " 'types': <gensim.models.keyedvectors.Vocab at 0x7f1200a1fef0>,\n",
              " 'when': <gensim.models.keyedvectors.Vocab at 0x7f1200a1ff60>,\n",
              " 'limited': <gensim.models.keyedvectors.Vocab at 0x7f1200a1ff28>,\n",
              " 'values': <gensim.models.keyedvectors.Vocab at 0x7f1200a1fe80>,\n",
              " 'filters': <gensim.models.keyedvectors.Vocab at 0x7f1200a1ffd0>,\n",
              " 'emails': <gensim.models.keyedvectors.Vocab at 0x7f1200a1feb8>,\n",
              " 'incoming': <gensim.models.keyedvectors.Vocab at 0x7f1200a1ff98>,\n",
              " 'folder': <gensim.models.keyedvectors.Vocab at 0x7f1202286b38>,\n",
              " 'file': <gensim.models.keyedvectors.Vocab at 0x7f120c49bdd8>,\n",
              " 'identifies': <gensim.models.keyedvectors.Vocab at 0x7f120c49be48>,\n",
              " 'spam': <gensim.models.keyedvectors.Vocab at 0x7f120c49be10>,\n",
              " 'prediction': <gensim.models.keyedvectors.Vocab at 0x7f1276fe1e48>,\n",
              " 'either': <gensim.models.keyedvectors.Vocab at 0x7f1202994978>,\n",
              " 'not': <gensim.models.keyedvectors.Vocab at 0x7f12029949b0>,\n",
              " 'represented': <gensim.models.keyedvectors.Vocab at 0x7f1263ed6710>,\n",
              " 'boolean': <gensim.models.keyedvectors.Vocab at 0x7f1200be5f28>,\n",
              " 'true': <gensim.models.keyedvectors.Vocab at 0x7f1200be5240>,\n",
              " 'false': <gensim.models.keyedvectors.Vocab at 0x7f1200be5400>,\n",
              " 'named': <gensim.models.keyedvectors.Vocab at 0x7f1200be5898>,\n",
              " 'their': <gensim.models.keyedvectors.Vocab at 0x7f1200be54e0>,\n",
              " 'continuous': <gensim.models.keyedvectors.Vocab at 0x7f1200be5438>,\n",
              " 'meaning': <gensim.models.keyedvectors.Vocab at 0x7f1200be54a8>,\n",
              " 'they': <gensim.models.keyedvectors.Vocab at 0x7f1200be52e8>,\n",
              " 'any': <gensim.models.keyedvectors.Vocab at 0x7f1200be5ba8>,\n",
              " 'value': <gensim.models.keyedvectors.Vocab at 0x7f1200be5470>,\n",
              " 'range': <gensim.models.keyedvectors.Vocab at 0x7f1200be5c88>,\n",
              " 'examples': <gensim.models.keyedvectors.Vocab at 0x7f1200be5ac8>,\n",
              " 'temperature': <gensim.models.keyedvectors.Vocab at 0x7f1200be5ef0>,\n",
              " 'length': <gensim.models.keyedvectors.Vocab at 0x7f1200be5d68>,\n",
              " 'price': <gensim.models.keyedvectors.Vocab at 0x7f1200be5a58>,\n",
              " 'no': <gensim.models.keyedvectors.Vocab at 0x7f1200be5f98>,\n",
              " 'find': <gensim.models.keyedvectors.Vocab at 0x7f1200be5e80>,\n",
              " 'structure': <gensim.models.keyedvectors.Vocab at 0x7f124f538be0>,\n",
              " 'like': <gensim.models.keyedvectors.Vocab at 0x7f124f538a58>,\n",
              " 'grouping': <gensim.models.keyedvectors.Vocab at 0x7f124f540d30>,\n",
              " 'clustering': <gensim.models.keyedvectors.Vocab at 0x7f12008b1128>,\n",
              " 'points': <gensim.models.keyedvectors.Vocab at 0x7f12008b1160>,\n",
              " 'discover': <gensim.models.keyedvectors.Vocab at 0x7f12008b1198>,\n",
              " 'group': <gensim.models.keyedvectors.Vocab at 0x7f12008b11d0>,\n",
              " 'feature': <gensim.models.keyedvectors.Vocab at 0x7f12008b1208>,\n",
              " 'dimensionality': <gensim.models.keyedvectors.Vocab at 0x7f12008b1240>,\n",
              " 'reduction': <gensim.models.keyedvectors.Vocab at 0x7f12008b1278>,\n",
              " 'process': <gensim.models.keyedvectors.Vocab at 0x7f12008b12b0>,\n",
              " 'reducing': <gensim.models.keyedvectors.Vocab at 0x7f12008b12e8>,\n",
              " 'number': <gensim.models.keyedvectors.Vocab at 0x7f12008b1320>,\n",
              " 'features': <gensim.models.keyedvectors.Vocab at 0x7f12008b1358>,\n",
              " 'active': <gensim.models.keyedvectors.Vocab at 0x7f12008b1390>,\n",
              " 'access': <gensim.models.keyedvectors.Vocab at 0x7f12008b13c8>,\n",
              " 'based': <gensim.models.keyedvectors.Vocab at 0x7f12008b1400>,\n",
              " 'budget': <gensim.models.keyedvectors.Vocab at 0x7f12008b1438>,\n",
              " 'optimize': <gensim.models.keyedvectors.Vocab at 0x7f12008b1470>,\n",
              " 'choice': <gensim.models.keyedvectors.Vocab at 0x7f12008b14a8>,\n",
              " 'will': <gensim.models.keyedvectors.Vocab at 0x7f12008b14e0>,\n",
              " 'acquire': <gensim.models.keyedvectors.Vocab at 0x7f12008b1518>,\n",
              " 'interactively': <gensim.models.keyedvectors.Vocab at 0x7f12008b1550>,\n",
              " 'these': <gensim.models.keyedvectors.Vocab at 0x7f12008b1588>,\n",
              " 'presented': <gensim.models.keyedvectors.Vocab at 0x7f12008b15c0>,\n",
              " 'human': <gensim.models.keyedvectors.Vocab at 0x7f12008b15f8>,\n",
              " 'user': <gensim.models.keyedvectors.Vocab at 0x7f12008b1630>,\n",
              " 'labeling': <gensim.models.keyedvectors.Vocab at 0x7f12008b1668>,\n",
              " 'reinforcement': <gensim.models.keyedvectors.Vocab at 0x7f12008b16a0>,\n",
              " 'given': <gensim.models.keyedvectors.Vocab at 0x7f12008b16d8>,\n",
              " 'form': <gensim.models.keyedvectors.Vocab at 0x7f12008b1710>,\n",
              " 'positive': <gensim.models.keyedvectors.Vocab at 0x7f12008b1748>,\n",
              " 'negative': <gensim.models.keyedvectors.Vocab at 0x7f12008b1780>,\n",
              " 'dynamic': <gensim.models.keyedvectors.Vocab at 0x7f12008b17b8>,\n",
              " 'environment': <gensim.models.keyedvectors.Vocab at 0x7f12008b17f0>,\n",
              " 'autonomous': <gensim.models.keyedvectors.Vocab at 0x7f12008b1828>,\n",
              " 'vehicles': <gensim.models.keyedvectors.Vocab at 0x7f12008b1860>,\n",
              " 'play': <gensim.models.keyedvectors.Vocab at 0x7f12008b1898>,\n",
              " 'game': <gensim.models.keyedvectors.Vocab at 0x7f12008b18d0>,\n",
              " 'against': <gensim.models.keyedvectors.Vocab at 0x7f12008b1908>,\n",
              " 'opponent': <gensim.models.keyedvectors.Vocab at 0x7f12008b1940>,\n",
              " 'other': <gensim.models.keyedvectors.Vocab at 0x7f12008b1978>,\n",
              " 'specialized': <gensim.models.keyedvectors.Vocab at 0x7f12008b19b0>,\n",
              " 'topic': <gensim.models.keyedvectors.Vocab at 0x7f12008b19e8>,\n",
              " 'modeling': <gensim.models.keyedvectors.Vocab at 0x7f12008b1a20>,\n",
              " 'natural': <gensim.models.keyedvectors.Vocab at 0x7f12008b1a58>,\n",
              " 'language': <gensim.models.keyedvectors.Vocab at 0x7f12008b1a90>,\n",
              " 'documents': <gensim.models.keyedvectors.Vocab at 0x7f12008b1ac8>,\n",
              " 'finds': <gensim.models.keyedvectors.Vocab at 0x7f12008b1b00>,\n",
              " 'cover': <gensim.models.keyedvectors.Vocab at 0x7f12008b1b38>,\n",
              " 'similar': <gensim.models.keyedvectors.Vocab at 0x7f12008b1b70>,\n",
              " 'topics': <gensim.models.keyedvectors.Vocab at 0x7f12008b1ba8>,\n",
              " 'unobservable': <gensim.models.keyedvectors.Vocab at 0x7f12008b1be0>,\n",
              " 'probability': <gensim.models.keyedvectors.Vocab at 0x7f12008b1c18>,\n",
              " 'density': <gensim.models.keyedvectors.Vocab at 0x7f12008b1c50>,\n",
              " 'function': <gensim.models.keyedvectors.Vocab at 0x7f12008b1c88>,\n",
              " 'estimation': <gensim.models.keyedvectors.Vocab at 0x7f12008b1cc0>,\n",
              " 'meta': <gensim.models.keyedvectors.Vocab at 0x7f12008b1cf8>,\n",
              " 'own': <gensim.models.keyedvectors.Vocab at 0x7f12008b1d30>,\n",
              " 'inductive': <gensim.models.keyedvectors.Vocab at 0x7f12008b1d68>,\n",
              " 'bias': <gensim.models.keyedvectors.Vocab at 0x7f12008b1da0>,\n",
              " 'previous': <gensim.models.keyedvectors.Vocab at 0x7f12008b1dd8>,\n",
              " 'developmental': <gensim.models.keyedvectors.Vocab at 0x7f12008b1e10>,\n",
              " 'robotics': <gensim.models.keyedvectors.Vocab at 0x7f12008b1e48>,\n",
              " 'robot': <gensim.models.keyedvectors.Vocab at 0x7f12008b1e80>,\n",
              " 'generate': <gensim.models.keyedvectors.Vocab at 0x7f12008b1eb8>,\n",
              " 'sequences': <gensim.models.keyedvectors.Vocab at 0x7f12008b1ef0>,\n",
              " 'experiences': <gensim.models.keyedvectors.Vocab at 0x7f12008b1f28>,\n",
              " 'curriculum': <gensim.models.keyedvectors.Vocab at 0x7f12008b1f60>,\n",
              " 'cumulatively': <gensim.models.keyedvectors.Vocab at 0x7f12008b1f98>,\n",
              " 'new': <gensim.models.keyedvectors.Vocab at 0x7f12008b1fd0>,\n",
              " 'skills': <gensim.models.keyedvectors.Vocab at 0x7f1200a21048>,\n",
              " 'self': <gensim.models.keyedvectors.Vocab at 0x7f1200a21080>,\n",
              " 'guided': <gensim.models.keyedvectors.Vocab at 0x7f1200a210b8>,\n",
              " 'exploration': <gensim.models.keyedvectors.Vocab at 0x7f1200a210f0>,\n",
              " 'social': <gensim.models.keyedvectors.Vocab at 0x7f1200a21128>,\n",
              " 'interaction': <gensim.models.keyedvectors.Vocab at 0x7f1200a21160>,\n",
              " 'humans': <gensim.models.keyedvectors.Vocab at 0x7f1200a21198>,\n",
              " 'robots': <gensim.models.keyedvectors.Vocab at 0x7f1200a211d0>,\n",
              " 'guidance': <gensim.models.keyedvectors.Vocab at 0x7f1200a21208>,\n",
              " 'mechanisms': <gensim.models.keyedvectors.Vocab at 0x7f1200a21240>,\n",
              " 'such': <gensim.models.keyedvectors.Vocab at 0x7f1200a21278>,\n",
              " 'maturation': <gensim.models.keyedvectors.Vocab at 0x7f1200a212b0>,\n",
              " 'motor': <gensim.models.keyedvectors.Vocab at 0x7f1200a212e8>,\n",
              " 'synergies': <gensim.models.keyedvectors.Vocab at 0x7f1200a21320>,\n",
              " 'imitation': <gensim.models.keyedvectors.Vocab at 0x7f1200a21358>,\n",
              " 'history': <gensim.models.keyedvectors.Vocab at 0x7f1200a21390>,\n",
              " 'relationships': <gensim.models.keyedvectors.Vocab at 0x7f1200a213c8>,\n",
              " 'fields': <gensim.models.keyedvectors.Vocab at 0x7f1200a21400>,\n",
              " 'american': <gensim.models.keyedvectors.Vocab at 0x7f1200a21438>,\n",
              " 'pioneer': <gensim.models.keyedvectors.Vocab at 0x7f1200a21470>,\n",
              " 'gaming': <gensim.models.keyedvectors.Vocab at 0x7f1200a214a8>,\n",
              " 'term': <gensim.models.keyedvectors.Vocab at 0x7f1200a214e0>,\n",
              " 'while': <gensim.models.keyedvectors.Vocab at 0x7f1200a21518>,\n",
              " 'ibm': <gensim.models.keyedvectors.Vocab at 0x7f1200a21550>,\n",
              " 'endeavour': <gensim.models.keyedvectors.Vocab at 0x7f1200a21588>,\n",
              " 'grew': <gensim.models.keyedvectors.Vocab at 0x7f1200a215c0>,\n",
              " 'out': <gensim.models.keyedvectors.Vocab at 0x7f1200a215f8>,\n",
              " 'quest': <gensim.models.keyedvectors.Vocab at 0x7f1200a21630>,\n",
              " 'already': <gensim.models.keyedvectors.Vocab at 0x7f1200a21668>,\n",
              " 'early': <gensim.models.keyedvectors.Vocab at 0x7f1200a216a0>,\n",
              " 'days': <gensim.models.keyedvectors.Vocab at 0x7f1200a216d8>,\n",
              " 'ai': <gensim.models.keyedvectors.Vocab at 0x7f1200a21710>,\n",
              " 'academic': <gensim.models.keyedvectors.Vocab at 0x7f1200a21748>,\n",
              " 'discipline': <gensim.models.keyedvectors.Vocab at 0x7f1200a21780>,\n",
              " 'researchers': <gensim.models.keyedvectors.Vocab at 0x7f1200a217b8>,\n",
              " 'interested': <gensim.models.keyedvectors.Vocab at 0x7f1200a217f0>,\n",
              " 'having': <gensim.models.keyedvectors.Vocab at 0x7f1200a21828>,\n",
              " 'attempted': <gensim.models.keyedvectors.Vocab at 0x7f1200a21860>,\n",
              " 'approach': <gensim.models.keyedvectors.Vocab at 0x7f1200a21898>,\n",
              " 'problem': <gensim.models.keyedvectors.Vocab at 0x7f1200a218d0>,\n",
              " 'symbolic': <gensim.models.keyedvectors.Vocab at 0x7f1200a21908>,\n",
              " 'well': <gensim.models.keyedvectors.Vocab at 0x7f1200a21940>,\n",
              " 'then': <gensim.models.keyedvectors.Vocab at 0x7f1200a21978>,\n",
              " 'termed': <gensim.models.keyedvectors.Vocab at 0x7f1200a219b0>,\n",
              " 'neural': <gensim.models.keyedvectors.Vocab at 0x7f1200a219e8>,\n",
              " 'networks': <gensim.models.keyedvectors.Vocab at 0x7f1200a21a20>,\n",
              " 'mostly': <gensim.models.keyedvectors.Vocab at 0x7f1200a21a58>,\n",
              " 'perceptrons': <gensim.models.keyedvectors.Vocab at 0x7f1200a21a90>,\n",
              " 'later': <gensim.models.keyedvectors.Vocab at 0x7f1200a21ac8>,\n",
              " 'found': <gensim.models.keyedvectors.Vocab at 0x7f1200a21b00>,\n",
              " 'reinventions': <gensim.models.keyedvectors.Vocab at 0x7f1200a21b38>,\n",
              " 'generalized': <gensim.models.keyedvectors.Vocab at 0x7f1200a21b70>,\n",
              " 'linear': <gensim.models.keyedvectors.Vocab at 0x7f1200a21ba8>,\n",
              " 'probabilistic': <gensim.models.keyedvectors.Vocab at 0x7f1200a21be0>,\n",
              " 'reasoning': <gensim.models.keyedvectors.Vocab at 0x7f1200a21c18>,\n",
              " 'employed': <gensim.models.keyedvectors.Vocab at 0x7f1200a21c50>,\n",
              " 'especially': <gensim.models.keyedvectors.Vocab at 0x7f1200a21c88>,\n",
              " 'automated': <gensim.models.keyedvectors.Vocab at 0x7f1200a21cc0>,\n",
              " 'medical': <gensim.models.keyedvectors.Vocab at 0x7f1200a21cf8>,\n",
              " 'diagnosis': <gensim.models.keyedvectors.Vocab at 0x7f1200a21d30>,\n",
              " 'however': <gensim.models.keyedvectors.Vocab at 0x7f1200a21d68>,\n",
              " 'increasing': <gensim.models.keyedvectors.Vocab at 0x7f1200a21da0>,\n",
              " 'emphasis': <gensim.models.keyedvectors.Vocab at 0x7f1200a21dd8>,\n",
              " 'logical': <gensim.models.keyedvectors.Vocab at 0x7f1200a21e10>,\n",
              " 'knowledge': <gensim.models.keyedvectors.Vocab at 0x7f1200a21e48>,\n",
              " 'caused': <gensim.models.keyedvectors.Vocab at 0x7f1200a21e80>,\n",
              " 'rift': <gensim.models.keyedvectors.Vocab at 0x7f1200a21eb8>,\n",
              " 'between': <gensim.models.keyedvectors.Vocab at 0x7f1200a21ef0>,\n",
              " 'plagued': <gensim.models.keyedvectors.Vocab at 0x7f1200a21f28>,\n",
              " 'theoretical': <gensim.models.keyedvectors.Vocab at 0x7f1200a21f60>,\n",
              " 'practical': <gensim.models.keyedvectors.Vocab at 0x7f1200a21f98>,\n",
              " 'acquisition': <gensim.models.keyedvectors.Vocab at 0x7f1200a21fd0>,\n",
              " 'representation': <gensim.models.keyedvectors.Vocab at 0x7f12008b5048>,\n",
              " 'expert': <gensim.models.keyedvectors.Vocab at 0x7f12008b5080>,\n",
              " 'had': <gensim.models.keyedvectors.Vocab at 0x7f12008b50b8>,\n",
              " 'come': <gensim.models.keyedvectors.Vocab at 0x7f12008b50f0>,\n",
              " 'dominate': <gensim.models.keyedvectors.Vocab at 0x7f12008b5128>,\n",
              " 'favor': <gensim.models.keyedvectors.Vocab at 0x7f12008b5160>,\n",
              " 'work': <gensim.models.keyedvectors.Vocab at 0x7f12008b5198>,\n",
              " 'did': <gensim.models.keyedvectors.Vocab at 0x7f12008b51d0>,\n",
              " 'continue': <gensim.models.keyedvectors.Vocab at 0x7f12008b5208>,\n",
              " 'leading': <gensim.models.keyedvectors.Vocab at 0x7f12008b5240>,\n",
              " 'logic': <gensim.models.keyedvectors.Vocab at 0x7f12008b5278>,\n",
              " 'programming': <gensim.models.keyedvectors.Vocab at 0x7f12008b52b0>,\n",
              " 'but': <gensim.models.keyedvectors.Vocab at 0x7f12008b52e8>,\n",
              " 'line': <gensim.models.keyedvectors.Vocab at 0x7f12008b5320>,\n",
              " 'research': <gensim.models.keyedvectors.Vocab at 0x7f12008b5358>,\n",
              " 'now': <gensim.models.keyedvectors.Vocab at 0x7f12008b5390>,\n",
              " 'outside': <gensim.models.keyedvectors.Vocab at 0x7f12008b53c8>,\n",
              " 'proper': <gensim.models.keyedvectors.Vocab at 0x7f12008b5400>,\n",
              " 'pattern': <gensim.models.keyedvectors.Vocab at 0x7f12008b5438>,\n",
              " 'recognition': <gensim.models.keyedvectors.Vocab at 0x7f12008b5470>,\n",
              " 'information': <gensim.models.keyedvectors.Vocab at 0x7f12008b54a8>,\n",
              " 'retrieval': <gensim.models.keyedvectors.Vocab at 0x7f12008b54e0>,\n",
              " 'been': <gensim.models.keyedvectors.Vocab at 0x7f12008b5518>,\n",
              " 'abandoned': <gensim.models.keyedvectors.Vocab at 0x7f12008b5550>,\n",
              " 'science': <gensim.models.keyedvectors.Vocab at 0x7f12008b5588>,\n",
              " 'around': <gensim.models.keyedvectors.Vocab at 0x7f12008b55c0>,\n",
              " 'same': <gensim.models.keyedvectors.Vocab at 0x7f12008b55f8>,\n",
              " 'time': <gensim.models.keyedvectors.Vocab at 0x7f12008b5630>,\n",
              " 'too': <gensim.models.keyedvectors.Vocab at 0x7f12008b5668>,\n",
              " 'continued': <gensim.models.keyedvectors.Vocab at 0x7f12008b56a0>,\n",
              " 'cs': <gensim.models.keyedvectors.Vocab at 0x7f12008b56d8>,\n",
              " 'connectionism': <gensim.models.keyedvectors.Vocab at 0x7f12008b5710>,\n",
              " 'disciplines': <gensim.models.keyedvectors.Vocab at 0x7f12008b5748>,\n",
              " 'including': <gensim.models.keyedvectors.Vocab at 0x7f12008b5780>,\n",
              " 'hopfield': <gensim.models.keyedvectors.Vocab at 0x7f12008b57b8>,\n",
              " 'rumelhart': <gensim.models.keyedvectors.Vocab at 0x7f12008b57f0>,\n",
              " 'hinton': <gensim.models.keyedvectors.Vocab at 0x7f12008b5828>,\n",
              " 'main': <gensim.models.keyedvectors.Vocab at 0x7f12008b5860>,\n",
              " 'success': <gensim.models.keyedvectors.Vocab at 0x7f12008b5898>,\n",
              " 'came': <gensim.models.keyedvectors.Vocab at 0x7f12008b58d0>,\n",
              " 'mid': <gensim.models.keyedvectors.Vocab at 0x7f12008b5908>,\n",
              " 'reinvention': <gensim.models.keyedvectors.Vocab at 0x7f12008b5940>,\n",
              " 'backpropagation': <gensim.models.keyedvectors.Vocab at 0x7f12008b5978>,\n",
              " 'reorganized': <gensim.models.keyedvectors.Vocab at 0x7f12008b59b0>,\n",
              " 'separate': <gensim.models.keyedvectors.Vocab at 0x7f12008b59e8>,\n",
              " 'started': <gensim.models.keyedvectors.Vocab at 0x7f12008b5a20>,\n",
              " 'flourish': <gensim.models.keyedvectors.Vocab at 0x7f12008b5a58>,\n",
              " 'changed': <gensim.models.keyedvectors.Vocab at 0x7f12008b5a90>,\n",
              " 'goal': <gensim.models.keyedvectors.Vocab at 0x7f12008b5ac8>,\n",
              " 'achieving': <gensim.models.keyedvectors.Vocab at 0x7f12008b5b00>,\n",
              " 'tackling': <gensim.models.keyedvectors.Vocab at 0x7f12008b5b38>,\n",
              " 'solvable': <gensim.models.keyedvectors.Vocab at 0x7f12008b5b70>,\n",
              " 'nature': <gensim.models.keyedvectors.Vocab at 0x7f12008b5ba8>,\n",
              " 'shifted': <gensim.models.keyedvectors.Vocab at 0x7f12008b5be0>,\n",
              " 'focus': <gensim.models.keyedvectors.Vocab at 0x7f12008b5c18>,\n",
              " 'away': <gensim.models.keyedvectors.Vocab at 0x7f12008b5c50>,\n",
              " 'approaches': <gensim.models.keyedvectors.Vocab at 0x7f12008b5c88>,\n",
              " 'inherited': <gensim.models.keyedvectors.Vocab at 0x7f12008b5cc0>,\n",
              " 'toward': <gensim.models.keyedvectors.Vocab at 0x7f12008b5cf8>,\n",
              " 'borrowed': <gensim.models.keyedvectors.Vocab at 0x7f12008b5d30>,\n",
              " 'benefited': <gensim.models.keyedvectors.Vocab at 0x7f12008b5d68>,\n",
              " 'availability': <gensim.models.keyedvectors.Vocab at 0x7f12008b5da0>,\n",
              " 'digitized': <gensim.models.keyedvectors.Vocab at 0x7f12008b5dd8>,\n",
              " 'ability': <gensim.models.keyedvectors.Vocab at 0x7f12008b5e10>,\n",
              " 'distribute': <gensim.models.keyedvectors.Vocab at 0x7f12008b5e48>,\n",
              " 'via': <gensim.models.keyedvectors.Vocab at 0x7f12008b5e80>,\n",
              " 'internet': <gensim.models.keyedvectors.Vocab at 0x7f12008b5eb8>,\n",
              " 'relation': <gensim.models.keyedvectors.Vocab at 0x7f12008b5ef0>,\n",
              " 'often': <gensim.models.keyedvectors.Vocab at 0x7f12008b5f28>,\n",
              " 'employ': <gensim.models.keyedvectors.Vocab at 0x7f12008b5f60>,\n",
              " 'overlap': <gensim.models.keyedvectors.Vocab at 0x7f12008b5f98>,\n",
              " 'significantly': <gensim.models.keyedvectors.Vocab at 0x7f12008b5fd0>,\n",
              " 'properties': <gensim.models.keyedvectors.Vocab at 0x7f12008b9048>,\n",
              " 'learned': <gensim.models.keyedvectors.Vocab at 0x7f12008b9080>,\n",
              " 'discovery': <gensim.models.keyedvectors.Vocab at 0x7f12008b90b8>,\n",
              " 'previously': <gensim.models.keyedvectors.Vocab at 0x7f12008b90f0>,\n",
              " 'unknown': <gensim.models.keyedvectors.Vocab at 0x7f12008b9128>,\n",
              " 'step': <gensim.models.keyedvectors.Vocab at 0x7f12008b9160>,\n",
              " 'databases': <gensim.models.keyedvectors.Vocab at 0x7f12008b9198>,\n",
              " 'uses': <gensim.models.keyedvectors.Vocab at 0x7f12008b91d0>,\n",
              " 'many': <gensim.models.keyedvectors.Vocab at 0x7f12008b9208>,\n",
              " 'different': <gensim.models.keyedvectors.Vocab at 0x7f12008b9240>,\n",
              " 'goals': <gensim.models.keyedvectors.Vocab at 0x7f12008b9278>,\n",
              " 'hand': <gensim.models.keyedvectors.Vocab at 0x7f12008b92b0>,\n",
              " 'employs': <gensim.models.keyedvectors.Vocab at 0x7f12008b92e8>,\n",
              " 'preprocessing': <gensim.models.keyedvectors.Vocab at 0x7f12008b9320>,\n",
              " 'improve': <gensim.models.keyedvectors.Vocab at 0x7f12008b9358>,\n",
              " 'learner': <gensim.models.keyedvectors.Vocab at 0x7f12008b9390>,\n",
              " 'accuracy': <gensim.models.keyedvectors.Vocab at 0x7f12008b93c8>,\n",
              " 'much': <gensim.models.keyedvectors.Vocab at 0x7f12008b9400>,\n",
              " 'confusion': <gensim.models.keyedvectors.Vocab at 0x7f12008b9438>,\n",
              " 'two': <gensim.models.keyedvectors.Vocab at 0x7f12008b9470>,\n",
              " 'communities': <gensim.models.keyedvectors.Vocab at 0x7f12008b94a8>,\n",
              " 'conferences': <gensim.models.keyedvectors.Vocab at 0x7f12008b94e0>,\n",
              " 'journals': <gensim.models.keyedvectors.Vocab at 0x7f12008b9518>,\n",
              " 'ecml': <gensim.models.keyedvectors.Vocab at 0x7f12008b9550>,\n",
              " 'pkdd': <gensim.models.keyedvectors.Vocab at 0x7f12008b9588>,\n",
              " 'major': <gensim.models.keyedvectors.Vocab at 0x7f12008b95c0>,\n",
              " 'exception': <gensim.models.keyedvectors.Vocab at 0x7f12008b95f8>,\n",
              " 'comes': <gensim.models.keyedvectors.Vocab at 0x7f12008b9630>,\n",
              " 'basic': <gensim.models.keyedvectors.Vocab at 0x7f12008b9668>,\n",
              " 'assumptions': <gensim.models.keyedvectors.Vocab at 0x7f12008b96a0>,\n",
              " 'usually': <gensim.models.keyedvectors.Vocab at 0x7f12008b96d8>,\n",
              " 'evaluated': <gensim.models.keyedvectors.Vocab at 0x7f12008b9710>,\n",
              " 'reproduce': <gensim.models.keyedvectors.Vocab at 0x7f12008b9748>,\n",
              " 'kdd': <gensim.models.keyedvectors.Vocab at 0x7f12008b9780>,\n",
              " 'key': <gensim.models.keyedvectors.Vocab at 0x7f12008b97b8>,\n",
              " 'uninformed': <gensim.models.keyedvectors.Vocab at 0x7f12008b97f0>,\n",
              " 'method': <gensim.models.keyedvectors.Vocab at 0x7f12008b9828>,\n",
              " 'easily': <gensim.models.keyedvectors.Vocab at 0x7f12008b9860>,\n",
              " 'outperformed': <gensim.models.keyedvectors.Vocab at 0x7f12008b9898>,\n",
              " 'typical': <gensim.models.keyedvectors.Vocab at 0x7f12008b98d0>,\n",
              " 'cannot': <gensim.models.keyedvectors.Vocab at 0x7f12008b9908>,\n",
              " 'due': <gensim.models.keyedvectors.Vocab at 0x7f12008b9940>,\n",
              " 'unavailability': <gensim.models.keyedvectors.Vocab at 0x7f12008b9978>,\n",
              " 'has': <gensim.models.keyedvectors.Vocab at 0x7f12008b99b0>,\n",
              " 'intimate': <gensim.models.keyedvectors.Vocab at 0x7f12008b99e8>,\n",
              " 'ties': <gensim.models.keyedvectors.Vocab at 0x7f12008b9a20>,\n",
              " 'formulated': <gensim.models.keyedvectors.Vocab at 0x7f12008b9a58>,\n",
              " 'minimization': <gensim.models.keyedvectors.Vocab at 0x7f12008b9a90>,\n",
              " 'loss': <gensim.models.keyedvectors.Vocab at 0x7f12008b9ac8>,\n",
              " 'functions': <gensim.models.keyedvectors.Vocab at 0x7f12008b9b00>,\n",
              " 'express': <gensim.models.keyedvectors.Vocab at 0x7f12008b9b38>,\n",
              " 'discrepancy': <gensim.models.keyedvectors.Vocab at 0x7f12008b9b70>,\n",
              " 'trained': <gensim.models.keyedvectors.Vocab at 0x7f12008b9ba8>,\n",
              " 'actual': <gensim.models.keyedvectors.Vocab at 0x7f12008b9be0>,\n",
              " 'instances': <gensim.models.keyedvectors.Vocab at 0x7f12008b9c18>,\n",
              " 'wants': <gensim.models.keyedvectors.Vocab at 0x7f12008b9c50>,\n",
              " 'assign': <gensim.models.keyedvectors.Vocab at 0x7f12008b9c88>,\n",
              " 'correctly': <gensim.models.keyedvectors.Vocab at 0x7f12008b9cc0>,\n",
              " 'predict': <gensim.models.keyedvectors.Vocab at 0x7f12008b9cf8>,\n",
              " 'pre': <gensim.models.keyedvectors.Vocab at 0x7f12008b9d30>,\n",
              " 'assigned': <gensim.models.keyedvectors.Vocab at 0x7f12008b9d68>,\n",
              " 'difference': <gensim.models.keyedvectors.Vocab at 0x7f12008b9da0>,\n",
              " 'arises': <gensim.models.keyedvectors.Vocab at 0x7f12008b9dd8>,\n",
              " 'generalization': <gensim.models.keyedvectors.Vocab at 0x7f12008b9e10>,\n",
              " 'minimize': <gensim.models.keyedvectors.Vocab at 0x7f12008b9e48>,\n",
              " 'minimizing': <gensim.models.keyedvectors.Vocab at 0x7f12008b9e80>,\n",
              " 'unseen': <gensim.models.keyedvectors.Vocab at 0x7f12008b9eb8>,\n",
              " 'samples': <gensim.models.keyedvectors.Vocab at 0x7f12008b9ef0>,\n",
              " 'according': <gensim.models.keyedvectors.Vocab at 0x7f12008b9f28>,\n",
              " 'michael': <gensim.models.keyedvectors.Vocab at 0x7f12008b9f60>,\n",
              " 'i': <gensim.models.keyedvectors.Vocab at 0x7f12008b9f98>,\n",
              " 'jordan': <gensim.models.keyedvectors.Vocab at 0x7f12008b9fd0>,\n",
              " 'ideas': <gensim.models.keyedvectors.Vocab at 0x7f12008bc048>,\n",
              " 'methodological': <gensim.models.keyedvectors.Vocab at 0x7f12008bc080>,\n",
              " 'principles': <gensim.models.keyedvectors.Vocab at 0x7f12008bc0b8>,\n",
              " 'tools': <gensim.models.keyedvectors.Vocab at 0x7f12008bc0f0>,\n",
              " 'long': <gensim.models.keyedvectors.Vocab at 0x7f12008bc128>,\n",
              " 'he': <gensim.models.keyedvectors.Vocab at 0x7f12008bc160>,\n",
              " 'suggested': <gensim.models.keyedvectors.Vocab at 0x7f12008bc198>,\n",
              " 'placeholder': <gensim.models.keyedvectors.Vocab at 0x7f12008bc1d0>,\n",
              " 'call': <gensim.models.keyedvectors.Vocab at 0x7f12008bc208>,\n",
              " 'overall': <gensim.models.keyedvectors.Vocab at 0x7f12008bc240>,\n",
              " 'leo': <gensim.models.keyedvectors.Vocab at 0x7f12008bc278>,\n",
              " 'breiman': <gensim.models.keyedvectors.Vocab at 0x7f12008bc2b0>,\n",
              " 'distinguished': <gensim.models.keyedvectors.Vocab at 0x7f12008bc2e8>,\n",
              " 'modelling': <gensim.models.keyedvectors.Vocab at 0x7f12008bc320>,\n",
              " 'paradigms': <gensim.models.keyedvectors.Vocab at 0x7f12008bc358>,\n",
              " 'algorithmic': <gensim.models.keyedvectors.Vocab at 0x7f12008bc390>,\n",
              " 'wherein': <gensim.models.keyedvectors.Vocab at 0x7f12008bc3c8>,\n",
              " 'means': <gensim.models.keyedvectors.Vocab at 0x7f12008bc400>,\n",
              " 'less': <gensim.models.keyedvectors.Vocab at 0x7f12008bc438>,\n",
              " 'random': <gensim.models.keyedvectors.Vocab at 0x7f12008bc470>,\n",
              " 'forest': <gensim.models.keyedvectors.Vocab at 0x7f12008bc4a8>,\n",
              " 'statisticians': <gensim.models.keyedvectors.Vocab at 0x7f12008bc4e0>,\n",
              " 'adopted': <gensim.models.keyedvectors.Vocab at 0x7f12008bc518>,\n",
              " 'combined': <gensim.models.keyedvectors.Vocab at 0x7f12008bc550>,\n",
              " 'core': <gensim.models.keyedvectors.Vocab at 0x7f12008bc588>,\n",
              " 'objective': <gensim.models.keyedvectors.Vocab at 0x7f12008bc5c0>,\n",
              " 'generalize': <gensim.models.keyedvectors.Vocab at 0x7f12008bc5f8>,\n",
              " 'context': <gensim.models.keyedvectors.Vocab at 0x7f12008bc630>,\n",
              " 'accurately': <gensim.models.keyedvectors.Vocab at 0x7f12008bc668>,\n",
              " 'after': <gensim.models.keyedvectors.Vocab at 0x7f12008bc6a0>,\n",
              " 'experienced': <gensim.models.keyedvectors.Vocab at 0x7f12008bc6d8>,\n",
              " 'generally': <gensim.models.keyedvectors.Vocab at 0x7f12008bc710>,\n",
              " 'distribution': <gensim.models.keyedvectors.Vocab at 0x7f12008bc748>,\n",
              " 'considered': <gensim.models.keyedvectors.Vocab at 0x7f12008bc780>,\n",
              " 'representative': <gensim.models.keyedvectors.Vocab at 0x7f12008bc7b8>,\n",
              " 'space': <gensim.models.keyedvectors.Vocab at 0x7f12008bc7f0>,\n",
              " 'occurrences': <gensim.models.keyedvectors.Vocab at 0x7f12008bc828>,\n",
              " 'general': <gensim.models.keyedvectors.Vocab at 0x7f12008bc860>,\n",
              " 'about': <gensim.models.keyedvectors.Vocab at 0x7f12008bc898>,\n",
              " 'enables': <gensim.models.keyedvectors.Vocab at 0x7f12008bc8d0>,\n",
              " 'produce': <gensim.models.keyedvectors.Vocab at 0x7f12008bc908>,\n",
              " 'sufficiently': <gensim.models.keyedvectors.Vocab at 0x7f12008bc940>,\n",
              " 'accurate': <gensim.models.keyedvectors.Vocab at 0x7f12008bc978>,\n",
              " 'branch': <gensim.models.keyedvectors.Vocab at 0x7f12008bc9b0>,\n",
              " 'because': <gensim.models.keyedvectors.Vocab at 0x7f12008bc9e8>,\n",
              " 'sets': <gensim.models.keyedvectors.Vocab at 0x7f12008bca20>,\n",
              " 'finite': <gensim.models.keyedvectors.Vocab at 0x7f12008bca58>,\n",
              " 'future': <gensim.models.keyedvectors.Vocab at 0x7f12008bca90>,\n",
              " 'uncertain': <gensim.models.keyedvectors.Vocab at 0x7f12008bcac8>,\n",
              " 'does': <gensim.models.keyedvectors.Vocab at 0x7f12008bcb00>,\n",
              " 'yield': <gensim.models.keyedvectors.Vocab at 0x7f12008bcb38>,\n",
              " 'guarantees': <gensim.models.keyedvectors.Vocab at 0x7f12008bcb70>,\n",
              " 'bounds': <gensim.models.keyedvectors.Vocab at 0x7f12008bcba8>,\n",
              " 'quite': <gensim.models.keyedvectors.Vocab at 0x7f12008bcbe0>,\n",
              " 'common': <gensim.models.keyedvectors.Vocab at 0x7f12008bcc18>,\n",
              " 'variance': <gensim.models.keyedvectors.Vocab at 0x7f12008bcc50>,\n",
              " 'decomposition': <gensim.models.keyedvectors.Vocab at 0x7f12008bcc88>,\n",
              " 'way': <gensim.models.keyedvectors.Vocab at 0x7f12008bccc0>,\n",
              " 'quantify': <gensim.models.keyedvectors.Vocab at 0x7f12008bccf8>,\n",
              " 'error': <gensim.models.keyedvectors.Vocab at 0x7f12008bcd30>,\n",
              " 'best': <gensim.models.keyedvectors.Vocab at 0x7f12008bcd68>,\n",
              " 'complexity': <gensim.models.keyedvectors.Vocab at 0x7f12008bcda0>,\n",
              " 'hypothesis': <gensim.models.keyedvectors.Vocab at 0x7f12008bcdd8>,\n",
              " 'should': <gensim.models.keyedvectors.Vocab at 0x7f12008bce10>,\n",
              " 'match': <gensim.models.keyedvectors.Vocab at 0x7f12008bce48>,\n",
              " 'underlying': <gensim.models.keyedvectors.Vocab at 0x7f12008bce80>,\n",
              " 'complex': <gensim.models.keyedvectors.Vocab at 0x7f12008bceb8>,\n",
              " 'underfit': <gensim.models.keyedvectors.Vocab at 0x7f12008bcef0>,\n",
              " 'increased': <gensim.models.keyedvectors.Vocab at 0x7f12008bcf28>,\n",
              " 'response': <gensim.models.keyedvectors.Vocab at 0x7f12008bcf60>,\n",
              " 'decreases': <gensim.models.keyedvectors.Vocab at 0x7f12008bcf98>,\n",
              " 'subject': <gensim.models.keyedvectors.Vocab at 0x7f12008bcfd0>,\n",
              " 'overfitting': <gensim.models.keyedvectors.Vocab at 0x7f12008c0048>,\n",
              " 'poorer': <gensim.models.keyedvectors.Vocab at 0x7f12008c0080>,\n",
              " 'addition': <gensim.models.keyedvectors.Vocab at 0x7f12008c00b8>,\n",
              " 'theorists': <gensim.models.keyedvectors.Vocab at 0x7f12008c00f0>,\n",
              " 'feasibility': <gensim.models.keyedvectors.Vocab at 0x7f12008c0128>,\n",
              " 'computation': <gensim.models.keyedvectors.Vocab at 0x7f12008c0160>,\n",
              " 'feasible': <gensim.models.keyedvectors.Vocab at 0x7f12008c0198>,\n",
              " 'done': <gensim.models.keyedvectors.Vocab at 0x7f12008c01d0>,\n",
              " 'polynomial': <gensim.models.keyedvectors.Vocab at 0x7f12008c0208>,\n",
              " 'there': <gensim.models.keyedvectors.Vocab at 0x7f12008c0240>,\n",
              " 'kinds': <gensim.models.keyedvectors.Vocab at 0x7f12008c0278>,\n",
              " 'results': <gensim.models.keyedvectors.Vocab at 0x7f12008c02b0>,\n",
              " 'show': <gensim.models.keyedvectors.Vocab at 0x7f12008c02e8>,\n",
              " 'classes': <gensim.models.keyedvectors.Vocab at 0x7f12008c0320>,\n",
              " 'differ': <gensim.models.keyedvectors.Vocab at 0x7f12008c0358>,\n",
              " 'type': <gensim.models.keyedvectors.Vocab at 0x7f12008c0390>,\n",
              " 'intended': <gensim.models.keyedvectors.Vocab at 0x7f12008c03c8>,\n",
              " 'solve': <gensim.models.keyedvectors.Vocab at 0x7f12008c0400>,\n",
              " 'consists': <gensim.models.keyedvectors.Vocab at 0x7f12008c0438>,\n",
              " 'supervisory': <gensim.models.keyedvectors.Vocab at 0x7f12008c0470>,\n",
              " 'signal': <gensim.models.keyedvectors.Vocab at 0x7f12008c04a8>,\n",
              " 'case': <gensim.models.keyedvectors.Vocab at 0x7f12008c04e0>,\n",
              " 'missing': <gensim.models.keyedvectors.Vocab at 0x7f12008c0518>,\n",
              " 'array': <gensim.models.keyedvectors.Vocab at 0x7f12008c0550>,\n",
              " 'vector': <gensim.models.keyedvectors.Vocab at 0x7f12008c0588>,\n",
              " 'matrix': <gensim.models.keyedvectors.Vocab at 0x7f12008c05c0>,\n",
              " 'iterative': <gensim.models.keyedvectors.Vocab at 0x7f12008c05f8>,\n",
              " 'associated': <gensim.models.keyedvectors.Vocab at 0x7f12008c0630>,\n",
              " 'optimal': <gensim.models.keyedvectors.Vocab at 0x7f12008c0668>,\n",
              " 'allow': <gensim.models.keyedvectors.Vocab at 0x7f12008c06a0>,\n",
              " 'determine': <gensim.models.keyedvectors.Vocab at 0x7f12008c06d8>,\n",
              " 'part': <gensim.models.keyedvectors.Vocab at 0x7f12008c0710>,\n",
              " 'over': <gensim.models.keyedvectors.Vocab at 0x7f12008c0748>,\n",
              " 'numerical': <gensim.models.keyedvectors.Vocab at 0x7f12008c0780>,\n",
              " 'similarity': <gensim.models.keyedvectors.Vocab at 0x7f12008c07b8>,\n",
              " 'area': <gensim.models.keyedvectors.Vocab at 0x7f12008c07f0>,\n",
              " 'measures': <gensim.models.keyedvectors.Vocab at 0x7f12008c0828>,\n",
              " 'how': <gensim.models.keyedvectors.Vocab at 0x7f12008c0860>,\n",
              " 'objects': <gensim.models.keyedvectors.Vocab at 0x7f12008c0898>,\n",
              " 'ranking': <gensim.models.keyedvectors.Vocab at 0x7f12008c08d0>,\n",
              " 'recommendation': <gensim.models.keyedvectors.Vocab at 0x7f12008c0908>,\n",
              " 'visual': <gensim.models.keyedvectors.Vocab at 0x7f12008c0940>,\n",
              " 'identity': <gensim.models.keyedvectors.Vocab at 0x7f12008c0978>,\n",
              " 'tracking': <gensim.models.keyedvectors.Vocab at 0x7f12008c09b0>,\n",
              " 'face': <gensim.models.keyedvectors.Vocab at 0x7f12008c09e8>,\n",
              " 'verification': <gensim.models.keyedvectors.Vocab at 0x7f12008c0a20>,\n",
              " 'speaker': <gensim.models.keyedvectors.Vocab at 0x7f12008c0a58>,\n",
              " 'take': <gensim.models.keyedvectors.Vocab at 0x7f12008c0a90>,\n",
              " 'therefore': <gensim.models.keyedvectors.Vocab at 0x7f12008c0ac8>,\n",
              " 'test': <gensim.models.keyedvectors.Vocab at 0x7f12008c0b00>,\n",
              " 'labeled': <gensim.models.keyedvectors.Vocab at 0x7f12008c0b38>,\n",
              " 'categorized': <gensim.models.keyedvectors.Vocab at 0x7f12008c0b70>,\n",
              " 'responding': <gensim.models.keyedvectors.Vocab at 0x7f12008c0ba8>,\n",
              " 'identify': <gensim.models.keyedvectors.Vocab at 0x7f12008c0be0>,\n",
              " 'commonalities': <gensim.models.keyedvectors.Vocab at 0x7f12008c0c18>,\n",
              " 'react': <gensim.models.keyedvectors.Vocab at 0x7f12008c0c50>,\n",
              " 'presence': <gensim.models.keyedvectors.Vocab at 0x7f12008c0c88>,\n",
              " 'absence': <gensim.models.keyedvectors.Vocab at 0x7f12008c0cc0>,\n",
              " 'piece': <gensim.models.keyedvectors.Vocab at 0x7f12008c0cf8>,\n",
              " 'central': <gensim.models.keyedvectors.Vocab at 0x7f12008c0d30>,\n",
              " 'though': <gensim.models.keyedvectors.Vocab at 0x7f12008c0d68>,\n",
              " 'encompasses': <gensim.models.keyedvectors.Vocab at 0x7f12008c0da0>,\n",
              " 'involving': <gensim.models.keyedvectors.Vocab at 0x7f12008c0dd8>,\n",
              " 'summarizing': <gensim.models.keyedvectors.Vocab at 0x7f12008c0e10>,\n",
              " 'explaining': <gensim.models.keyedvectors.Vocab at 0x7f12008c0e48>,\n",
              " 'cluster': <gensim.models.keyedvectors.Vocab at 0x7f12008c0e80>,\n",
              " 'assignment': <gensim.models.keyedvectors.Vocab at 0x7f12008c0eb8>,\n",
              " 'observations': <gensim.models.keyedvectors.Vocab at 0x7f12008c0ef0>,\n",
              " 'subsets': <gensim.models.keyedvectors.Vocab at 0x7f12008c0f28>,\n",
              " 'called': <gensim.models.keyedvectors.Vocab at 0x7f12008c0f60>,\n",
              " 'clusters': <gensim.models.keyedvectors.Vocab at 0x7f12008c0f98>,\n",
              " 'so': <gensim.models.keyedvectors.Vocab at 0x7f12008c0fd0>,\n",
              " 'predesignated': <gensim.models.keyedvectors.Vocab at 0x7f1200843048>,\n",
              " 'criteria': <gensim.models.keyedvectors.Vocab at 0x7f1200843080>,\n",
              " 'drawn': <gensim.models.keyedvectors.Vocab at 0x7f12008430b8>,\n",
              " 'dissimilar': <gensim.models.keyedvectors.Vocab at 0x7f12008430f0>,\n",
              " 'techniques': <gensim.models.keyedvectors.Vocab at 0x7f1200843128>,\n",
              " 'defined': <gensim.models.keyedvectors.Vocab at 0x7f1200843160>,\n",
              " 'metric': <gensim.models.keyedvectors.Vocab at 0x7f1200843198>,\n",
              " 'internal': <gensim.models.keyedvectors.Vocab at 0x7f12008431d0>,\n",
              " 'compactness': <gensim.models.keyedvectors.Vocab at 0x7f1200843208>,\n",
              " 'members': <gensim.models.keyedvectors.Vocab at 0x7f1200843240>,\n",
              " 'separation': <gensim.models.keyedvectors.Vocab at 0x7f1200843278>,\n",
              " 'estimated': <gensim.models.keyedvectors.Vocab at 0x7f12008432b0>,\n",
              " 'graph': <gensim.models.keyedvectors.Vocab at 0x7f12008432e8>,\n",
              " 'connectivity': <gensim.models.keyedvectors.Vocab at 0x7f1200843320>,\n",
              " 'software': <gensim.models.keyedvectors.Vocab at 0x7f1200843358>,\n",
              " 'agents': <gensim.models.keyedvectors.Vocab at 0x7f1200843390>,\n",
              " 'ought': <gensim.models.keyedvectors.Vocab at 0x7f12008433c8>,\n",
              " 'actions': <gensim.models.keyedvectors.Vocab at 0x7f1200843400>,\n",
              " 'maximize': <gensim.models.keyedvectors.Vocab at 0x7f1200843438>,\n",
              " 'notion': <gensim.models.keyedvectors.Vocab at 0x7f1200843470>,\n",
              " 'cumulative': <gensim.models.keyedvectors.Vocab at 0x7f12008434a8>,\n",
              " 'reward': <gensim.models.keyedvectors.Vocab at 0x7f12008434e0>,\n",
              " 'generality': <gensim.models.keyedvectors.Vocab at 0x7f1200843518>,\n",
              " 'control': <gensim.models.keyedvectors.Vocab at 0x7f1200843550>,\n",
              " 'operations': <gensim.models.keyedvectors.Vocab at 0x7f1200843588>,\n",
              " 'simulation': <gensim.models.keyedvectors.Vocab at 0x7f12008435c0>,\n",
              " 'multi': <gensim.models.keyedvectors.Vocab at 0x7f12008435f8>,\n",
              " 'agent': <gensim.models.keyedvectors.Vocab at 0x7f1200843630>,\n",
              " 'swarm': <gensim.models.keyedvectors.Vocab at 0x7f1200843668>,\n",
              " 'genetic': <gensim.models.keyedvectors.Vocab at 0x7f12008436a0>,\n",
              " 'typically': <gensim.models.keyedvectors.Vocab at 0x7f12008436d8>,\n",
              " 'markov': <gensim.models.keyedvectors.Vocab at 0x7f1200843710>,\n",
              " 'decision': <gensim.models.keyedvectors.Vocab at 0x7f1200843748>,\n",
              " 'mdp': <gensim.models.keyedvectors.Vocab at 0x7f1200843780>,\n",
              " 'assume': <gensim.models.keyedvectors.Vocab at 0x7f12008437b8>,\n",
              " 'exact': <gensim.models.keyedvectors.Vocab at 0x7f12008437f0>,\n",
              " 'processes': <gensim.models.keyedvectors.Vocab at 0x7f1200843828>,\n",
              " 'applied': <gensim.models.keyedvectors.Vocab at 0x7f1200843860>,\n",
              " 'enhance': <gensim.models.keyedvectors.Vocab at 0x7f1200843898>,\n",
              " 'aim': <gensim.models.keyedvectors.Vocab at 0x7f12008438d0>,\n",
              " 'discovering': <gensim.models.keyedvectors.Vocab at 0x7f1200843908>,\n",
              " 'better': <gensim.models.keyedvectors.Vocab at 0x7f1200843940>,\n",
              " 'representations': <gensim.models.keyedvectors.Vocab at 0x7f1200843978>,\n",
              " 'during': <gensim.models.keyedvectors.Vocab at 0x7f12008439b0>,\n",
              " 'classic': <gensim.models.keyedvectors.Vocab at 0x7f12008439e8>,\n",
              " 'principal': <gensim.models.keyedvectors.Vocab at 0x7f1200843a20>,\n",
              " 'components': <gensim.models.keyedvectors.Vocab at 0x7f1200843a58>,\n",
              " 'attempt': <gensim.models.keyedvectors.Vocab at 0x7f1200843a90>,\n",
              " 'preserve': <gensim.models.keyedvectors.Vocab at 0x7f1200843ac8>,\n",
              " 'transform': <gensim.models.keyedvectors.Vocab at 0x7f1200843b00>,\n",
              " 'makes': <gensim.models.keyedvectors.Vocab at 0x7f1200843b38>,\n",
              " 'useful': <gensim.models.keyedvectors.Vocab at 0x7f1200843b70>,\n",
              " 'processing': <gensim.models.keyedvectors.Vocab at 0x7f1200843ba8>,\n",
              " 'before': <gensim.models.keyedvectors.Vocab at 0x7f1200843be0>,\n",
              " 'technique': <gensim.models.keyedvectors.Vocab at 0x7f1200843c18>,\n",
              " 'allows': <gensim.models.keyedvectors.Vocab at 0x7f1200843c50>,\n",
              " 'reconstruction': <gensim.models.keyedvectors.Vocab at 0x7f1200843c88>,\n",
              " 'coming': <gensim.models.keyedvectors.Vocab at 0x7f1200843cc0>,\n",
              " 'generating': <gensim.models.keyedvectors.Vocab at 0x7f1200843cf8>,\n",
              " 'necessarily': <gensim.models.keyedvectors.Vocab at 0x7f1200843d30>,\n",
              " 'faithful': <gensim.models.keyedvectors.Vocab at 0x7f1200843d68>,\n",
              " 'configurations': <gensim.models.keyedvectors.Vocab at 0x7f1200843da0>,\n",
              " 'implausible': <gensim.models.keyedvectors.Vocab at 0x7f1200843dd8>,\n",
              " 'under': <gensim.models.keyedvectors.Vocab at 0x7f1200843e10>,\n",
              " 'replaces': <gensim.models.keyedvectors.Vocab at 0x7f1200843e48>,\n",
              " 'manual': <gensim.models.keyedvectors.Vocab at 0x7f1200843e80>,\n",
              " 'engineering': <gensim.models.keyedvectors.Vocab at 0x7f1200843eb8>,\n",
              " 'them': <gensim.models.keyedvectors.Vocab at 0x7f1200843ef0>,\n",
              " 'multilayer': <gensim.models.keyedvectors.Vocab at 0x7f1200843f28>,\n",
              " 'dictionary': <gensim.models.keyedvectors.Vocab at 0x7f1200843f60>,\n",
              " 'unlabeled': <gensim.models.keyedvectors.Vocab at 0x7f1200843f98>,\n",
              " 'independent': <gensim.models.keyedvectors.Vocab at 0x7f1200843fd0>,\n",
              " 'component': <gensim.models.keyedvectors.Vocab at 0x7f1200848048>,\n",
              " 'autoencoders': <gensim.models.keyedvectors.Vocab at 0x7f1200848080>,\n",
              " 'factorization': <gensim.models.keyedvectors.Vocab at 0x7f12008480b8>,\n",
              " 'forms': <gensim.models.keyedvectors.Vocab at 0x7f12008480f0>,\n",
              " 'manifold': <gensim.models.keyedvectors.Vocab at 0x7f1200848128>,\n",
              " 'constraint': <gensim.models.keyedvectors.Vocab at 0x7f1200848160>,\n",
              " 'low': <gensim.models.keyedvectors.Vocab at 0x7f1200848198>,\n",
              " 'dimensional': <gensim.models.keyedvectors.Vocab at 0x7f12008481d0>,\n",
              " 'sparse': <gensim.models.keyedvectors.Vocab at 0x7f1200848208>,\n",
              " 'coding': <gensim.models.keyedvectors.Vocab at 0x7f1200848240>,\n",
              " 'zeros': <gensim.models.keyedvectors.Vocab at 0x7f1200848278>,\n",
              " 'multilinear': <gensim.models.keyedvectors.Vocab at 0x7f12008482b0>,\n",
              " 'subspace': <gensim.models.keyedvectors.Vocab at 0x7f12008482e8>,\n",
              " 'directly': <gensim.models.keyedvectors.Vocab at 0x7f1200848320>,\n",
              " 'tensor': <gensim.models.keyedvectors.Vocab at 0x7f1200848358>,\n",
              " 'multidimensional': <gensim.models.keyedvectors.Vocab at 0x7f1200848390>,\n",
              " 'reshaping': <gensim.models.keyedvectors.Vocab at 0x7f12008483c8>,\n",
              " 'higher': <gensim.models.keyedvectors.Vocab at 0x7f1200848400>,\n",
              " 'vectors': <gensim.models.keyedvectors.Vocab at 0x7f1200848438>,\n",
              " 'deep': <gensim.models.keyedvectors.Vocab at 0x7f1200848470>,\n",
              " 'multiple': <gensim.models.keyedvectors.Vocab at 0x7f12008484a8>,\n",
              " 'levels': <gensim.models.keyedvectors.Vocab at 0x7f12008484e0>,\n",
              " 'hierarchy': <gensim.models.keyedvectors.Vocab at 0x7f1200848518>,\n",
              " 'level': <gensim.models.keyedvectors.Vocab at 0x7f1200848550>,\n",
              " 'abstract': <gensim.models.keyedvectors.Vocab at 0x7f1200848588>,\n",
              " 'lower': <gensim.models.keyedvectors.Vocab at 0x7f12008485c0>,\n",
              " 'argued': <gensim.models.keyedvectors.Vocab at 0x7f12008485f8>,\n",
              " 'intelligent': <gensim.models.keyedvectors.Vocab at 0x7f1200848630>,\n",
              " 'learns': <gensim.models.keyedvectors.Vocab at 0x7f1200848668>,\n",
              " 'disentangles': <gensim.models.keyedvectors.Vocab at 0x7f12008486a0>,\n",
              " 'factors': <gensim.models.keyedvectors.Vocab at 0x7f12008486d8>,\n",
              " 'variation': <gensim.models.keyedvectors.Vocab at 0x7f1200848710>,\n",
              " 'explain': <gensim.models.keyedvectors.Vocab at 0x7f1200848748>,\n",
              " 'observed': <gensim.models.keyedvectors.Vocab at 0x7f1200848780>,\n",
              " 'motivated': <gensim.models.keyedvectors.Vocab at 0x7f12008487b8>,\n",
              " 'fact': <gensim.models.keyedvectors.Vocab at 0x7f12008487f0>,\n",
              " 'require': <gensim.models.keyedvectors.Vocab at 0x7f1200848828>,\n",
              " 'mathematically': <gensim.models.keyedvectors.Vocab at 0x7f1200848860>,\n",
              " 'computationally': <gensim.models.keyedvectors.Vocab at 0x7f1200848898>,\n",
              " 'convenient': <gensim.models.keyedvectors.Vocab at 0x7f12008488d0>,\n",
              " 'real': <gensim.models.keyedvectors.Vocab at 0x7f1200848908>,\n",
              " 'world': <gensim.models.keyedvectors.Vocab at 0x7f1200848940>,\n",
              " 'video': <gensim.models.keyedvectors.Vocab at 0x7f1200848978>,\n",
              " 'sensory': <gensim.models.keyedvectors.Vocab at 0x7f12008489b0>,\n",
              " 'yielded': <gensim.models.keyedvectors.Vocab at 0x7f12008489e8>,\n",
              " 'attempts': <gensim.models.keyedvectors.Vocab at 0x7f1200848a20>,\n",
              " 'algorithmically': <gensim.models.keyedvectors.Vocab at 0x7f1200848a58>,\n",
              " 'define': <gensim.models.keyedvectors.Vocab at 0x7f1200848a90>,\n",
              " 'alternative': <gensim.models.keyedvectors.Vocab at 0x7f1200848ac8>,\n",
              " 'examination': <gensim.models.keyedvectors.Vocab at 0x7f1200848b00>,\n",
              " 'combination': <gensim.models.keyedvectors.Vocab at 0x7f1200848b38>,\n",
              " 'basis': <gensim.models.keyedvectors.Vocab at 0x7f1200848b70>,\n",
              " 'assumed': <gensim.models.keyedvectors.Vocab at 0x7f1200848ba8>,\n",
              " 'strongly': <gensim.models.keyedvectors.Vocab at 0x7f1200848be0>,\n",
              " 'np': <gensim.models.keyedvectors.Vocab at 0x7f1200848c18>,\n",
              " 'hard': <gensim.models.keyedvectors.Vocab at 0x7f1200848c50>,\n",
              " 'difficult': <gensim.models.keyedvectors.Vocab at 0x7f1200848c88>,\n",
              " 'approximately': <gensim.models.keyedvectors.Vocab at 0x7f1200848cc0>,\n",
              " 'popular': <gensim.models.keyedvectors.Vocab at 0x7f1200848cf8>,\n",
              " 'heuristic': <gensim.models.keyedvectors.Vocab at 0x7f1200848d30>,\n",
              " 'k': <gensim.models.keyedvectors.Vocab at 0x7f1200848d68>,\n",
              " 'svd': <gensim.models.keyedvectors.Vocab at 0x7f1200848da0>,\n",
              " 'contexts': <gensim.models.keyedvectors.Vocab at 0x7f1200848dd8>,\n",
              " 'belongs': <gensim.models.keyedvectors.Vocab at 0x7f1200848e10>,\n",
              " 'built': <gensim.models.keyedvectors.Vocab at 0x7f1200848e48>,\n",
              " 'sparsely': <gensim.models.keyedvectors.Vocab at 0x7f1200848e80>,\n",
              " 'corresponding': <gensim.models.keyedvectors.Vocab at 0x7f1200848eb8>,\n",
              " 'de': <gensim.models.keyedvectors.Vocab at 0x7f1200848ef0>,\n",
              " 'noising': <gensim.models.keyedvectors.Vocab at 0x7f1200848f28>,\n",
              " 'idea': <gensim.models.keyedvectors.Vocab at 0x7f1200848f60>,\n",
              " 'clean': <gensim.models.keyedvectors.Vocab at 0x7f1200848f98>,\n",
              " 'patch': <gensim.models.keyedvectors.Vocab at 0x7f1200848fd0>,\n",
              " 'noise': <gensim.models.keyedvectors.Vocab at 0x7f120084a048>,\n",
              " 'anomaly': <gensim.models.keyedvectors.Vocab at 0x7f120084a080>,\n",
              " 'outlier': <gensim.models.keyedvectors.Vocab at 0x7f120084a0b8>,\n",
              " 'identification': <gensim.models.keyedvectors.Vocab at 0x7f120084a0f0>,\n",
              " 'rare': <gensim.models.keyedvectors.Vocab at 0x7f120084a128>,\n",
              " 'items': <gensim.models.keyedvectors.Vocab at 0x7f120084a160>,\n",
              " 'events': <gensim.models.keyedvectors.Vocab at 0x7f120084a198>,\n",
              " 'raise': <gensim.models.keyedvectors.Vocab at 0x7f120084a1d0>,\n",
              " 'suspicions': <gensim.models.keyedvectors.Vocab at 0x7f120084a208>,\n",
              " 'differing': <gensim.models.keyedvectors.Vocab at 0x7f120084a240>,\n",
              " 'majority': <gensim.models.keyedvectors.Vocab at 0x7f120084a278>,\n",
              " 'anomalous': <gensim.models.keyedvectors.Vocab at 0x7f120084a2b0>,\n",
              " 'represent': <gensim.models.keyedvectors.Vocab at 0x7f120084a2e8>,\n",
              " 'issue': <gensim.models.keyedvectors.Vocab at 0x7f120084a320>,\n",
              " 'bank': <gensim.models.keyedvectors.Vocab at 0x7f120084a358>,\n",
              " 'fraud': <gensim.models.keyedvectors.Vocab at 0x7f120084a390>,\n",
              " 'structural': <gensim.models.keyedvectors.Vocab at 0x7f120084a3c8>,\n",
              " 'defect': <gensim.models.keyedvectors.Vocab at 0x7f120084a400>,\n",
              " 'errors': <gensim.models.keyedvectors.Vocab at 0x7f120084a438>,\n",
              " 'text': <gensim.models.keyedvectors.Vocab at 0x7f120084a470>,\n",
              " 'anomalies': <gensim.models.keyedvectors.Vocab at 0x7f120084a4a8>,\n",
              " 'outliers': <gensim.models.keyedvectors.Vocab at 0x7f120084a4e0>,\n",
              " 'novelties': <gensim.models.keyedvectors.Vocab at 0x7f120084a518>,\n",
              " 'deviations': <gensim.models.keyedvectors.Vocab at 0x7f120084a550>,\n",
              " 'exceptions': <gensim.models.keyedvectors.Vocab at 0x7f120084a588>,\n",
              " 'particular': <gensim.models.keyedvectors.Vocab at 0x7f120084a5c0>,\n",
              " 'abuse': <gensim.models.keyedvectors.Vocab at 0x7f120084a5f8>,\n",
              " 'intrusion': <gensim.models.keyedvectors.Vocab at 0x7f120084a630>,\n",
              " 'interesting': <gensim.models.keyedvectors.Vocab at 0x7f120084a668>,\n",
              " 'unexpected': <gensim.models.keyedvectors.Vocab at 0x7f120084a6a0>,\n",
              " 'bursts': <gensim.models.keyedvectors.Vocab at 0x7f120084a6d8>,\n",
              " 'activity': <gensim.models.keyedvectors.Vocab at 0x7f120084a710>,\n",
              " 'adhere': <gensim.models.keyedvectors.Vocab at 0x7f120084a748>,\n",
              " 'fail': <gensim.models.keyedvectors.Vocab at 0x7f120084a780>,\n",
              " 'unless': <gensim.models.keyedvectors.Vocab at 0x7f120084a7b8>,\n",
              " 'aggregated': <gensim.models.keyedvectors.Vocab at 0x7f120084a7f0>,\n",
              " 'appropriately': <gensim.models.keyedvectors.Vocab at 0x7f120084a828>,\n",
              " 'able': <gensim.models.keyedvectors.Vocab at 0x7f120084a860>,\n",
              " 'detect': <gensim.models.keyedvectors.Vocab at 0x7f120084a898>,\n",
              " 'micro': <gensim.models.keyedvectors.Vocab at 0x7f120084a8d0>,\n",
              " 'formed': <gensim.models.keyedvectors.Vocab at 0x7f120084a908>,\n",
              " 'three': <gensim.models.keyedvectors.Vocab at 0x7f120084a940>,\n",
              " 'exist': <gensim.models.keyedvectors.Vocab at 0x7f120084a978>,\n",
              " 'assumption': <gensim.models.keyedvectors.Vocab at 0x7f120084a9b0>,\n",
              " 'normal': <gensim.models.keyedvectors.Vocab at 0x7f120084a9e8>,\n",
              " 'looking': <gensim.models.keyedvectors.Vocab at 0x7f120084aa20>,\n",
              " 'seem': <gensim.models.keyedvectors.Vocab at 0x7f120084aa58>,\n",
              " 'fit': <gensim.models.keyedvectors.Vocab at 0x7f120084aa90>,\n",
              " 'least': <gensim.models.keyedvectors.Vocab at 0x7f120084aac8>,\n",
              " 'remainder': <gensim.models.keyedvectors.Vocab at 0x7f120084ab00>,\n",
              " 'abnormal': <gensim.models.keyedvectors.Vocab at 0x7f120084ab38>,\n",
              " 'involves': <gensim.models.keyedvectors.Vocab at 0x7f120084ab70>,\n",
              " 'classifier': <gensim.models.keyedvectors.Vocab at 0x7f120084aba8>,\n",
              " 'inherent': <gensim.models.keyedvectors.Vocab at 0x7f120084abe0>,\n",
              " 'unbalanced': <gensim.models.keyedvectors.Vocab at 0x7f120084ac18>,\n",
              " 'construct': <gensim.models.keyedvectors.Vocab at 0x7f120084ac50>,\n",
              " 'representing': <gensim.models.keyedvectors.Vocab at 0x7f120084ac88>,\n",
              " 'behavior': <gensim.models.keyedvectors.Vocab at 0x7f120084acc0>,\n",
              " 'likelihood': <gensim.models.keyedvectors.Vocab at 0x7f120084acf8>,\n",
              " 'instance': <gensim.models.keyedvectors.Vocab at 0x7f120084ad30>,\n",
              " 'generated': <gensim.models.keyedvectors.Vocab at 0x7f120084ad68>,\n",
              " 'trees': <gensim.models.keyedvectors.Vocab at 0x7f120084ada0>,\n",
              " 'tree': <gensim.models.keyedvectors.Vocab at 0x7f120084add8>,\n",
              " 'go': <gensim.models.keyedvectors.Vocab at 0x7f120084ae10>,\n",
              " 'item': <gensim.models.keyedvectors.Vocab at 0x7f120084ae48>,\n",
              " 'branches': <gensim.models.keyedvectors.Vocab at 0x7f120084ae80>,\n",
              " 'conclusions': <gensim.models.keyedvectors.Vocab at 0x7f120084aeb8>,\n",
              " 'target': <gensim.models.keyedvectors.Vocab at 0x7f120084aef0>,\n",
              " 'leaves': <gensim.models.keyedvectors.Vocab at 0x7f120084af28>,\n",
              " 'variable': <gensim.models.keyedvectors.Vocab at 0x7f120084af60>,\n",
              " 'discrete': <gensim.models.keyedvectors.Vocab at 0x7f120084af98>,\n",
              " 'structures': <gensim.models.keyedvectors.Vocab at 0x7f120084afd0>,\n",
              " 'conjunctions': <gensim.models.keyedvectors.Vocab at 0x7f120084e048>,\n",
              " 'lead': <gensim.models.keyedvectors.Vocab at 0x7f120084e080>,\n",
              " 'those': <gensim.models.keyedvectors.Vocab at 0x7f120084e0b8>,\n",
              " 'numbers': <gensim.models.keyedvectors.Vocab at 0x7f120084e0f0>,\n",
              " 'visually': <gensim.models.keyedvectors.Vocab at 0x7f120084e128>,\n",
              " 'describes': <gensim.models.keyedvectors.Vocab at 0x7f120084e160>,\n",
              " 'resulting': <gensim.models.keyedvectors.Vocab at 0x7f120084e198>,\n",
              " 'association': <gensim.models.keyedvectors.Vocab at 0x7f120084e1d0>,\n",
              " 'rules': <gensim.models.keyedvectors.Vocab at 0x7f120084e208>,\n",
              " 'rule': <gensim.models.keyedvectors.Vocab at 0x7f120084e240>,\n",
              " 'variables': <gensim.models.keyedvectors.Vocab at 0x7f120084e278>,\n",
              " 'large': <gensim.models.keyedvectors.Vocab at 0x7f120084e2b0>,\n",
              " 'strong': <gensim.models.keyedvectors.Vocab at 0x7f120084e2e8>,\n",
              " 'discovered': <gensim.models.keyedvectors.Vocab at 0x7f120084e320>,\n",
              " 'interestingness': <gensim.models.keyedvectors.Vocab at 0x7f120084e358>,\n",
              " 'generates': <gensim.models.keyedvectors.Vocab at 0x7f120084e390>,\n",
              " 'analyzes': <gensim.models.keyedvectors.Vocab at 0x7f120084e3c8>,\n",
              " 'ultimate': <gensim.models.keyedvectors.Vocab at 0x7f120084e400>,\n",
              " 'assuming': <gensim.models.keyedvectors.Vocab at 0x7f120084e438>,\n",
              " 'enough': <gensim.models.keyedvectors.Vocab at 0x7f120084e470>,\n",
              " 'help': <gensim.models.keyedvectors.Vocab at 0x7f120084e4a8>,\n",
              " 'mimic': <gensim.models.keyedvectors.Vocab at 0x7f120084e4e0>,\n",
              " 'brain': <gensim.models.keyedvectors.Vocab at 0x7f120084e518>,\n",
              " 'extraction': <gensim.models.keyedvectors.Vocab at 0x7f120084e550>,\n",
              " 'capabilities': <gensim.models.keyedvectors.Vocab at 0x7f120084e588>,\n",
              " 'evolves': <gensim.models.keyedvectors.Vocab at 0x7f120084e5c0>,\n",
              " 'store': <gensim.models.keyedvectors.Vocab at 0x7f120084e5f8>,\n",
              " 'manipulate': <gensim.models.keyedvectors.Vocab at 0x7f120084e630>,\n",
              " 'apply': <gensim.models.keyedvectors.Vocab at 0x7f120084e668>,\n",
              " 'characteristic': <gensim.models.keyedvectors.Vocab at 0x7f120084e6a0>,\n",
              " 'utilization': <gensim.models.keyedvectors.Vocab at 0x7f120084e6d8>,\n",
              " 'relational': <gensim.models.keyedvectors.Vocab at 0x7f120084e710>,\n",
              " 'collectively': <gensim.models.keyedvectors.Vocab at 0x7f120084e748>,\n",
              " 'captured': <gensim.models.keyedvectors.Vocab at 0x7f120084e780>,\n",
              " 'system': <gensim.models.keyedvectors.Vocab at 0x7f120084e7b8>,\n",
              " 'contrast': <gensim.models.keyedvectors.Vocab at 0x7f120084e7f0>,\n",
              " 'commonly': <gensim.models.keyedvectors.Vocab at 0x7f120084e828>,\n",
              " 'singular': <gensim.models.keyedvectors.Vocab at 0x7f120084e860>,\n",
              " 'universally': <gensim.models.keyedvectors.Vocab at 0x7f120084e898>,\n",
              " 'immune': <gensim.models.keyedvectors.Vocab at 0x7f120084e8d0>,\n",
              " 'concept': <gensim.models.keyedvectors.Vocab at 0x7f120084e908>,\n",
              " 'rakesh': <gensim.models.keyedvectors.Vocab at 0x7f120084e940>,\n",
              " 'agrawal': <gensim.models.keyedvectors.Vocab at 0x7f120084e978>,\n",
              " 'tomasz': <gensim.models.keyedvectors.Vocab at 0x7f120084e9b0>,\n",
              " 'imieli': <gensim.models.keyedvectors.Vocab at 0x7f120084e9e8>,\n",
              " 'ski': <gensim.models.keyedvectors.Vocab at 0x7f120084ea20>,\n",
              " 'arun': <gensim.models.keyedvectors.Vocab at 0x7f120084ea58>,\n",
              " 'swami': <gensim.models.keyedvectors.Vocab at 0x7f120084ea90>,\n",
              " 'introduced': <gensim.models.keyedvectors.Vocab at 0x7f120084eac8>,\n",
              " 'regularities': <gensim.models.keyedvectors.Vocab at 0x7f120084eb00>,\n",
              " 'products': <gensim.models.keyedvectors.Vocab at 0x7f120084eb38>,\n",
              " 'scale': <gensim.models.keyedvectors.Vocab at 0x7f120084eb70>,\n",
              " 'transaction': <gensim.models.keyedvectors.Vocab at 0x7f120084eba8>,\n",
              " 'recorded': <gensim.models.keyedvectors.Vocab at 0x7f120084ebe0>,\n",
              " 'point': <gensim.models.keyedvectors.Vocab at 0x7f120084ec18>,\n",
              " 'sale': <gensim.models.keyedvectors.Vocab at 0x7f120084ec50>,\n",
              " 'pos': <gensim.models.keyedvectors.Vocab at 0x7f120084ec88>,\n",
              " 'supermarkets': <gensim.models.keyedvectors.Vocab at 0x7f120084ecc0>,\n",
              " 'o': <gensim.models.keyedvectors.Vocab at 0x7f120084ecf8>,\n",
              " 'n': <gensim.models.keyedvectors.Vocab at 0x7f120084ed30>,\n",
              " 'b': <gensim.models.keyedvectors.Vocab at 0x7f120084ed68>,\n",
              " 'u': <gensim.models.keyedvectors.Vocab at 0x7f120084eda0>,\n",
              " 'r': <gensim.models.keyedvectors.Vocab at 0x7f120084edd8>,\n",
              " 'g': <gensim.models.keyedvectors.Vocab at 0x7f120084ee10>,\n",
              " 'displaystyle': <gensim.models.keyedvectors.Vocab at 0x7f120084ee48>,\n",
              " 'mathrm': <gensim.models.keyedvectors.Vocab at 0x7f120084ee80>,\n",
              " 'onions': <gensim.models.keyedvectors.Vocab at 0x7f120084eeb8>,\n",
              " 'potatoes': <gensim.models.keyedvectors.Vocab at 0x7f120084eef0>,\n",
              " 'rightarrow': <gensim.models.keyedvectors.Vocab at 0x7f120084ef28>,\n",
              " 'burger': <gensim.models.keyedvectors.Vocab at 0x7f120084ef60>,\n",
              " 'sales': <gensim.models.keyedvectors.Vocab at 0x7f120084ef98>,\n",
              " 'supermarket': <gensim.models.keyedvectors.Vocab at 0x7f120084efd0>,\n",
              " 'indicate': <gensim.models.keyedvectors.Vocab at 0x7f1200852048>,\n",
              " 'customer': <gensim.models.keyedvectors.Vocab at 0x7f1200852080>,\n",
              " 'buys': <gensim.models.keyedvectors.Vocab at 0x7f12008520b8>,\n",
              " 'together': <gensim.models.keyedvectors.Vocab at 0x7f12008520f0>,\n",
              " 'likely': <gensim.models.keyedvectors.Vocab at 0x7f1200852128>,\n",
              " 'buy': <gensim.models.keyedvectors.Vocab at 0x7f1200852160>,\n",
              " 'hamburger': <gensim.models.keyedvectors.Vocab at 0x7f1200852198>,\n",
              " 'meat': <gensim.models.keyedvectors.Vocab at 0x7f12008521d0>,\n",
              " 'marketing': <gensim.models.keyedvectors.Vocab at 0x7f1200852208>,\n",
              " 'activities': <gensim.models.keyedvectors.Vocab at 0x7f1200852240>,\n",
              " 'promotional': <gensim.models.keyedvectors.Vocab at 0x7f1200852278>,\n",
              " 'pricing': <gensim.models.keyedvectors.Vocab at 0x7f12008522b0>,\n",
              " 'product': <gensim.models.keyedvectors.Vocab at 0x7f12008522e8>,\n",
              " 'placements': <gensim.models.keyedvectors.Vocab at 0x7f1200852320>,\n",
              " 'market': <gensim.models.keyedvectors.Vocab at 0x7f1200852358>,\n",
              " 'basket': <gensim.models.keyedvectors.Vocab at 0x7f1200852390>,\n",
              " 'today': <gensim.models.keyedvectors.Vocab at 0x7f12008523c8>,\n",
              " 'areas': <gensim.models.keyedvectors.Vocab at 0x7f1200852400>,\n",
              " 'web': <gensim.models.keyedvectors.Vocab at 0x7f1200852438>,\n",
              " 'usage': <gensim.models.keyedvectors.Vocab at 0x7f1200852470>,\n",
              " 'production': <gensim.models.keyedvectors.Vocab at 0x7f12008524a8>,\n",
              " 'bioinformatics': <gensim.models.keyedvectors.Vocab at 0x7f12008524e0>,\n",
              " 'sequence': <gensim.models.keyedvectors.Vocab at 0x7f1200852518>,\n",
              " 'consider': <gensim.models.keyedvectors.Vocab at 0x7f1200852550>,\n",
              " 'transactions': <gensim.models.keyedvectors.Vocab at 0x7f1200852588>,\n",
              " 'lcs': <gensim.models.keyedvectors.Vocab at 0x7f12008525c0>,\n",
              " 'family': <gensim.models.keyedvectors.Vocab at 0x7f12008525f8>,\n",
              " 'combine': <gensim.models.keyedvectors.Vocab at 0x7f1200852630>,\n",
              " 'seek': <gensim.models.keyedvectors.Vocab at 0x7f1200852668>,\n",
              " 'dependent': <gensim.models.keyedvectors.Vocab at 0x7f12008526a0>,\n",
              " 'piecewise': <gensim.models.keyedvectors.Vocab at 0x7f12008526d8>,\n",
              " 'manner': <gensim.models.keyedvectors.Vocab at 0x7f1200852710>,\n",
              " ...}"
            ]
          },
          "metadata": {
            "tags": []
          },
          "execution_count": 20
        }
      ]
    },
    {
      "metadata": {
        "id": "KshrfDklReIl",
        "colab_type": "text"
      },
      "cell_type": "markdown",
      "source": [
        "### Get an embedding for word `SVM`"
      ]
    },
    {
      "metadata": {
        "id": "YiwT1OjARg6e",
        "colab_type": "code",
        "colab": {
          "base_uri": "https://localhost:8080/",
          "height": 204
        },
        "outputId": "26a989dd-4b30-4e3f-a621-276d2912a706"
      },
      "cell_type": "code",
      "source": [
        "model.wv['svm']"
      ],
      "execution_count": 21,
      "outputs": [
        {
          "output_type": "execute_result",
          "data": {
            "text/plain": [
              "array([-0.63382405, -0.3913452 ,  0.21513881,  0.4171934 ,  0.3075056 ,\n",
              "        0.87065244, -0.66907454,  0.28258914,  0.12698007,  0.5133725 ,\n",
              "        0.560092  ,  0.25115085,  0.09912197,  0.36930826, -0.8271885 ,\n",
              "       -1.3907198 , -0.10574923,  0.03163578, -1.3309275 , -0.9970305 ,\n",
              "        0.46007827, -1.5140039 , -1.5825355 ,  0.3992742 ,  0.31954533,\n",
              "       -1.7507477 , -0.03561866,  0.18180923,  0.61013347, -0.4495091 ,\n",
              "       -0.29696319,  0.20120937,  1.057964  ,  0.30952916,  0.28160518,\n",
              "        0.38102126,  0.41852865, -0.5729173 , -1.8470168 ,  0.40074006,\n",
              "       -0.6698606 ,  0.20739476, -0.00953802, -0.8060459 ,  0.20589101,\n",
              "       -0.37170792, -0.35412666,  0.02801054,  0.28305605,  0.45252305],\n",
              "      dtype=float32)"
            ]
          },
          "metadata": {
            "tags": []
          },
          "execution_count": 21
        }
      ]
    },
    {
      "metadata": {
        "id": "7COLA1LzRhTj",
        "colab_type": "text"
      },
      "cell_type": "markdown",
      "source": [
        "### Finding most similar words for word `learning`"
      ]
    },
    {
      "metadata": {
        "id": "tEsMKWY6Ri3n",
        "colab_type": "code",
        "colab": {
          "base_uri": "https://localhost:8080/",
          "height": 187
        },
        "outputId": "d10335ef-b081-4f5e-fcbc-bfa56fb34bd8"
      },
      "cell_type": "code",
      "source": [
        "model.wv.most_similar('learning')"
      ],
      "execution_count": 22,
      "outputs": [
        {
          "output_type": "execute_result",
          "data": {
            "text/plain": [
              "[('supervised', 0.999707818031311),\n",
              " ('types', 0.9990309476852417),\n",
              " ('machine', 0.9976739883422852),\n",
              " ('belief', 0.9963676333427429),\n",
              " ('algorithms', 0.9961035251617432),\n",
              " ('deep', 0.9948768019676208),\n",
              " ('family', 0.9931374192237854),\n",
              " ('networks', 0.9928653240203857),\n",
              " ('neural', 0.9926808476448059),\n",
              " ('evaluating', 0.9903343319892883)]"
            ]
          },
          "metadata": {
            "tags": []
          },
          "execution_count": 22
        }
      ]
    },
    {
      "metadata": {
        "id": "K8QjNuDKRlvt",
        "colab_type": "text"
      },
      "cell_type": "markdown",
      "source": [
        "### Find the word which is not like others from `machine, svm, ball, learning`"
      ]
    },
    {
      "metadata": {
        "id": "oBudwDHtRl3u",
        "colab_type": "code",
        "colab": {
          "base_uri": "https://localhost:8080/",
          "height": 88
        },
        "outputId": "2a1ecb44-10bd-4cc5-f3b3-1f911bf12fd3"
      },
      "cell_type": "code",
      "source": [
        "model.doesnt_match(\"machine svm ball learning\".split())"
      ],
      "execution_count": 23,
      "outputs": [
        {
          "output_type": "stream",
          "text": [
            "/usr/local/lib/python3.6/dist-packages/ipykernel_launcher.py:1: DeprecationWarning: Call to deprecated `doesnt_match` (Method will be removed in 4.0.0, use self.wv.doesnt_match() instead).\n",
            "  \"\"\"Entry point for launching an IPython kernel.\n"
          ],
          "name": "stderr"
        },
        {
          "output_type": "execute_result",
          "data": {
            "text/plain": [
              "'ball'"
            ]
          },
          "metadata": {
            "tags": []
          },
          "execution_count": 23
        }
      ]
    },
    {
      "metadata": {
        "id": "cjNQ0yMNRn6D",
        "colab_type": "text"
      },
      "cell_type": "markdown",
      "source": [
        "### Save the model with name `word2vec-wiki-10`"
      ]
    },
    {
      "metadata": {
        "id": "bynMebY5RoLn",
        "colab_type": "code",
        "colab": {}
      },
      "cell_type": "code",
      "source": [
        "model.save('word2vec-wiki-10')"
      ],
      "execution_count": 0,
      "outputs": []
    },
    {
      "metadata": {
        "id": "cDeem0T5RqTn",
        "colab_type": "text"
      },
      "cell_type": "markdown",
      "source": [
        "### Load the model `word2vec-wiki-10`"
      ]
    },
    {
      "metadata": {
        "id": "VJJk04KfRqen",
        "colab_type": "code",
        "colab": {}
      },
      "cell_type": "code",
      "source": [
        "model = gensim.models.Word2Vec.load('word2vec-wiki-10')"
      ],
      "execution_count": 0,
      "outputs": []
    },
    {
      "metadata": {
        "id": "ZDvYULRww6fb",
        "colab_type": "code",
        "colab": {}
      },
      "cell_type": "code",
      "source": [
        ""
      ],
      "execution_count": 0,
      "outputs": []
    }
  ]
}