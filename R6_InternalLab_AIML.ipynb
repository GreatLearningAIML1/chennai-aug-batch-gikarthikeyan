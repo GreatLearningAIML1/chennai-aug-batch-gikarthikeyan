{
 "cells": [
  {
   "cell_type": "markdown",
   "metadata": {
    "colab_type": "text",
    "id": "sb7Epo0VOB58"
   },
   "source": [
    "### Load tensorflow"
   ]
  },
  {
   "cell_type": "code",
   "execution_count": 23,
   "metadata": {
    "colab": {},
    "colab_type": "code",
    "id": "fHpCNRv1OB5-"
   },
   "outputs": [],
   "source": [
    "import tensorflow as tf"
   ]
  },
  {
   "cell_type": "code",
   "execution_count": 24,
   "metadata": {
    "colab": {},
    "colab_type": "code",
    "id": "tnSsH8sNOB6F",
    "slideshow": {
     "slide_type": "fragment"
    }
   },
   "outputs": [],
   "source": [
    "#Reset Default graph - Needed only for Jupyter notebook\n",
    "tf.reset_default_graph()"
   ]
  },
  {
   "cell_type": "markdown",
   "metadata": {
    "colab_type": "text",
    "id": "DxJDmJqqOB6K",
    "slideshow": {
     "slide_type": "slide"
    }
   },
   "source": [
    "### Collect Data"
   ]
  },
  {
   "cell_type": "code",
   "execution_count": 25,
   "metadata": {
    "colab": {},
    "colab_type": "code",
    "id": "FhllFLyKOB6N"
   },
   "outputs": [],
   "source": [
    "import pandas as pd"
   ]
  },
  {
   "cell_type": "code",
   "execution_count": 26,
   "metadata": {
    "colab": {},
    "colab_type": "code",
    "id": "B4yQKMiJOB6R"
   },
   "outputs": [],
   "source": [
    "data = pd.read_csv('./prices.csv')"
   ]
  },
  {
   "cell_type": "markdown",
   "metadata": {
    "colab_type": "text",
    "id": "fgkX6SEqOB6W"
   },
   "source": [
    "### Check all columns in the dataset"
   ]
  },
  {
   "cell_type": "code",
   "execution_count": 27,
   "metadata": {
    "colab": {
     "base_uri": "https://localhost:8080/",
     "height": 34
    },
    "colab_type": "code",
    "id": "7K8pWsNQOB6X",
    "outputId": "525794e9-1d15-439a-f8c5-36c5f84921b7"
   },
   "outputs": [
    {
     "data": {
      "text/plain": [
       "Index(['date', 'symbol', 'open', 'close', 'low', 'high', 'volume'], dtype='object')"
      ]
     },
     "execution_count": 27,
     "metadata": {},
     "output_type": "execute_result"
    }
   ],
   "source": [
    "data.columns"
   ]
  },
  {
   "cell_type": "markdown",
   "metadata": {
    "colab_type": "text",
    "id": "7dU6X7MpOB6c"
   },
   "source": [
    "### Drop columns `date` and  `symbol`"
   ]
  },
  {
   "cell_type": "code",
   "execution_count": 28,
   "metadata": {
    "colab": {},
    "colab_type": "code",
    "id": "lh_6spSKOB6e"
   },
   "outputs": [],
   "source": [
    "data.drop(['date','symbol'],axis=1,inplace=True)"
   ]
  },
  {
   "cell_type": "code",
   "execution_count": 29,
   "metadata": {
    "colab": {
     "base_uri": "https://localhost:8080/",
     "height": 204
    },
    "colab_type": "code",
    "id": "xlwbUgTwOB6i",
    "outputId": "5d48c306-580a-41e8-968f-b76643783b16"
   },
   "outputs": [
    {
     "data": {
      "text/html": [
       "<div>\n",
       "<style scoped>\n",
       "    .dataframe tbody tr th:only-of-type {\n",
       "        vertical-align: middle;\n",
       "    }\n",
       "\n",
       "    .dataframe tbody tr th {\n",
       "        vertical-align: top;\n",
       "    }\n",
       "\n",
       "    .dataframe thead th {\n",
       "        text-align: right;\n",
       "    }\n",
       "</style>\n",
       "<table border=\"1\" class=\"dataframe\">\n",
       "  <thead>\n",
       "    <tr style=\"text-align: right;\">\n",
       "      <th></th>\n",
       "      <th>open</th>\n",
       "      <th>close</th>\n",
       "      <th>low</th>\n",
       "      <th>high</th>\n",
       "      <th>volume</th>\n",
       "    </tr>\n",
       "  </thead>\n",
       "  <tbody>\n",
       "    <tr>\n",
       "      <th>0</th>\n",
       "      <td>123.430000</td>\n",
       "      <td>125.839996</td>\n",
       "      <td>122.309998</td>\n",
       "      <td>126.250000</td>\n",
       "      <td>2163600.0</td>\n",
       "    </tr>\n",
       "    <tr>\n",
       "      <th>1</th>\n",
       "      <td>125.239998</td>\n",
       "      <td>119.980003</td>\n",
       "      <td>119.940002</td>\n",
       "      <td>125.540001</td>\n",
       "      <td>2386400.0</td>\n",
       "    </tr>\n",
       "    <tr>\n",
       "      <th>2</th>\n",
       "      <td>116.379997</td>\n",
       "      <td>114.949997</td>\n",
       "      <td>114.930000</td>\n",
       "      <td>119.739998</td>\n",
       "      <td>2489500.0</td>\n",
       "    </tr>\n",
       "    <tr>\n",
       "      <th>3</th>\n",
       "      <td>115.480003</td>\n",
       "      <td>116.620003</td>\n",
       "      <td>113.500000</td>\n",
       "      <td>117.440002</td>\n",
       "      <td>2006300.0</td>\n",
       "    </tr>\n",
       "    <tr>\n",
       "      <th>4</th>\n",
       "      <td>117.010002</td>\n",
       "      <td>114.970001</td>\n",
       "      <td>114.089996</td>\n",
       "      <td>117.330002</td>\n",
       "      <td>1408600.0</td>\n",
       "    </tr>\n",
       "  </tbody>\n",
       "</table>\n",
       "</div>"
      ],
      "text/plain": [
       "         open       close         low        high     volume\n",
       "0  123.430000  125.839996  122.309998  126.250000  2163600.0\n",
       "1  125.239998  119.980003  119.940002  125.540001  2386400.0\n",
       "2  116.379997  114.949997  114.930000  119.739998  2489500.0\n",
       "3  115.480003  116.620003  113.500000  117.440002  2006300.0\n",
       "4  117.010002  114.970001  114.089996  117.330002  1408600.0"
      ]
     },
     "execution_count": 29,
     "metadata": {},
     "output_type": "execute_result"
    }
   ],
   "source": [
    "data.head()"
   ]
  },
  {
   "cell_type": "markdown",
   "metadata": {
    "colab_type": "text",
    "id": "3DBv3WWYOB6q"
   },
   "source": [
    "### Consider only first 1000 rows in the dataset for building feature set and target set"
   ]
  },
  {
   "cell_type": "code",
   "execution_count": 30,
   "metadata": {
    "colab": {
     "base_uri": "https://localhost:8080/",
     "height": 34
    },
    "colab_type": "code",
    "id": "Z_hG9rGBOB6s",
    "outputId": "82825db7-6f3b-4862-893f-f9faa2d543aa"
   },
   "outputs": [
    {
     "data": {
      "text/plain": [
       "(1000, 5)"
      ]
     },
     "execution_count": 30,
     "metadata": {},
     "output_type": "execute_result"
    }
   ],
   "source": [
    "data=data.head(1000)\n",
    "data.shape"
   ]
  },
  {
   "cell_type": "markdown",
   "metadata": {
    "colab_type": "text",
    "id": "M3UaApqYOB6x"
   },
   "source": [
    "### Divide the data into train and test sets"
   ]
  },
  {
   "cell_type": "code",
   "execution_count": 31,
   "metadata": {
    "colab": {},
    "colab_type": "code",
    "id": "2EkKAy7fOB6y"
   },
   "outputs": [],
   "source": [
    "tf.set_random_seed(100)"
   ]
  },
  {
   "cell_type": "code",
   "execution_count": 32,
   "metadata": {
    "colab": {},
    "colab_type": "code",
    "id": "c4x1gAhYgBhg"
   },
   "outputs": [],
   "source": [
    "X=data.drop('close',axis=1)"
   ]
  },
  {
   "cell_type": "code",
   "execution_count": 33,
   "metadata": {
    "colab": {},
    "colab_type": "code",
    "id": "ci1J0v_6gBhj"
   },
   "outputs": [],
   "source": [
    "y=data.close"
   ]
  },
  {
   "cell_type": "code",
   "execution_count": 34,
   "metadata": {
    "colab": {},
    "colab_type": "code",
    "id": "mTxQAwL-gBhn"
   },
   "outputs": [],
   "source": [
    "from sklearn.model_selection import train_test_split"
   ]
  },
  {
   "cell_type": "code",
   "execution_count": 35,
   "metadata": {
    "colab": {},
    "colab_type": "code",
    "id": "tsdV0Bj7gBhp"
   },
   "outputs": [],
   "source": [
    "X_train, X_test, y_train, y_test = train_test_split(X, y, test_size=0.33)"
   ]
  },
  {
   "cell_type": "markdown",
   "metadata": {
    "colab_type": "text",
    "id": "v6vE4eYCOB62",
    "slideshow": {
     "slide_type": "slide"
    }
   },
   "source": [
    "## Building the graph in tensorflow"
   ]
  },
  {
   "cell_type": "markdown",
   "metadata": {
    "colab_type": "text",
    "id": "xK0zBd1VOB64",
    "slideshow": {
     "slide_type": "slide"
    }
   },
   "source": [
    "1.Define input data placeholders"
   ]
  },
  {
   "cell_type": "code",
   "execution_count": 36,
   "metadata": {
    "colab": {},
    "colab_type": "code",
    "id": "JDrYlWTuOB66"
   },
   "outputs": [],
   "source": [
    "#Input features\n",
    "x = tf.placeholder(shape=[None,4],dtype=tf.float32, name='x-input')\n",
    "\n",
    "#Normalize the data\n",
    "x_n = tf.layers.batch_normalization(x,training=True)\n",
    "\n",
    "#Actual Prices\n",
    "y_ = tf.placeholder(shape=[None],dtype=tf.float32, name='y-input')"
   ]
  },
  {
   "cell_type": "markdown",
   "metadata": {
    "colab_type": "text",
    "id": "297_qja4OB7A",
    "slideshow": {
     "slide_type": "slide"
    }
   },
   "source": [
    "2.Define Weights and Bias"
   ]
  },
  {
   "cell_type": "code",
   "execution_count": 37,
   "metadata": {
    "colab": {},
    "colab_type": "code",
    "id": "L205qPeQOB7B"
   },
   "outputs": [],
   "source": [
    "W = tf.Variable(tf.zeros(shape=[4,1]), name=\"Weights\")\n",
    "b = tf.Variable(tf.zeros(shape=[1]),name=\"Bias\")"
   ]
  },
  {
   "cell_type": "markdown",
   "metadata": {
    "colab_type": "text",
    "id": "HgtWA-UIOB7F",
    "slideshow": {
     "slide_type": "slide"
    }
   },
   "source": [
    "3.Prediction"
   ]
  },
  {
   "cell_type": "code",
   "execution_count": 38,
   "metadata": {
    "colab": {},
    "colab_type": "code",
    "id": "JveGlx25OB7H"
   },
   "outputs": [],
   "source": [
    "#We will use normalized data\n",
    "#y = tf.add(tf.matmul(x,W),b,name='output')\n",
    "y = tf.add(tf.matmul(x_n,W),b,name='output')"
   ]
  },
  {
   "cell_type": "markdown",
   "metadata": {
    "colab_type": "text",
    "id": "TL1hIwf_OB7M",
    "slideshow": {
     "slide_type": "slide"
    }
   },
   "source": [
    "4.Loss (Cost) Function [Mean square error]"
   ]
  },
  {
   "cell_type": "code",
   "execution_count": 39,
   "metadata": {
    "colab": {},
    "colab_type": "code",
    "id": "8VSWPiGXOB7P"
   },
   "outputs": [],
   "source": [
    "loss = tf.reduce_mean(tf.square(y-y_),name='Loss')"
   ]
  },
  {
   "cell_type": "markdown",
   "metadata": {
    "colab_type": "text",
    "id": "jzG85FUlOB7U",
    "slideshow": {
     "slide_type": "slide"
    }
   },
   "source": [
    "5.GradientDescent Optimizer to minimize Loss [GradientDescentOptimizer]"
   ]
  },
  {
   "cell_type": "code",
   "execution_count": 40,
   "metadata": {
    "colab": {},
    "colab_type": "code",
    "id": "cj802w-3OB7X"
   },
   "outputs": [],
   "source": [
    "train_op = tf.train.GradientDescentOptimizer(0.003).minimize(loss)"
   ]
  },
  {
   "cell_type": "markdown",
   "metadata": {
    "colab_type": "text",
    "id": "xSypb_u8OB7e",
    "slideshow": {
     "slide_type": "slide"
    }
   },
   "source": [
    "## Execute the Graph for 100 epochs and observe the loss"
   ]
  },
  {
   "cell_type": "code",
   "execution_count": 41,
   "metadata": {
    "colab": {},
    "colab_type": "code",
    "id": "DVvgj7eQOB7f"
   },
   "outputs": [],
   "source": [
    "#Lets start graph Execution\n",
    "sess = tf.Session()\n",
    "\n",
    "# variables need to be initialized before we can use them\n",
    "sess.run(tf.global_variables_initializer())\n",
    "\n",
    "#how many times data need to be shown to model\n",
    "training_epochs = 100"
   ]
  },
  {
   "cell_type": "code",
   "execution_count": 42,
   "metadata": {
    "colab": {
     "base_uri": "https://localhost:8080/",
     "height": 187
    },
    "colab_type": "code",
    "id": "9smwOW-1OB7k",
    "outputId": "e510805f-a134-4477-ccdb-9cbc1e04675f"
   },
   "outputs": [
    {
     "name": "stdout",
     "output_type": "stream",
     "text": [
      "Training loss at step:  0  is  8584.705\n",
      "Training loss at step:  10  is  8037.824\n",
      "Training loss at step:  20  is  7552.426\n",
      "Training loss at step:  30  is  7122.4497\n",
      "Training loss at step:  40  is  6740.008\n",
      "Training loss at step:  50  is  6197.0103\n",
      "Training loss at step:  60  is  3765.5889\n",
      "Training loss at step:  70  is  3761.349\n",
      "Training loss at step:  80  is  3760.7395\n",
      "Training loss at step:  90  is  3760.357\n"
     ]
    }
   ],
   "source": [
    "for epoch in range(100):\n",
    "            \n",
    "    #Calculate train_op and loss\n",
    "    _, train_loss = sess.run([train_op,loss],feed_dict={x:X_train, \n",
    "                                                        y_:y_train})\n",
    "    \n",
    "    if epoch % 10 == 0:\n",
    "        print ('Training loss at step: ', epoch, ' is ', train_loss)"
   ]
  },
  {
   "cell_type": "code",
   "execution_count": 43,
   "metadata": {
    "colab": {
     "base_uri": "https://localhost:8080/",
     "height": 187
    },
    "colab_type": "code",
    "id": "9JuLI6bSOB7n",
    "outputId": "f44033a1-d8a9-4db1-d60c-132a00163470"
   },
   "outputs": [
    {
     "name": "stdout",
     "output_type": "stream",
     "text": [
      "Training loss at step:  0  is  2699.8074\n",
      "Training loss at step:  10  is  2633.3752\n",
      "Training loss at step:  20  is  2633.3076\n",
      "Training loss at step:  30  is  2633.2546\n",
      "Training loss at step:  40  is  2633.2136\n",
      "Training loss at step:  50  is  2633.1824\n",
      "Training loss at step:  60  is  2633.1638\n",
      "Training loss at step:  70  is  2633.144\n",
      "Training loss at step:  80  is  2633.1287\n",
      "Training loss at step:  90  is  2633.1208\n"
     ]
    }
   ],
   "source": [
    "for epoch in range(100):\n",
    "            \n",
    "    #Calculate train_op and loss\n",
    "    _, test_loss = sess.run([train_op,loss],feed_dict={x:X_test, \n",
    "                                                        y_:y_test})\n",
    "    \n",
    "    if epoch % 10 == 0:\n",
    "        print ('Training loss at step: ', epoch, ' is ', test_loss)"
   ]
  },
  {
   "cell_type": "markdown",
   "metadata": {
    "colab_type": "text",
    "id": "DOL2ncA1OB7q"
   },
   "source": [
    "### Get the shapes and values of W and b\n",
    "\n",
    "Hint: Use sess.run(W) to get W."
   ]
  },
  {
   "cell_type": "code",
   "execution_count": 44,
   "metadata": {
    "colab": {
     "base_uri": "https://localhost:8080/",
     "height": 85
    },
    "colab_type": "code",
    "id": "ZGvtyTeuOB7r",
    "outputId": "243ecfda-3245-4421-d6d3-091376b20f2b"
   },
   "outputs": [
    {
     "data": {
      "text/plain": [
       "array([[ 3.2288013],\n",
       "       [-5.060419 ],\n",
       "       [-1.6279498],\n",
       "       [ 1.508581 ]], dtype=float32)"
      ]
     },
     "execution_count": 44,
     "metadata": {},
     "output_type": "execute_result"
    }
   ],
   "source": [
    "sess.run(W)"
   ]
  },
  {
   "cell_type": "code",
   "execution_count": 45,
   "metadata": {
    "colab": {
     "base_uri": "https://localhost:8080/",
     "height": 34
    },
    "colab_type": "code",
    "id": "vhDtOv5UOB7x",
    "outputId": "62af9252-30be-41b3-a175-d580db83bc0c"
   },
   "outputs": [
    {
     "data": {
      "text/plain": [
       "array([19.721], dtype=float32)"
      ]
     },
     "execution_count": 45,
     "metadata": {},
     "output_type": "execute_result"
    }
   ],
   "source": [
    "sess.run(b)"
   ]
  },
  {
   "cell_type": "markdown",
   "metadata": {
    "colab_type": "text",
    "id": "SZqKUEFsOB71"
   },
   "source": [
    "### Find the Absolute mean square loss difference between training and testing loss."
   ]
  },
  {
   "cell_type": "code",
   "execution_count": 46,
   "metadata": {
    "colab": {},
    "colab_type": "code",
    "id": "97t-grQgOB71"
   },
   "outputs": [],
   "source": [
    "AMSL=abs(train_loss-test_loss)"
   ]
  },
  {
   "cell_type": "code",
   "execution_count": 47,
   "metadata": {
    "colab": {
     "base_uri": "https://localhost:8080/",
     "height": 34
    },
    "colab_type": "code",
    "id": "KjOInjUROB75",
    "outputId": "57b65193-4e8a-415a-e0b5-b5872580eb0b"
   },
   "outputs": [
    {
     "data": {
      "text/plain": [
       "1127.0227"
      ]
     },
     "execution_count": 47,
     "metadata": {},
     "output_type": "execute_result"
    }
   ],
   "source": [
    "AMSL"
   ]
  },
  {
   "cell_type": "markdown",
   "metadata": {
    "colab_type": "text",
    "id": "YJRBuqXhOB7_"
   },
   "source": [
    "### Linear Classification using Keras"
   ]
  },
  {
   "cell_type": "markdown",
   "metadata": {
    "colab_type": "text",
    "id": "8GoNTWXAOB8C",
    "slideshow": {
     "slide_type": "slide"
    }
   },
   "source": [
    "### Building the simple Neural Network in Keras with one neuron in the dense hidden layer.\n",
    "#### Use Mean square error as loss function and sgd as optimizer"
   ]
  },
  {
   "cell_type": "code",
   "execution_count": 48,
   "metadata": {
    "colab": {},
    "colab_type": "code",
    "id": "EWgVHzdANxes"
   },
   "outputs": [],
   "source": [
    "#Initialize Sequential Graph (model)\n",
    "model = tf.keras.models.Sequential()\n",
    "\n",
    "#Normalize input data\n",
    "model.add(tf.keras.layers.BatchNormalization(input_shape=(4,)))\n",
    "\n",
    "#Add Dense layer for prediction - Keras declares weights and bias automatically\n",
    "model.add(tf.keras.layers.Dense(1))\n",
    "#Create optimizer with non-default learning rate\n",
    "\n",
    "sgd_optimizer = tf.keras.optimizers.SGD(lr=0.01 , clipnorm=1)\n",
    "#Compile the model - add Loss and Gradient Descent optimizer\n",
    "\n",
    "model.compile(optimizer=sgd_optimizer, loss='mse')"
   ]
  },
  {
   "cell_type": "markdown",
   "metadata": {
    "colab_type": "text",
    "id": "Wt-HYFMEOB8G",
    "slideshow": {
     "slide_type": "slide"
    }
   },
   "source": [
    "### Execute the model"
   ]
  },
  {
   "cell_type": "code",
   "execution_count": 49,
   "metadata": {
    "colab": {
     "base_uri": "https://localhost:8080/",
     "height": 1734
    },
    "colab_type": "code",
    "id": "66JGJt7GOB8H",
    "outputId": "a5d2c51f-cbad-48c8-da8b-2329c0d34770"
   },
   "outputs": [
    {
     "name": "stdout",
     "output_type": "stream",
     "text": [
      "Epoch 1/50\n",
      "670/670 [==============================] - 1s 2ms/step - loss: 8317.4379\n",
      "Epoch 2/50\n",
      "670/670 [==============================] - 0s 48us/step - loss: 8171.4192\n",
      "Epoch 3/50\n",
      "670/670 [==============================] - 0s 70us/step - loss: 7992.7573\n",
      "Epoch 4/50\n",
      "670/670 [==============================] - 0s 73us/step - loss: 7812.1165\n",
      "Epoch 5/50\n",
      "670/670 [==============================] - 0s 205us/step - loss: 7613.2953\n",
      "Epoch 6/50\n",
      "670/670 [==============================] - 0s 60us/step - loss: 7388.7330\n",
      "Epoch 7/50\n",
      "670/670 [==============================] - 0s 63us/step - loss: 7151.5410\n",
      "Epoch 8/50\n",
      "670/670 [==============================] - 0s 57us/step - loss: 6921.5614\n",
      "Epoch 9/50\n",
      "670/670 [==============================] - 0s 58us/step - loss: 6608.0338\n",
      "Epoch 10/50\n",
      "670/670 [==============================] - 0s 104us/step - loss: 6361.4827\n",
      "Epoch 11/50\n",
      "670/670 [==============================] - 0s 54us/step - loss: 6087.9007\n",
      "Epoch 12/50\n",
      "670/670 [==============================] - 0s 54us/step - loss: 5740.7172\n",
      "Epoch 13/50\n",
      "670/670 [==============================] - 0s 54us/step - loss: 5469.9548\n",
      "Epoch 14/50\n",
      "670/670 [==============================] - 0s 50us/step - loss: 5128.1646\n",
      "Epoch 15/50\n",
      "670/670 [==============================] - 0s 54us/step - loss: 4837.9419\n",
      "Epoch 16/50\n",
      "670/670 [==============================] - 0s 49us/step - loss: 4494.5311\n",
      "Epoch 17/50\n",
      "670/670 [==============================] - 0s 37us/step - loss: 4231.1360\n",
      "Epoch 18/50\n",
      "670/670 [==============================] - 0s 35us/step - loss: 3828.1030\n",
      "Epoch 19/50\n",
      "670/670 [==============================] - 0s 40us/step - loss: 3720.7534\n",
      "Epoch 20/50\n",
      "670/670 [==============================] - 0s 42us/step - loss: 3262.2931\n",
      "Epoch 21/50\n",
      "670/670 [==============================] - 0s 33us/step - loss: 2914.4561\n",
      "Epoch 22/50\n",
      "670/670 [==============================] - 0s 54us/step - loss: 2608.4251\n",
      "Epoch 23/50\n",
      "670/670 [==============================] - 0s 42us/step - loss: 2331.7359\n",
      "Epoch 24/50\n",
      "670/670 [==============================] - 0s 39us/step - loss: 2142.3867\n",
      "Epoch 25/50\n",
      "670/670 [==============================] - 0s 42us/step - loss: 1856.8598\n",
      "Epoch 26/50\n",
      "670/670 [==============================] - 0s 42us/step - loss: 1714.7453\n",
      "Epoch 27/50\n",
      "670/670 [==============================] - 0s 48us/step - loss: 1426.2303\n",
      "Epoch 28/50\n",
      "670/670 [==============================] - 0s 42us/step - loss: 1355.6457\n",
      "Epoch 29/50\n",
      "670/670 [==============================] - 0s 60us/step - loss: 1185.0237\n",
      "Epoch 30/50\n",
      "670/670 [==============================] - 0s 54us/step - loss: 964.4088\n",
      "Epoch 31/50\n",
      "670/670 [==============================] - 0s 48us/step - loss: 1006.1425\n",
      "Epoch 32/50\n",
      "670/670 [==============================] - 0s 48us/step - loss: 902.9034\n",
      "Epoch 33/50\n",
      "670/670 [==============================] - 0s 48us/step - loss: 981.1026\n",
      "Epoch 34/50\n",
      "670/670 [==============================] - 0s 48us/step - loss: 882.1406\n",
      "Epoch 35/50\n",
      "670/670 [==============================] - 0s 48us/step - loss: 740.5695\n",
      "Epoch 36/50\n",
      "670/670 [==============================] - 0s 72us/step - loss: 739.2151\n",
      "Epoch 37/50\n",
      "670/670 [==============================] - 0s 36us/step - loss: 632.8470\n",
      "Epoch 38/50\n",
      "670/670 [==============================] - 0s 36us/step - loss: 800.0448\n",
      "Epoch 39/50\n",
      "670/670 [==============================] - 0s 36us/step - loss: 770.0569\n",
      "Epoch 40/50\n",
      "670/670 [==============================] - 0s 36us/step - loss: 710.5986\n",
      "Epoch 41/50\n",
      "670/670 [==============================] - 0s 48us/step - loss: 687.8050\n",
      "Epoch 42/50\n",
      "670/670 [==============================] - 0s 42us/step - loss: 670.7330\n",
      "Epoch 43/50\n",
      "670/670 [==============================] - 0s 60us/step - loss: 766.1392\n",
      "Epoch 44/50\n",
      "670/670 [==============================] - 0s 64us/step - loss: 756.4714\n",
      "Epoch 45/50\n",
      "670/670 [==============================] - 0s 52us/step - loss: 882.0678\n",
      "Epoch 46/50\n",
      "670/670 [==============================] - 0s 51us/step - loss: 711.0704\n",
      "Epoch 47/50\n",
      "670/670 [==============================] - 0s 52us/step - loss: 675.3445\n",
      "Epoch 48/50\n",
      "670/670 [==============================] - 0s 44us/step - loss: 654.9958\n",
      "Epoch 49/50\n",
      "670/670 [==============================] - 0s 61us/step - loss: 811.8349\n",
      "Epoch 50/50\n",
      "670/670 [==============================] - 0s 42us/step - loss: 793.2598\n"
     ]
    },
    {
     "data": {
      "text/plain": [
       "<tensorflow.python.keras.callbacks.History at 0x267402b6438>"
      ]
     },
     "execution_count": 49,
     "metadata": {},
     "output_type": "execute_result"
    }
   ],
   "source": [
    "model.fit(X_train, y_train, epochs=50)"
   ]
  },
  {
   "cell_type": "markdown",
   "metadata": {
    "colab_type": "text",
    "id": "UhXnJK83gBi5"
   },
   "source": [
    "### Classification using Keras "
   ]
  },
  {
   "cell_type": "code",
   "execution_count": 0,
   "metadata": {
    "colab": {},
    "colab_type": "code",
    "id": "6JtGZzuEgBi6"
   },
   "outputs": [],
   "source": [
    "tf.reset_default_graph()\n",
    "tf.set_random_seed(42)"
   ]
  },
  {
   "cell_type": "markdown",
   "metadata": {
    "colab_type": "text",
    "id": "qW2I6H-ngBi8"
   },
   "source": [
    "### Load the given Iris data using pandas (Iris.csv)"
   ]
  },
  {
   "cell_type": "code",
   "execution_count": 50,
   "metadata": {
    "colab": {},
    "colab_type": "code",
    "id": "FB_o3VLHgBi9"
   },
   "outputs": [],
   "source": [
    "iris=pd.read_csv('Iris.csv',index_col=0)"
   ]
  },
  {
   "cell_type": "markdown",
   "metadata": {
    "colab_type": "text",
    "id": "tNI8n80LgBi_"
   },
   "source": [
    "### Splitting the data into feature set and target set"
   ]
  },
  {
   "cell_type": "code",
   "execution_count": 51,
   "metadata": {
    "colab": {
     "base_uri": "https://localhost:8080/",
     "height": 235
    },
    "colab_type": "code",
    "id": "fAMHFCi5gBjA",
    "outputId": "5a59afff-5d57-4876-be2b-2234991901da"
   },
   "outputs": [
    {
     "data": {
      "text/html": [
       "<div>\n",
       "<style scoped>\n",
       "    .dataframe tbody tr th:only-of-type {\n",
       "        vertical-align: middle;\n",
       "    }\n",
       "\n",
       "    .dataframe tbody tr th {\n",
       "        vertical-align: top;\n",
       "    }\n",
       "\n",
       "    .dataframe thead th {\n",
       "        text-align: right;\n",
       "    }\n",
       "</style>\n",
       "<table border=\"1\" class=\"dataframe\">\n",
       "  <thead>\n",
       "    <tr style=\"text-align: right;\">\n",
       "      <th></th>\n",
       "      <th>SepalLengthCm</th>\n",
       "      <th>SepalWidthCm</th>\n",
       "      <th>PetalLengthCm</th>\n",
       "      <th>PetalWidthCm</th>\n",
       "      <th>Species</th>\n",
       "    </tr>\n",
       "    <tr>\n",
       "      <th>Id</th>\n",
       "      <th></th>\n",
       "      <th></th>\n",
       "      <th></th>\n",
       "      <th></th>\n",
       "      <th></th>\n",
       "    </tr>\n",
       "  </thead>\n",
       "  <tbody>\n",
       "    <tr>\n",
       "      <th>1</th>\n",
       "      <td>5.1</td>\n",
       "      <td>3.5</td>\n",
       "      <td>1.4</td>\n",
       "      <td>0.2</td>\n",
       "      <td>Iris-setosa</td>\n",
       "    </tr>\n",
       "    <tr>\n",
       "      <th>2</th>\n",
       "      <td>4.9</td>\n",
       "      <td>3.0</td>\n",
       "      <td>1.4</td>\n",
       "      <td>0.2</td>\n",
       "      <td>Iris-setosa</td>\n",
       "    </tr>\n",
       "    <tr>\n",
       "      <th>3</th>\n",
       "      <td>4.7</td>\n",
       "      <td>3.2</td>\n",
       "      <td>1.3</td>\n",
       "      <td>0.2</td>\n",
       "      <td>Iris-setosa</td>\n",
       "    </tr>\n",
       "    <tr>\n",
       "      <th>4</th>\n",
       "      <td>4.6</td>\n",
       "      <td>3.1</td>\n",
       "      <td>1.5</td>\n",
       "      <td>0.2</td>\n",
       "      <td>Iris-setosa</td>\n",
       "    </tr>\n",
       "    <tr>\n",
       "      <th>5</th>\n",
       "      <td>5.0</td>\n",
       "      <td>3.6</td>\n",
       "      <td>1.4</td>\n",
       "      <td>0.2</td>\n",
       "      <td>Iris-setosa</td>\n",
       "    </tr>\n",
       "  </tbody>\n",
       "</table>\n",
       "</div>"
      ],
      "text/plain": [
       "    SepalLengthCm  SepalWidthCm  PetalLengthCm  PetalWidthCm      Species\n",
       "Id                                                                       \n",
       "1             5.1           3.5            1.4           0.2  Iris-setosa\n",
       "2             4.9           3.0            1.4           0.2  Iris-setosa\n",
       "3             4.7           3.2            1.3           0.2  Iris-setosa\n",
       "4             4.6           3.1            1.5           0.2  Iris-setosa\n",
       "5             5.0           3.6            1.4           0.2  Iris-setosa"
      ]
     },
     "execution_count": 51,
     "metadata": {},
     "output_type": "execute_result"
    }
   ],
   "source": [
    "iris.head()"
   ]
  },
  {
   "cell_type": "code",
   "execution_count": 52,
   "metadata": {
    "colab": {
     "base_uri": "https://localhost:8080/",
     "height": 34
    },
    "colab_type": "code",
    "id": "JjGJjkvvrVXS",
    "outputId": "c8e63baf-7ebb-4527-e5de-833295f5fca4"
   },
   "outputs": [
    {
     "data": {
      "text/plain": [
       "(150, 5)"
      ]
     },
     "execution_count": 52,
     "metadata": {},
     "output_type": "execute_result"
    }
   ],
   "source": [
    "iris.shape"
   ]
  },
  {
   "cell_type": "code",
   "execution_count": 53,
   "metadata": {
    "colab": {
     "base_uri": "https://localhost:8080/",
     "height": 51
    },
    "colab_type": "code",
    "id": "gqpplalnrRhA",
    "outputId": "7006d2c3-fcd6-41b5-d7b4-9fbc52285664"
   },
   "outputs": [
    {
     "name": "stdout",
     "output_type": "stream",
     "text": [
      "Index(['SepalLengthCm', 'SepalWidthCm', 'PetalLengthCm', 'PetalWidthCm'], dtype='object')\n",
      "Species\n"
     ]
    }
   ],
   "source": [
    "cols = iris.columns\n",
    "features = cols[0:4]\n",
    "target = cols[4]\n",
    "print(features)\n",
    "print(target)"
   ]
  },
  {
   "cell_type": "code",
   "execution_count": 54,
   "metadata": {
    "colab": {},
    "colab_type": "code",
    "id": "iWtUwmLn5E8z"
   },
   "outputs": [],
   "source": [
    "data_norm = pd.DataFrame(iris)"
   ]
  },
  {
   "cell_type": "code",
   "execution_count": 55,
   "metadata": {
    "colab": {},
    "colab_type": "code",
    "id": "sqCWkPgg3GBz"
   },
   "outputs": [],
   "source": [
    "import numpy as np\n",
    "indices = data_norm.index.tolist()\n",
    "indices = np.array(indices)\n",
    "np.random.shuffle(indices)\n",
    "X = data_norm.reindex(indices)[features]\n",
    "y = data_norm.reindex(indices)[target]"
   ]
  },
  {
   "cell_type": "markdown",
   "metadata": {
    "colab_type": "text",
    "id": "_aLOYtaugBjC"
   },
   "source": [
    "### Target set has different categories. So, Label encode them. And convert into one-hot vectors using get_dummies in pandas."
   ]
  },
  {
   "cell_type": "code",
   "execution_count": 56,
   "metadata": {
    "colab": {
     "base_uri": "https://localhost:8080/",
     "height": 235
    },
    "colab_type": "code",
    "id": "UGvFIgb6gBjC",
    "outputId": "02c10c7a-72c3-4116-f020-290ac856e892"
   },
   "outputs": [
    {
     "data": {
      "text/html": [
       "<div>\n",
       "<style scoped>\n",
       "    .dataframe tbody tr th:only-of-type {\n",
       "        vertical-align: middle;\n",
       "    }\n",
       "\n",
       "    .dataframe tbody tr th {\n",
       "        vertical-align: top;\n",
       "    }\n",
       "\n",
       "    .dataframe thead th {\n",
       "        text-align: right;\n",
       "    }\n",
       "</style>\n",
       "<table border=\"1\" class=\"dataframe\">\n",
       "  <thead>\n",
       "    <tr style=\"text-align: right;\">\n",
       "      <th></th>\n",
       "      <th>Iris-setosa</th>\n",
       "      <th>Iris-versicolor</th>\n",
       "      <th>Iris-virginica</th>\n",
       "    </tr>\n",
       "    <tr>\n",
       "      <th>Id</th>\n",
       "      <th></th>\n",
       "      <th></th>\n",
       "      <th></th>\n",
       "    </tr>\n",
       "  </thead>\n",
       "  <tbody>\n",
       "    <tr>\n",
       "      <th>99</th>\n",
       "      <td>0</td>\n",
       "      <td>1</td>\n",
       "      <td>0</td>\n",
       "    </tr>\n",
       "    <tr>\n",
       "      <th>145</th>\n",
       "      <td>0</td>\n",
       "      <td>0</td>\n",
       "      <td>1</td>\n",
       "    </tr>\n",
       "    <tr>\n",
       "      <th>134</th>\n",
       "      <td>0</td>\n",
       "      <td>0</td>\n",
       "      <td>1</td>\n",
       "    </tr>\n",
       "    <tr>\n",
       "      <th>144</th>\n",
       "      <td>0</td>\n",
       "      <td>0</td>\n",
       "      <td>1</td>\n",
       "    </tr>\n",
       "    <tr>\n",
       "      <th>40</th>\n",
       "      <td>1</td>\n",
       "      <td>0</td>\n",
       "      <td>0</td>\n",
       "    </tr>\n",
       "  </tbody>\n",
       "</table>\n",
       "</div>"
      ],
      "text/plain": [
       "     Iris-setosa  Iris-versicolor  Iris-virginica\n",
       "Id                                               \n",
       "99             0                1               0\n",
       "145            0                0               1\n",
       "134            0                0               1\n",
       "144            0                0               1\n",
       "40             1                0               0"
      ]
     },
     "execution_count": 56,
     "metadata": {},
     "output_type": "execute_result"
    }
   ],
   "source": [
    "from pandas import get_dummies\n",
    "y = get_dummies(y)\n",
    "y.head()"
   ]
  },
  {
   "cell_type": "markdown",
   "metadata": {
    "colab_type": "text",
    "id": "INIh1wIOgBjE"
   },
   "source": [
    "### Divide the dataset into Training and test (70:30)"
   ]
  },
  {
   "cell_type": "code",
   "execution_count": 57,
   "metadata": {
    "colab": {},
    "colab_type": "code",
    "id": "f7pKHGbFgBjG"
   },
   "outputs": [],
   "source": [
    "X_train, X_test, y_train, y_test = train_test_split(X,y, test_size=.3)"
   ]
  },
  {
   "cell_type": "code",
   "execution_count": 58,
   "metadata": {
    "colab": {},
    "colab_type": "code",
    "id": "B41P0jFw7Df_"
   },
   "outputs": [],
   "source": [
    "# Convert to np arrays so that we can use with TensorFlow\n",
    "X_train = np.array(X_train).astype(np.float32)\n",
    "X_test  = np.array(X_test).astype(np.float32)\n",
    "y_train = np.array(y_train).astype(np.float32)\n",
    "y_test  = np.array(y_test).astype(np.float32)"
   ]
  },
  {
   "cell_type": "markdown",
   "metadata": {
    "colab_type": "text",
    "id": "uAvd_D1XgBjH"
   },
   "source": [
    "### Model\n",
    "Build the model with following layers: <br>\n",
    "1. First dense layer with 10 neurons with input shape 4 (according to the feature set) <br>\n",
    "2. Second Dense layer with 8 neurons <br>\n",
    "3. Output layer with 3 neurons with softmax activation (output layer, 3 neurons as we have 3 classes) <br>\n",
    "4. Use SGD and categorical_crossentropy loss "
   ]
  },
  {
   "cell_type": "code",
   "execution_count": 59,
   "metadata": {
    "colab": {},
    "colab_type": "code",
    "id": "wXc-nzWXgBjJ"
   },
   "outputs": [],
   "source": [
    "model =  tf.keras.models.Sequential()\n",
    "model.add(tf.keras.layers.BatchNormalization())\n",
    "\n",
    "model.add(tf.keras.layers.Dense(10, input_shape=(4,), activation='relu', name='fc1'))\n",
    "model.add(tf.keras.layers.Dense(8, activation='relu', name='fc2'))\n",
    "model.add(tf.keras.layers.Dense(3, activation='softmax', name='output'))\n"
   ]
  },
  {
   "cell_type": "code",
   "execution_count": 60,
   "metadata": {
    "colab": {},
    "colab_type": "code",
    "id": "lKE6QcqT8lHE"
   },
   "outputs": [],
   "source": [
    "#Create optimizer with non-default learning rate\n",
    "sgd_optimizer = tf.keras.optimizers.SGD(lr=0.03)\n",
    "\n",
    "#Compile the model\n",
    "model.compile(optimizer=sgd_optimizer, loss='categorical_crossentropy', metrics=['accuracy'])"
   ]
  },
  {
   "cell_type": "markdown",
   "metadata": {
    "colab_type": "text",
    "id": "3Tn5GKAQgBjO"
   },
   "source": [
    "### Fitting the model and predicting "
   ]
  },
  {
   "cell_type": "code",
   "execution_count": 61,
   "metadata": {
    "colab": {
     "base_uri": "https://localhost:8080/",
     "height": 1050
    },
    "colab_type": "code",
    "id": "3Oy42QgxgBjQ",
    "outputId": "1d5b2479-a7bd-489a-9425-131ce5ad0a11"
   },
   "outputs": [
    {
     "name": "stdout",
     "output_type": "stream",
     "text": [
      "Train on 105 samples, validate on 45 samples\n",
      "Epoch 1/200\n",
      "105/105 [==============================] - 1s 7ms/step - loss: 1.0861 - acc: 0.6857 - val_loss: 0.7757 - val_acc: 0.6667\n",
      "Epoch 2/200\n",
      "105/105 [==============================] - 0s 383us/step - loss: 0.5605 - acc: 0.8000 - val_loss: 0.5666 - val_acc: 0.6667\n",
      "Epoch 3/200\n",
      "105/105 [==============================] - 0s 315us/step - loss: 0.4696 - acc: 0.7905 - val_loss: 0.4310 - val_acc: 0.9556\n",
      "Epoch 4/200\n",
      "105/105 [==============================] - 0s 471us/step - loss: 0.3937 - acc: 0.8571 - val_loss: 0.4490 - val_acc: 0.7333\n",
      "Epoch 5/200\n",
      "105/105 [==============================] - 0s 398us/step - loss: 0.3627 - acc: 0.8286 - val_loss: 0.5053 - val_acc: 0.6667\n",
      "Epoch 6/200\n",
      "105/105 [==============================] - 0s 630us/step - loss: 0.3504 - acc: 0.8476 - val_loss: 0.3218 - val_acc: 0.9333\n",
      "Epoch 7/200\n",
      "105/105 [==============================] - 0s 469us/step - loss: 0.3324 - acc: 0.8381 - val_loss: 0.6377 - val_acc: 0.6222\n",
      "Epoch 8/200\n",
      "105/105 [==============================] - 0s 475us/step - loss: 0.3692 - acc: 0.8000 - val_loss: 0.2985 - val_acc: 0.9556\n",
      "Epoch 9/200\n",
      "105/105 [==============================] - 0s 546us/step - loss: 0.4233 - acc: 0.8000 - val_loss: 0.4499 - val_acc: 0.6889\n",
      "Epoch 10/200\n",
      "105/105 [==============================] - 0s 660us/step - loss: 0.4107 - acc: 0.8286 - val_loss: 0.5360 - val_acc: 0.5778\n",
      "Epoch 11/200\n",
      "105/105 [==============================] - 0s 343us/step - loss: 0.4030 - acc: 0.7619 - val_loss: 0.4924 - val_acc: 0.6222\n",
      "Epoch 12/200\n",
      "105/105 [==============================] - 0s 431us/step - loss: 0.3231 - acc: 0.8667 - val_loss: 0.5273 - val_acc: 0.6667\n",
      "Epoch 13/200\n",
      "105/105 [==============================] - 0s 334us/step - loss: 0.3945 - acc: 0.8000 - val_loss: 0.4700 - val_acc: 0.6222\n",
      "Epoch 14/200\n",
      "105/105 [==============================] - 0s 360us/step - loss: 0.3266 - acc: 0.8571 - val_loss: 0.5991 - val_acc: 0.6222\n",
      "Epoch 15/200\n",
      "105/105 [==============================] - 0s 406us/step - loss: 0.3563 - acc: 0.8190 - val_loss: 0.5377 - val_acc: 0.6667\n",
      "Epoch 16/200\n",
      "105/105 [==============================] - 0s 381us/step - loss: 0.2449 - acc: 0.8857 - val_loss: 0.2189 - val_acc: 0.9778\n",
      "Epoch 17/200\n",
      "105/105 [==============================] - 0s 417us/step - loss: 0.4211 - acc: 0.8476 - val_loss: 0.3443 - val_acc: 0.9778\n",
      "Epoch 18/200\n",
      "105/105 [==============================] - 0s 495us/step - loss: 0.2769 - acc: 0.9048 - val_loss: 0.2517 - val_acc: 0.9111\n",
      "Epoch 19/200\n",
      "105/105 [==============================] - 0s 457us/step - loss: 0.3122 - acc: 0.8476 - val_loss: 0.2829 - val_acc: 0.9778\n",
      "Epoch 20/200\n",
      "105/105 [==============================] - 0s 381us/step - loss: 0.1738 - acc: 0.9524 - val_loss: 0.6997 - val_acc: 0.6667\n",
      "Epoch 21/200\n",
      "105/105 [==============================] - 0s 419us/step - loss: 0.2160 - acc: 0.9143 - val_loss: 0.1606 - val_acc: 0.9778\n",
      "Epoch 22/200\n",
      "105/105 [==============================] - 0s 344us/step - loss: 0.2058 - acc: 0.9143 - val_loss: 0.3135 - val_acc: 0.7556\n",
      "Epoch 23/200\n",
      "105/105 [==============================] - 0s 450us/step - loss: 0.2917 - acc: 0.9143 - val_loss: 0.2162 - val_acc: 0.9111\n",
      "Epoch 24/200\n",
      "105/105 [==============================] - 0s 463us/step - loss: 0.2920 - acc: 0.8476 - val_loss: 0.4429 - val_acc: 0.6889\n",
      "Epoch 25/200\n",
      "105/105 [==============================] - 0s 313us/step - loss: 0.1638 - acc: 0.9333 - val_loss: 0.2029 - val_acc: 0.9556\n",
      "Epoch 26/200\n",
      "105/105 [==============================] - 0s 313us/step - loss: 0.2101 - acc: 0.9238 - val_loss: 0.2637 - val_acc: 0.8667\n",
      "Epoch 27/200\n",
      "105/105 [==============================] - 0s 342us/step - loss: 0.1946 - acc: 0.9238 - val_loss: 0.4542 - val_acc: 0.7556\n",
      "Epoch 28/200\n",
      "105/105 [==============================] - 0s 323us/step - loss: 0.2579 - acc: 0.9048 - val_loss: 0.1939 - val_acc: 0.9556\n",
      "Epoch 29/200\n",
      "105/105 [==============================] - 0s 332us/step - loss: 0.2911 - acc: 0.8762 - val_loss: 0.2654 - val_acc: 0.8444\n",
      "Epoch 30/200\n",
      "105/105 [==============================] - 0s 399us/step - loss: 0.2262 - acc: 0.9048 - val_loss: 0.2565 - val_acc: 0.8444\n",
      "Epoch 31/200\n",
      "105/105 [==============================] - 0s 351us/step - loss: 0.1748 - acc: 0.9429 - val_loss: 0.1558 - val_acc: 0.9556\n",
      "Epoch 32/200\n",
      "105/105 [==============================] - 0s 294us/step - loss: 0.2261 - acc: 0.9048 - val_loss: 0.2603 - val_acc: 0.9111\n",
      "Epoch 33/200\n",
      "105/105 [==============================] - 0s 369us/step - loss: 0.1242 - acc: 0.9714 - val_loss: 0.3516 - val_acc: 0.8889\n",
      "Epoch 34/200\n",
      "105/105 [==============================] - 0s 457us/step - loss: 0.1163 - acc: 0.9524 - val_loss: 0.1354 - val_acc: 0.9556\n",
      "Epoch 35/200\n",
      "105/105 [==============================] - 0s 343us/step - loss: 0.1086 - acc: 0.9714 - val_loss: 0.1071 - val_acc: 0.9556\n",
      "Epoch 36/200\n",
      "105/105 [==============================] - 0s 487us/step - loss: 0.3294 - acc: 0.8762 - val_loss: 0.2017 - val_acc: 0.9556\n",
      "Epoch 37/200\n",
      "105/105 [==============================] - 0s 493us/step - loss: 0.1648 - acc: 0.9429 - val_loss: 0.1642 - val_acc: 0.9556\n",
      "Epoch 38/200\n",
      "105/105 [==============================] - 0s 746us/step - loss: 0.3016 - acc: 0.8857 - val_loss: 0.1419 - val_acc: 0.9556\n",
      "Epoch 39/200\n",
      "105/105 [==============================] - 0s 381us/step - loss: 0.0893 - acc: 0.9810 - val_loss: 0.1261 - val_acc: 0.9556\n",
      "Epoch 40/200\n",
      "105/105 [==============================] - 0s 556us/step - loss: 0.1520 - acc: 0.9619 - val_loss: 0.1175 - val_acc: 0.9556\n",
      "Epoch 41/200\n",
      "105/105 [==============================] - 0s 517us/step - loss: 0.1283 - acc: 0.9714 - val_loss: 0.2912 - val_acc: 0.8889\n",
      "Epoch 42/200\n",
      "105/105 [==============================] - 0s 397us/step - loss: 0.1470 - acc: 0.9333 - val_loss: 0.2640 - val_acc: 0.8889\n",
      "Epoch 43/200\n",
      "105/105 [==============================] - 0s 450us/step - loss: 0.1293 - acc: 0.9429 - val_loss: 0.1552 - val_acc: 0.8889\n",
      "Epoch 44/200\n",
      "105/105 [==============================] - 0s 375us/step - loss: 0.1989 - acc: 0.9143 - val_loss: 0.1521 - val_acc: 0.9556\n",
      "Epoch 45/200\n",
      "105/105 [==============================] - 0s 387us/step - loss: 0.1018 - acc: 0.9714 - val_loss: 0.1325 - val_acc: 0.9556\n",
      "Epoch 46/200\n",
      "105/105 [==============================] - 0s 494us/step - loss: 0.2802 - acc: 0.8857 - val_loss: 0.2667 - val_acc: 0.8889\n",
      "Epoch 47/200\n",
      "105/105 [==============================] - 0s 598us/step - loss: 0.1281 - acc: 0.9619 - val_loss: 0.1347 - val_acc: 0.9556\n",
      "Epoch 48/200\n",
      "105/105 [==============================] - 0s 390us/step - loss: 0.1259 - acc: 0.9619 - val_loss: 0.1565 - val_acc: 0.9556\n",
      "Epoch 49/200\n",
      "105/105 [==============================] - 0s 334us/step - loss: 0.1249 - acc: 0.9524 - val_loss: 0.1997 - val_acc: 0.8889\n",
      "Epoch 50/200\n",
      "105/105 [==============================] - 0s 419us/step - loss: 0.1311 - acc: 0.9238 - val_loss: 0.1883 - val_acc: 0.8889\n",
      "Epoch 51/200\n",
      "105/105 [==============================] - 0s 305us/step - loss: 0.1837 - acc: 0.9333 - val_loss: 0.2452 - val_acc: 0.9111\n",
      "Epoch 52/200\n",
      "105/105 [==============================] - 0s 1ms/step - loss: 0.1162 - acc: 0.9619 - val_loss: 0.1713 - val_acc: 0.9556\n",
      "Epoch 53/200\n",
      "105/105 [==============================] - 0s 789us/step - loss: 0.1315 - acc: 0.9524 - val_loss: 0.1775 - val_acc: 0.9111\n",
      "Epoch 54/200\n",
      "105/105 [==============================] - 0s 536us/step - loss: 0.1925 - acc: 0.9238 - val_loss: 0.2415 - val_acc: 0.9333\n",
      "Epoch 55/200\n",
      "105/105 [==============================] - 0s 533us/step - loss: 0.1124 - acc: 0.9524 - val_loss: 0.1152 - val_acc: 0.9333\n",
      "Epoch 56/200\n",
      "105/105 [==============================] - 0s 610us/step - loss: 0.1064 - acc: 0.9619 - val_loss: 0.1481 - val_acc: 0.9556\n",
      "Epoch 57/200\n",
      "105/105 [==============================] - 0s 419us/step - loss: 0.0666 - acc: 0.9905 - val_loss: 0.1145 - val_acc: 0.9556\n",
      "Epoch 58/200\n",
      "105/105 [==============================] - 0s 457us/step - loss: 0.2036 - acc: 0.9238 - val_loss: 0.1224 - val_acc: 0.9556\n",
      "Epoch 59/200\n",
      "105/105 [==============================] - 0s 525us/step - loss: 0.0988 - acc: 0.9714 - val_loss: 0.1053 - val_acc: 0.9556\n",
      "Epoch 60/200\n",
      "105/105 [==============================] - 0s 686us/step - loss: 0.1324 - acc: 0.9524 - val_loss: 0.1084 - val_acc: 0.9333\n",
      "Epoch 61/200\n"
     ]
    },
    {
     "name": "stdout",
     "output_type": "stream",
     "text": [
      "105/105 [==============================] - 0s 419us/step - loss: 0.0746 - acc: 0.9810 - val_loss: 0.1117 - val_acc: 0.9556\n",
      "Epoch 62/200\n",
      "105/105 [==============================] - 0s 475us/step - loss: 0.0913 - acc: 0.9810 - val_loss: 0.1129 - val_acc: 0.9556\n",
      "Epoch 63/200\n",
      "105/105 [==============================] - 0s 499us/step - loss: 0.1566 - acc: 0.9238 - val_loss: 0.1253 - val_acc: 0.9556\n",
      "Epoch 64/200\n",
      "105/105 [==============================] - 0s 326us/step - loss: 0.1119 - acc: 0.9524 - val_loss: 0.1054 - val_acc: 0.9333\n",
      "Epoch 65/200\n",
      "105/105 [==============================] - 0s 384us/step - loss: 0.0998 - acc: 0.9714 - val_loss: 0.2392 - val_acc: 0.9333\n",
      "Epoch 66/200\n",
      "105/105 [==============================] - 0s 308us/step - loss: 0.0836 - acc: 0.9714 - val_loss: 0.2556 - val_acc: 0.9333\n",
      "Epoch 67/200\n",
      "105/105 [==============================] - 0s 440us/step - loss: 0.1277 - acc: 0.9524 - val_loss: 0.1238 - val_acc: 0.9333\n",
      "Epoch 68/200\n",
      "105/105 [==============================] - 0s 341us/step - loss: 0.2884 - acc: 0.9238 - val_loss: 0.1479 - val_acc: 0.9556\n",
      "Epoch 69/200\n",
      "105/105 [==============================] - 0s 454us/step - loss: 0.0912 - acc: 0.9714 - val_loss: 0.1521 - val_acc: 0.9111\n",
      "Epoch 70/200\n",
      "105/105 [==============================] - 0s 283us/step - loss: 0.0928 - acc: 0.9619 - val_loss: 0.1699 - val_acc: 0.9556\n",
      "Epoch 71/200\n",
      "105/105 [==============================] - 0s 484us/step - loss: 0.0664 - acc: 0.9714 - val_loss: 0.3162 - val_acc: 0.8889\n",
      "Epoch 72/200\n",
      "105/105 [==============================] - 0s 361us/step - loss: 0.1038 - acc: 0.9429 - val_loss: 0.1075 - val_acc: 0.9556\n",
      "Epoch 73/200\n",
      "105/105 [==============================] - 0s 440us/step - loss: 0.0749 - acc: 0.9619 - val_loss: 1.2965 - val_acc: 0.6444\n",
      "Epoch 74/200\n",
      "105/105 [==============================] - 0s 283us/step - loss: 0.0812 - acc: 0.9619 - val_loss: 0.3300 - val_acc: 0.8889\n",
      "Epoch 75/200\n",
      "105/105 [==============================] - 0s 447us/step - loss: 0.1819 - acc: 0.9333 - val_loss: 0.1752 - val_acc: 0.9556\n",
      "Epoch 76/200\n",
      "105/105 [==============================] - 0s 314us/step - loss: 0.1597 - acc: 0.9333 - val_loss: 0.1272 - val_acc: 0.9333\n",
      "Epoch 77/200\n",
      "105/105 [==============================] - 0s 393us/step - loss: 0.1297 - acc: 0.9333 - val_loss: 0.1567 - val_acc: 0.9556\n",
      "Epoch 78/200\n",
      "105/105 [==============================] - 0s 590us/step - loss: 0.1053 - acc: 0.9714 - val_loss: 0.1326 - val_acc: 0.9333\n",
      "Epoch 79/200\n",
      "105/105 [==============================] - 0s 297us/step - loss: 0.0764 - acc: 0.9714 - val_loss: 0.1233 - val_acc: 0.9333\n",
      "Epoch 80/200\n",
      "105/105 [==============================] - 0s 200us/step - loss: 0.0680 - acc: 0.9714 - val_loss: 0.1276 - val_acc: 0.9333\n",
      "Epoch 81/200\n",
      "105/105 [==============================] - 0s 303us/step - loss: 0.2656 - acc: 0.8952 - val_loss: 0.1477 - val_acc: 0.9556\n",
      "Epoch 82/200\n",
      "105/105 [==============================] - 0s 241us/step - loss: 0.0704 - acc: 0.9810 - val_loss: 0.2313 - val_acc: 0.9111\n",
      "Epoch 83/200\n",
      "105/105 [==============================] - 0s 591us/step - loss: 0.1134 - acc: 0.9524 - val_loss: 0.1897 - val_acc: 0.9111\n",
      "Epoch 84/200\n",
      "105/105 [==============================] - 0s 589us/step - loss: 0.0903 - acc: 0.9714 - val_loss: 0.1294 - val_acc: 0.9333\n",
      "Epoch 85/200\n",
      "105/105 [==============================] - 0s 422us/step - loss: 0.0631 - acc: 0.9810 - val_loss: 0.2103 - val_acc: 0.9111\n",
      "Epoch 86/200\n",
      "105/105 [==============================] - 0s 485us/step - loss: 0.1216 - acc: 0.9429 - val_loss: 0.3329 - val_acc: 0.8889\n",
      "Epoch 87/200\n",
      "105/105 [==============================] - 0s 285us/step - loss: 0.0879 - acc: 0.9714 - val_loss: 0.1215 - val_acc: 0.9111\n",
      "Epoch 88/200\n",
      "105/105 [==============================] - 0s 624us/step - loss: 0.0610 - acc: 0.9810 - val_loss: 0.3177 - val_acc: 0.8889\n",
      "Epoch 89/200\n",
      "105/105 [==============================] - 0s 229us/step - loss: 0.0785 - acc: 0.9524 - val_loss: 0.2329 - val_acc: 0.9333\n",
      "Epoch 90/200\n",
      "105/105 [==============================] - 0s 438us/step - loss: 0.1062 - acc: 0.9524 - val_loss: 0.1622 - val_acc: 0.9556\n",
      "Epoch 91/200\n",
      "105/105 [==============================] - 0s 421us/step - loss: 0.0673 - acc: 0.9714 - val_loss: 0.1262 - val_acc: 0.9111\n",
      "Epoch 92/200\n",
      "105/105 [==============================] - 0s 322us/step - loss: 0.0812 - acc: 0.9714 - val_loss: 0.1329 - val_acc: 0.9333\n",
      "Epoch 93/200\n",
      "105/105 [==============================] - 0s 371us/step - loss: 0.0988 - acc: 0.9524 - val_loss: 0.1915 - val_acc: 0.9333\n",
      "Epoch 94/200\n",
      "105/105 [==============================] - 0s 337us/step - loss: 0.0669 - acc: 0.9619 - val_loss: 0.1392 - val_acc: 0.9333\n",
      "Epoch 95/200\n",
      "105/105 [==============================] - 0s 341us/step - loss: 0.1053 - acc: 0.9524 - val_loss: 0.1517 - val_acc: 0.9556\n",
      "Epoch 96/200\n",
      "105/105 [==============================] - 0s 362us/step - loss: 0.0805 - acc: 0.9810 - val_loss: 0.3371 - val_acc: 0.8889\n",
      "Epoch 97/200\n",
      "105/105 [==============================] - 0s 476us/step - loss: 0.1370 - acc: 0.9238 - val_loss: 0.1423 - val_acc: 0.9333\n",
      "Epoch 98/200\n",
      "105/105 [==============================] - 0s 408us/step - loss: 0.1395 - acc: 0.9238 - val_loss: 0.1264 - val_acc: 0.9111\n",
      "Epoch 99/200\n",
      "105/105 [==============================] - 0s 385us/step - loss: 0.0778 - acc: 0.9619 - val_loss: 0.1384 - val_acc: 0.9333\n",
      "Epoch 100/200\n",
      "105/105 [==============================] - 0s 476us/step - loss: 0.0838 - acc: 0.9524 - val_loss: 0.2338 - val_acc: 0.9111\n",
      "Epoch 101/200\n",
      "105/105 [==============================] - 0s 382us/step - loss: 0.0488 - acc: 0.9810 - val_loss: 0.2601 - val_acc: 0.9333\n",
      "Epoch 102/200\n",
      "105/105 [==============================] - 0s 348us/step - loss: 0.1232 - acc: 0.9619 - val_loss: 0.1504 - val_acc: 0.9333\n",
      "Epoch 103/200\n",
      "105/105 [==============================] - 0s 290us/step - loss: 0.0871 - acc: 0.9619 - val_loss: 0.1645 - val_acc: 0.9556\n",
      "Epoch 104/200\n",
      "105/105 [==============================] - 0s 162us/step - loss: 0.0639 - acc: 0.9714 - val_loss: 0.2021 - val_acc: 0.9556\n",
      "Epoch 105/200\n",
      "105/105 [==============================] - 0s 146us/step - loss: 0.1526 - acc: 0.9429 - val_loss: 0.1374 - val_acc: 0.9111\n",
      "Epoch 106/200\n",
      "105/105 [==============================] - 0s 303us/step - loss: 0.1300 - acc: 0.9429 - val_loss: 0.1386 - val_acc: 0.9111\n",
      "Epoch 107/200\n",
      "105/105 [==============================] - 0s 358us/step - loss: 0.1091 - acc: 0.9429 - val_loss: 0.1363 - val_acc: 0.9111\n",
      "Epoch 108/200\n",
      "105/105 [==============================] - 0s 292us/step - loss: 0.0621 - acc: 0.9810 - val_loss: 0.2153 - val_acc: 0.9111\n",
      "Epoch 109/200\n",
      "105/105 [==============================] - 0s 451us/step - loss: 0.0900 - acc: 0.9619 - val_loss: 0.1556 - val_acc: 0.9556\n",
      "Epoch 110/200\n",
      "105/105 [==============================] - 0s 434us/step - loss: 0.0735 - acc: 0.9524 - val_loss: 0.2595 - val_acc: 0.9111\n",
      "Epoch 111/200\n",
      "105/105 [==============================] - 0s 371us/step - loss: 0.1083 - acc: 0.9524 - val_loss: 0.1317 - val_acc: 0.9111\n",
      "Epoch 112/200\n",
      "105/105 [==============================] - 0s 305us/step - loss: 0.1418 - acc: 0.9333 - val_loss: 0.1321 - val_acc: 0.9111\n",
      "Epoch 113/200\n",
      "105/105 [==============================] - 0s 329us/step - loss: 0.0688 - acc: 0.9619 - val_loss: 0.2169 - val_acc: 0.9333\n",
      "Epoch 114/200\n",
      "105/105 [==============================] - 0s 267us/step - loss: 0.0693 - acc: 0.9714 - val_loss: 0.2722 - val_acc: 0.9111\n",
      "Epoch 115/200\n",
      "105/105 [==============================] - 0s 305us/step - loss: 0.0899 - acc: 0.9524 - val_loss: 0.1455 - val_acc: 0.9333\n",
      "Epoch 116/200\n",
      "105/105 [==============================] - 0s 334us/step - loss: 0.1478 - acc: 0.9143 - val_loss: 0.2011 - val_acc: 0.9556\n",
      "Epoch 117/200\n",
      "105/105 [==============================] - 0s 305us/step - loss: 0.0299 - acc: 1.0000 - val_loss: 0.2109 - val_acc: 0.9556\n",
      "Epoch 118/200\n",
      "105/105 [==============================] - 0s 285us/step - loss: 0.0964 - acc: 0.9714 - val_loss: 0.1353 - val_acc: 0.9111\n",
      "Epoch 119/200\n",
      "105/105 [==============================] - 0s 305us/step - loss: 0.0519 - acc: 0.9810 - val_loss: 0.1440 - val_acc: 0.9333\n",
      "Epoch 120/200\n",
      "105/105 [==============================] - 0s 316us/step - loss: 0.0771 - acc: 0.9619 - val_loss: 0.1426 - val_acc: 0.9111\n",
      "Epoch 121/200\n"
     ]
    },
    {
     "name": "stdout",
     "output_type": "stream",
     "text": [
      "105/105 [==============================] - 0s 285us/step - loss: 0.0767 - acc: 0.9524 - val_loss: 0.2144 - val_acc: 0.9556\n",
      "Epoch 122/200\n",
      "105/105 [==============================] - 0s 303us/step - loss: 0.0734 - acc: 0.9619 - val_loss: 0.1618 - val_acc: 0.9556\n",
      "Epoch 123/200\n",
      "105/105 [==============================] - 0s 266us/step - loss: 0.0805 - acc: 0.9714 - val_loss: 0.1319 - val_acc: 0.9111\n",
      "Epoch 124/200\n",
      "105/105 [==============================] - 0s 435us/step - loss: 0.0761 - acc: 0.9714 - val_loss: 0.2402 - val_acc: 0.9111\n",
      "Epoch 125/200\n",
      "105/105 [==============================] - 0s 329us/step - loss: 0.1022 - acc: 0.9333 - val_loss: 0.1354 - val_acc: 0.9111\n",
      "Epoch 126/200\n",
      "105/105 [==============================] - 0s 256us/step - loss: 0.0832 - acc: 0.9619 - val_loss: 0.3254 - val_acc: 0.9111\n",
      "Epoch 127/200\n",
      "105/105 [==============================] - 0s 375us/step - loss: 0.0577 - acc: 0.9714 - val_loss: 0.5801 - val_acc: 0.7778\n",
      "Epoch 128/200\n",
      "105/105 [==============================] - 0s 128us/step - loss: 0.0944 - acc: 0.9619 - val_loss: 0.2139 - val_acc: 0.9556\n",
      "Epoch 129/200\n",
      "105/105 [==============================] - 0s 315us/step - loss: 0.1289 - acc: 0.9238 - val_loss: 0.1331 - val_acc: 0.9111\n",
      "Epoch 130/200\n",
      "105/105 [==============================] - 0s 272us/step - loss: 0.0496 - acc: 0.9905 - val_loss: 0.1422 - val_acc: 0.9111\n",
      "Epoch 131/200\n",
      "105/105 [==============================] - 0s 221us/step - loss: 0.0603 - acc: 0.9810 - val_loss: 0.1449 - val_acc: 0.9111\n",
      "Epoch 132/200\n",
      "105/105 [==============================] - 0s 242us/step - loss: 0.1003 - acc: 0.9619 - val_loss: 0.1642 - val_acc: 0.9556\n",
      "Epoch 133/200\n",
      "105/105 [==============================] - 0s 137us/step - loss: 0.0911 - acc: 0.9619 - val_loss: 0.2300 - val_acc: 0.9111\n",
      "Epoch 134/200\n",
      "105/105 [==============================] - 0s 266us/step - loss: 0.0733 - acc: 0.9714 - val_loss: 0.2765 - val_acc: 0.9111\n",
      "Epoch 135/200\n",
      "105/105 [==============================] - 0s 402us/step - loss: 0.0829 - acc: 0.9524 - val_loss: 0.1509 - val_acc: 0.9333\n",
      "Epoch 136/200\n",
      "105/105 [==============================] - 0s 488us/step - loss: 0.0436 - acc: 0.9810 - val_loss: 0.1659 - val_acc: 0.9556\n",
      "Epoch 137/200\n",
      "105/105 [==============================] - 0s 351us/step - loss: 0.0715 - acc: 0.9714 - val_loss: 0.3054 - val_acc: 0.9111\n",
      "Epoch 138/200\n",
      "105/105 [==============================] - 0s 323us/step - loss: 0.0718 - acc: 0.9619 - val_loss: 0.2778 - val_acc: 0.9111\n",
      "Epoch 139/200\n",
      "105/105 [==============================] - 0s 323us/step - loss: 0.0640 - acc: 0.9810 - val_loss: 0.1673 - val_acc: 0.9556\n",
      "Epoch 140/200\n",
      "105/105 [==============================] - 0s 313us/step - loss: 0.0546 - acc: 0.9810 - val_loss: 0.1502 - val_acc: 0.9111\n",
      "Epoch 141/200\n",
      "105/105 [==============================] - 0s 294us/step - loss: 0.0652 - acc: 0.9619 - val_loss: 0.1670 - val_acc: 0.9556\n",
      "Epoch 142/200\n",
      "105/105 [==============================] - 0s 285us/step - loss: 0.0839 - acc: 0.9714 - val_loss: 0.1457 - val_acc: 0.9111\n",
      "Epoch 143/200\n",
      "105/105 [==============================] - 0s 304us/step - loss: 0.0902 - acc: 0.9524 - val_loss: 0.1359 - val_acc: 0.9111\n",
      "Epoch 144/200\n",
      "105/105 [==============================] - 0s 247us/step - loss: 0.0746 - acc: 0.9714 - val_loss: 0.2630 - val_acc: 0.9111\n",
      "Epoch 145/200\n",
      "105/105 [==============================] - 0s 247us/step - loss: 0.0691 - acc: 0.9524 - val_loss: 0.2068 - val_acc: 0.9556\n",
      "Epoch 146/200\n",
      "105/105 [==============================] - 0s 228us/step - loss: 0.0409 - acc: 0.9905 - val_loss: 0.2061 - val_acc: 0.9556\n",
      "Epoch 147/200\n",
      "105/105 [==============================] - 0s 251us/step - loss: 0.0889 - acc: 0.9619 - val_loss: 0.1508 - val_acc: 0.9111\n",
      "Epoch 148/200\n",
      "105/105 [==============================] - 0s 147us/step - loss: 0.0749 - acc: 0.9619 - val_loss: 0.1960 - val_acc: 0.9556\n",
      "Epoch 149/200\n",
      "105/105 [==============================] - 0s 287us/step - loss: 0.0918 - acc: 0.9619 - val_loss: 0.1708 - val_acc: 0.9556\n",
      "Epoch 150/200\n",
      "105/105 [==============================] - 0s 304us/step - loss: 0.0476 - acc: 0.9810 - val_loss: 0.1515 - val_acc: 0.9111\n",
      "Epoch 151/200\n",
      "105/105 [==============================] - 0s 323us/step - loss: 0.0696 - acc: 0.9619 - val_loss: 0.1779 - val_acc: 0.9556\n",
      "Epoch 152/200\n",
      "105/105 [==============================] - 0s 316us/step - loss: 0.0553 - acc: 0.9810 - val_loss: 0.2818 - val_acc: 0.9111\n",
      "Epoch 153/200\n",
      "105/105 [==============================] - 0s 156us/step - loss: 0.0961 - acc: 0.9714 - val_loss: 0.1508 - val_acc: 0.9111\n",
      "Epoch 154/200\n",
      "105/105 [==============================] - 0s 379us/step - loss: 0.0486 - acc: 0.9714 - val_loss: 0.1418 - val_acc: 0.9111\n",
      "Epoch 155/200\n",
      "105/105 [==============================] - 0s 280us/step - loss: 0.0816 - acc: 0.9619 - val_loss: 0.1427 - val_acc: 0.9111\n",
      "Epoch 156/200\n",
      "105/105 [==============================] - 0s 147us/step - loss: 0.0651 - acc: 0.9714 - val_loss: 0.1459 - val_acc: 0.9111\n",
      "Epoch 157/200\n",
      "105/105 [==============================] - 0s 325us/step - loss: 0.0741 - acc: 0.9619 - val_loss: 0.1461 - val_acc: 0.9111\n",
      "Epoch 158/200\n",
      "105/105 [==============================] - 0s 179us/step - loss: 0.0404 - acc: 0.9810 - val_loss: 0.1655 - val_acc: 0.9333\n",
      "Epoch 159/200\n",
      "105/105 [==============================] - 0s 364us/step - loss: 0.1267 - acc: 0.9524 - val_loss: 0.1495 - val_acc: 0.9111\n",
      "Epoch 160/200\n",
      "105/105 [==============================] - 0s 295us/step - loss: 0.0609 - acc: 0.9619 - val_loss: 0.1449 - val_acc: 0.9111\n",
      "Epoch 161/200\n",
      "105/105 [==============================] - 0s 167us/step - loss: 0.0715 - acc: 0.9619 - val_loss: 0.2906 - val_acc: 0.9111\n",
      "Epoch 162/200\n",
      "105/105 [==============================] - 0s 360us/step - loss: 0.0772 - acc: 0.9714 - val_loss: 0.2036 - val_acc: 0.9556\n",
      "Epoch 163/200\n",
      "105/105 [==============================] - 0s 271us/step - loss: 0.0663 - acc: 0.9714 - val_loss: 0.2719 - val_acc: 0.9111\n",
      "Epoch 164/200\n",
      "105/105 [==============================] - 0s 269us/step - loss: 0.0498 - acc: 0.9810 - val_loss: 0.1598 - val_acc: 0.9111\n",
      "Epoch 165/200\n",
      "105/105 [==============================] - 0s 124us/step - loss: 0.0443 - acc: 0.9810 - val_loss: 0.2444 - val_acc: 0.9333\n",
      "Epoch 166/200\n",
      "105/105 [==============================] - 0s 371us/step - loss: 0.0895 - acc: 0.9714 - val_loss: 0.1907 - val_acc: 0.9556\n",
      "Epoch 167/200\n",
      "105/105 [==============================] - 0s 267us/step - loss: 0.0705 - acc: 0.9714 - val_loss: 0.1531 - val_acc: 0.9111\n",
      "Epoch 168/200\n",
      "105/105 [==============================] - 0s 300us/step - loss: 0.0559 - acc: 0.9810 - val_loss: 0.1458 - val_acc: 0.9111\n",
      "Epoch 169/200\n",
      "105/105 [==============================] - 0s 270us/step - loss: 0.1474 - acc: 0.9429 - val_loss: 0.1486 - val_acc: 0.9111\n",
      "Epoch 170/200\n",
      "105/105 [==============================] - 0s 135us/step - loss: 0.0803 - acc: 0.9524 - val_loss: 0.1995 - val_acc: 0.9556\n",
      "Epoch 171/200\n",
      "105/105 [==============================] - 0s 210us/step - loss: 0.0810 - acc: 0.9619 - val_loss: 0.2471 - val_acc: 0.9333\n",
      "Epoch 172/200\n",
      "105/105 [==============================] - 0s 266us/step - loss: 0.0726 - acc: 0.9714 - val_loss: 0.2013 - val_acc: 0.9556\n",
      "Epoch 173/200\n",
      "105/105 [==============================] - 0s 282us/step - loss: 0.0763 - acc: 0.9714 - val_loss: 0.1454 - val_acc: 0.9111\n",
      "Epoch 174/200\n",
      "105/105 [==============================] - 0s 298us/step - loss: 0.0612 - acc: 0.9619 - val_loss: 0.1454 - val_acc: 0.9111\n",
      "Epoch 175/200\n",
      "105/105 [==============================] - 0s 265us/step - loss: 0.0743 - acc: 0.9619 - val_loss: 0.1479 - val_acc: 0.9111\n",
      "Epoch 176/200\n",
      "105/105 [==============================] - 0s 267us/step - loss: 0.0609 - acc: 0.9714 - val_loss: 0.1645 - val_acc: 0.9111\n",
      "Epoch 177/200\n",
      "105/105 [==============================] - 0s 248us/step - loss: 0.0692 - acc: 0.9714 - val_loss: 0.2208 - val_acc: 0.9556\n",
      "Epoch 178/200\n",
      "105/105 [==============================] - 0s 304us/step - loss: 0.1191 - acc: 0.9524 - val_loss: 0.1582 - val_acc: 0.9333\n",
      "Epoch 179/200\n",
      "105/105 [==============================] - 0s 267us/step - loss: 0.0452 - acc: 0.9810 - val_loss: 0.1712 - val_acc: 0.9111\n",
      "Epoch 180/200\n",
      "105/105 [==============================] - 0s 326us/step - loss: 0.1023 - acc: 0.9619 - val_loss: 0.1520 - val_acc: 0.9111\n"
     ]
    },
    {
     "name": "stdout",
     "output_type": "stream",
     "text": [
      "Epoch 181/200\n",
      "105/105 [==============================] - 0s 246us/step - loss: 0.0481 - acc: 0.9810 - val_loss: 0.1478 - val_acc: 0.9111\n",
      "Epoch 182/200\n",
      "105/105 [==============================] - 0s 259us/step - loss: 0.0651 - acc: 0.9619 - val_loss: 0.2140 - val_acc: 0.9556\n",
      "Epoch 183/200\n",
      "105/105 [==============================] - 0s 170us/step - loss: 0.0934 - acc: 0.9524 - val_loss: 0.2026 - val_acc: 0.9556\n",
      "Epoch 184/200\n",
      "105/105 [==============================] - 0s 249us/step - loss: 0.1278 - acc: 0.9524 - val_loss: 0.1476 - val_acc: 0.9111\n",
      "Epoch 185/200\n",
      "105/105 [==============================] - 0s 154us/step - loss: 0.0810 - acc: 0.9714 - val_loss: 0.2375 - val_acc: 0.9333\n",
      "Epoch 186/200\n",
      "105/105 [==============================] - 0s 185us/step - loss: 0.0688 - acc: 0.9524 - val_loss: 0.1598 - val_acc: 0.9111\n",
      "Epoch 187/200\n",
      "105/105 [==============================] - 0s 158us/step - loss: 0.0690 - acc: 0.9619 - val_loss: 0.1470 - val_acc: 0.9111\n",
      "Epoch 188/200\n",
      "105/105 [==============================] - 0s 230us/step - loss: 0.0918 - acc: 0.9619 - val_loss: 0.1716 - val_acc: 0.9111\n",
      "Epoch 189/200\n",
      "105/105 [==============================] - 0s 228us/step - loss: 0.0445 - acc: 0.9810 - val_loss: 0.1519 - val_acc: 0.9111\n",
      "Epoch 190/200\n",
      "105/105 [==============================] - 0s 398us/step - loss: 0.0755 - acc: 0.9619 - val_loss: 0.2574 - val_acc: 0.9111\n",
      "Epoch 191/200\n",
      "105/105 [==============================] - 0s 124us/step - loss: 0.0768 - acc: 0.9619 - val_loss: 0.1471 - val_acc: 0.9111\n",
      "Epoch 192/200\n",
      "105/105 [==============================] - 0s 393us/step - loss: 0.0614 - acc: 0.9714 - val_loss: 0.2527 - val_acc: 0.9333\n",
      "Epoch 193/200\n",
      "105/105 [==============================] - 0s 208us/step - loss: 0.0807 - acc: 0.9810 - val_loss: 0.1480 - val_acc: 0.9111\n",
      "Epoch 194/200\n",
      "105/105 [==============================] - 0s 206us/step - loss: 0.0512 - acc: 0.9905 - val_loss: 0.2538 - val_acc: 0.9333\n",
      "Epoch 195/200\n",
      "105/105 [==============================] - 0s 176us/step - loss: 0.0523 - acc: 0.9810 - val_loss: 0.1521 - val_acc: 0.9111\n",
      "Epoch 196/200\n",
      "105/105 [==============================] - 0s 268us/step - loss: 0.0989 - acc: 0.9619 - val_loss: 0.1502 - val_acc: 0.9111\n",
      "Epoch 197/200\n",
      "105/105 [==============================] - 0s 226us/step - loss: 0.0875 - acc: 0.9619 - val_loss: 0.1498 - val_acc: 0.9111\n",
      "Epoch 198/200\n",
      "105/105 [==============================] - 0s 261us/step - loss: 0.0398 - acc: 0.9905 - val_loss: 0.1567 - val_acc: 0.9333\n",
      "Epoch 199/200\n",
      "105/105 [==============================] - 0s 358us/step - loss: 0.0607 - acc: 0.9810 - val_loss: 0.1628 - val_acc: 0.9333\n",
      "Epoch 200/200\n",
      "105/105 [==============================] - 0s 103us/step - loss: 0.1061 - acc: 0.9524 - val_loss: 0.1629 - val_acc: 0.9111\n"
     ]
    },
    {
     "data": {
      "text/plain": [
       "<tensorflow.python.keras.callbacks.History at 0x26740700ac8>"
      ]
     },
     "execution_count": 61,
     "metadata": {},
     "output_type": "execute_result"
    }
   ],
   "source": [
    "model.fit(X_train, y_train,validation_data=(X_test,y_test), batch_size=5, epochs=200)"
   ]
  },
  {
   "cell_type": "code",
   "execution_count": 62,
   "metadata": {
    "colab": {
     "base_uri": "https://localhost:8080/",
     "height": 306
    },
    "colab_type": "code",
    "id": "SdAhmLlaEkVB",
    "outputId": "d8174dad-7bbb-4623-bd9b-1f4623070773"
   },
   "outputs": [
    {
     "name": "stdout",
     "output_type": "stream",
     "text": [
      "Neural Network Model Summary: \n",
      "_________________________________________________________________\n",
      "Layer (type)                 Output Shape              Param #   \n",
      "=================================================================\n",
      "batch_normalization_2 (Batch multiple                  16        \n",
      "_________________________________________________________________\n",
      "fc1 (Dense)                  multiple                  50        \n",
      "_________________________________________________________________\n",
      "fc2 (Dense)                  multiple                  88        \n",
      "_________________________________________________________________\n",
      "output (Dense)               multiple                  27        \n",
      "=================================================================\n",
      "Total params: 181\n",
      "Trainable params: 173\n",
      "Non-trainable params: 8\n",
      "_________________________________________________________________\n",
      "None\n"
     ]
    }
   ],
   "source": [
    "print('Neural Network Model Summary: ')\n",
    "print(model.summary())"
   ]
  },
  {
   "cell_type": "code",
   "execution_count": 63,
   "metadata": {
    "colab": {
     "base_uri": "https://localhost:8080/",
     "height": 34
    },
    "colab_type": "code",
    "id": "BsdbiI-S_uPz",
    "outputId": "611c458b-4ee0-4a39-ccd5-65da0a4a28f1"
   },
   "outputs": [
    {
     "data": {
      "text/plain": [
       "(1, 4)"
      ]
     },
     "execution_count": 63,
     "metadata": {},
     "output_type": "execute_result"
    }
   ],
   "source": [
    "X_test[0:1].shape"
   ]
  },
  {
   "cell_type": "code",
   "execution_count": 64,
   "metadata": {
    "colab": {
     "base_uri": "https://localhost:8080/",
     "height": 51
    },
    "colab_type": "code",
    "id": "_JEKVmv5_4s2",
    "outputId": "9dbeca8a-7049-4350-c1b4-28d42abf4632"
   },
   "outputs": [
    {
     "name": "stdout",
     "output_type": "stream",
     "text": [
      "[0. 0. 1.]\n",
      "[2.8043034e-06 1.6909896e-04 9.9982810e-01]\n"
     ]
    }
   ],
   "source": [
    "#Actual Label for the first example in test dataset\n",
    "print(y_test[0])\n",
    "\n",
    "#Model prediction\n",
    "prediction = model.predict(X_test[0:1])\n",
    "\n",
    "#Print prediction\n",
    "print(prediction[0])"
   ]
  },
  {
   "cell_type": "code",
   "execution_count": 65,
   "metadata": {
    "colab": {
     "base_uri": "https://localhost:8080/",
     "height": 34
    },
    "colab_type": "code",
    "id": "kOxtOz1oADJg",
    "outputId": "364d90d0-5288-4740-b70e-a305f4e38f54"
   },
   "outputs": [
    {
     "name": "stdout",
     "output_type": "stream",
     "text": [
      "2\n"
     ]
    }
   ],
   "source": [
    "import numpy as np\n",
    "\n",
    "#Get predicted number with highest probability\n",
    "predicted_num = np.argmax(prediction[0])\n",
    "\n",
    "#Print the number\n",
    "print(predicted_num)"
   ]
  },
  {
   "cell_type": "code",
   "execution_count": 66,
   "metadata": {
    "colab": {
     "base_uri": "https://localhost:8080/",
     "height": 34
    },
    "colab_type": "code",
    "id": "BivZHtivgBjS",
    "outputId": "0c106d0f-36f6-49dd-a4b6-13dfb21882f6"
   },
   "outputs": [
    {
     "name": "stdout",
     "output_type": "stream",
     "text": [
      "45/45 [==============================] - 0s 347us/step\n"
     ]
    }
   ],
   "source": [
    "results = model.evaluate(X_test, y_test)"
   ]
  },
  {
   "cell_type": "code",
   "execution_count": null,
   "metadata": {
    "colab": {},
    "colab_type": "code",
    "id": "BfRz3z-vACWz"
   },
   "outputs": [],
   "source": []
  },
  {
   "cell_type": "markdown",
   "metadata": {
    "colab_type": "text",
    "id": "CLYIKo01gBjU"
   },
   "source": [
    "### Report Accuracy of the predicted values"
   ]
  },
  {
   "cell_type": "code",
   "execution_count": 67,
   "metadata": {
    "colab": {
     "base_uri": "https://localhost:8080/",
     "height": 51
    },
    "colab_type": "code",
    "id": "BZ8-zruFgBjV",
    "outputId": "9b6b4b54-f1c0-46b9-dbb1-89ad3ceb5a7c"
   },
   "outputs": [
    {
     "name": "stdout",
     "output_type": "stream",
     "text": [
      "Final test set loss: 0.162908\n",
      "Final test set accuracy: 0.911111\n"
     ]
    }
   ],
   "source": [
    "print('Final test set loss: {:4f}'.format(results[0]))\n",
    "print('Final test set accuracy: {:4f}'.format(results[1]))"
   ]
  },
  {
   "cell_type": "code",
   "execution_count": 0,
   "metadata": {
    "colab": {},
    "colab_type": "code",
    "id": "VHZai2IoCGdj"
   },
   "outputs": [],
   "source": []
  }
 ],
 "metadata": {
  "colab": {
   "name": "R6_InternalLab_AIML.ipynb",
   "provenance": [],
   "version": "0.3.2"
  },
  "kernelspec": {
   "display_name": "Python 3",
   "language": "python",
   "name": "python3"
  },
  "language_info": {
   "codemirror_mode": {
    "name": "ipython",
    "version": 3
   },
   "file_extension": ".py",
   "mimetype": "text/x-python",
   "name": "python",
   "nbconvert_exporter": "python",
   "pygments_lexer": "ipython3",
   "version": "3.6.5"
  }
 },
 "nbformat": 4,
 "nbformat_minor": 1
}
